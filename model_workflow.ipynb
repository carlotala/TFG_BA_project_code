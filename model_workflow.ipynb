{
  "cells": [
    {
      "cell_type": "code",
      "execution_count": 1,
      "metadata": {
        "id": "kvG7HPPi9P2v"
      },
      "outputs": [],
      "source": [
        "# libraries\n",
        "import pandas as pd\n",
        "\n",
        "from sklearn.model_selection import train_test_split\n",
        "from sklearn.preprocessing import MinMaxScaler\n",
        "from sklearn.metrics import (confusion_matrix, accuracy_score, classification_report, roc_curve, auc)\n",
        "\n",
        "import plotly.figure_factory as ff\n",
        "import plotly.graph_objects as go\n",
        "from plotly.subplots import make_subplots\n",
        "\n",
        "from keras.preprocessing.image import ImageDataGenerator\n",
        "from tensorflow import keras\n",
        "from keras.models import Model, load_model\n",
        "from keras.layers import Input, Conv2D, MaxPooling2D, Flatten, Dense, BatchNormalization, Dropout\n",
        "from tensorflow.keras.applications import VGG16\n",
        "from tensorflow.keras.callbacks import LearningRateScheduler\n",
        "from tensorflow.keras.utils import plot_model\n",
        "\n",
        "import numpy as np"
      ]
    },
    {
      "cell_type": "code",
      "execution_count": 2,
      "metadata": {
        "id": "rlvybR-e9P2z"
      },
      "outputs": [],
      "source": [
        "labels = ['alert', 'slight_drowsy','mod_drowsy','very_drowsy'] # alert, slightly drowsy, moderately drowsy and very drowsy"
      ]
    },
    {
      "cell_type": "code",
      "execution_count": 16,
      "metadata": {
        "id": "-1eYIq7R9P2z"
      },
      "outputs": [],
      "source": [
        "# Load the CSV file into a DataFrame\n",
        "train_df = pd.read_csv('data/features/data_features_train_sampled_filt.csv')\n",
        "val_df = pd.read_csv('data/features/data_features_val_sampled_filt.csv')\n",
        "test_df = pd.read_csv('data/features/data_features_test_sampled_filt.csv')\n",
        "\n",
        "dfs = {'train': train_df, 'val': val_df, 'test': test_df}\n",
        "dfs_encoded = {}\n",
        "\n",
        "for name, df in dfs.items():\n",
        "  # Perform one-hot encoding using get_dummies()\n",
        "  encoded_columns = pd.get_dummies(df['target'])\n",
        "\n",
        "  # Reorder the columns of encoded_columns to match the desired order\n",
        "  encoded_columns = encoded_columns[labels]\n",
        "\n",
        "  # Concatenate the one-hot encoded columns with the original DataFrame\n",
        "  df_encoded = pd.concat([df, encoded_columns], axis=1)\n",
        "\n",
        "  dfs_encoded[name] = df_encoded\n",
        "\n",
        "train_df = dfs_encoded['train']\n",
        "val_df = dfs_encoded['val']\n",
        "test_df = dfs_encoded['test']\n"
      ]
    },
    {
      "cell_type": "code",
      "execution_count": 17,
      "metadata": {
        "colab": {
          "base_uri": "https://localhost:8080/"
        },
        "id": "YxZbgR-br6ba",
        "outputId": "ec95d7c1-4fc2-4ce8-83cd-488c803f5406"
      },
      "outputs": [
        {
          "name": "stdout",
          "output_type": "stream",
          "text": [
            "(1385, 12) (296, 12) (300, 12)\n"
          ]
        }
      ],
      "source": [
        "print(train_df.shape,val_df.shape,test_df.shape)"
      ]
    },
    {
      "cell_type": "code",
      "execution_count": 18,
      "metadata": {
        "colab": {
          "base_uri": "https://localhost:8080/",
          "height": 270
        },
        "id": "fXsxeX17ry_G",
        "outputId": "989a23a6-f2dc-4a06-da49-0b7be6ffd931"
      },
      "outputs": [
        {
          "data": {
            "text/html": [
              "<div>\n",
              "<style scoped>\n",
              "    .dataframe tbody tr th:only-of-type {\n",
              "        vertical-align: middle;\n",
              "    }\n",
              "\n",
              "    .dataframe tbody tr th {\n",
              "        vertical-align: top;\n",
              "    }\n",
              "\n",
              "    .dataframe thead th {\n",
              "        text-align: right;\n",
              "    }\n",
              "</style>\n",
              "<table border=\"1\" class=\"dataframe\">\n",
              "  <thead>\n",
              "    <tr style=\"text-align: right;\">\n",
              "      <th></th>\n",
              "      <th>blinks</th>\n",
              "      <th>right_EAR</th>\n",
              "      <th>left_EAR</th>\n",
              "      <th>blink_duration</th>\n",
              "      <th>blink_frequency</th>\n",
              "      <th>MAR</th>\n",
              "      <th>image</th>\n",
              "      <th>target</th>\n",
              "      <th>alert</th>\n",
              "      <th>slight_drowsy</th>\n",
              "      <th>mod_drowsy</th>\n",
              "      <th>very_drowsy</th>\n",
              "    </tr>\n",
              "  </thead>\n",
              "  <tbody>\n",
              "    <tr>\n",
              "      <th>0</th>\n",
              "      <td>0</td>\n",
              "      <td>0.461037</td>\n",
              "      <td>0.484335</td>\n",
              "      <td>0.083333</td>\n",
              "      <td>12.000000</td>\n",
              "      <td>0.062207</td>\n",
              "      <td>alert_3_1519.png</td>\n",
              "      <td>alert</td>\n",
              "      <td>1</td>\n",
              "      <td>0</td>\n",
              "      <td>0</td>\n",
              "      <td>0</td>\n",
              "    </tr>\n",
              "    <tr>\n",
              "      <th>1</th>\n",
              "      <td>0</td>\n",
              "      <td>0.495449</td>\n",
              "      <td>0.504062</td>\n",
              "      <td>0.071331</td>\n",
              "      <td>10.960894</td>\n",
              "      <td>0.080176</td>\n",
              "      <td>alert_3_640.png</td>\n",
              "      <td>alert</td>\n",
              "      <td>1</td>\n",
              "      <td>0</td>\n",
              "      <td>0</td>\n",
              "      <td>0</td>\n",
              "    </tr>\n",
              "    <tr>\n",
              "      <th>2</th>\n",
              "      <td>0</td>\n",
              "      <td>0.451969</td>\n",
              "      <td>0.475556</td>\n",
              "      <td>0.033333</td>\n",
              "      <td>12.000000</td>\n",
              "      <td>0.039810</td>\n",
              "      <td>alert_3_370.png</td>\n",
              "      <td>alert</td>\n",
              "      <td>1</td>\n",
              "      <td>0</td>\n",
              "      <td>0</td>\n",
              "      <td>0</td>\n",
              "    </tr>\n",
              "    <tr>\n",
              "      <th>3</th>\n",
              "      <td>0</td>\n",
              "      <td>0.539679</td>\n",
              "      <td>0.603035</td>\n",
              "      <td>0.033333</td>\n",
              "      <td>6.000000</td>\n",
              "      <td>0.051138</td>\n",
              "      <td>alert_1_775.png</td>\n",
              "      <td>alert</td>\n",
              "      <td>1</td>\n",
              "      <td>0</td>\n",
              "      <td>0</td>\n",
              "      <td>0</td>\n",
              "    </tr>\n",
              "    <tr>\n",
              "      <th>4</th>\n",
              "      <td>0</td>\n",
              "      <td>0.626182</td>\n",
              "      <td>0.671741</td>\n",
              "      <td>0.033333</td>\n",
              "      <td>6.000000</td>\n",
              "      <td>0.055254</td>\n",
              "      <td>alert_1_617.png</td>\n",
              "      <td>alert</td>\n",
              "      <td>1</td>\n",
              "      <td>0</td>\n",
              "      <td>0</td>\n",
              "      <td>0</td>\n",
              "    </tr>\n",
              "  </tbody>\n",
              "</table>\n",
              "</div>"
            ],
            "text/plain": [
              "   blinks  right_EAR  left_EAR  blink_duration  blink_frequency       MAR  \\\n",
              "0       0   0.461037  0.484335        0.083333        12.000000  0.062207   \n",
              "1       0   0.495449  0.504062        0.071331        10.960894  0.080176   \n",
              "2       0   0.451969  0.475556        0.033333        12.000000  0.039810   \n",
              "3       0   0.539679  0.603035        0.033333         6.000000  0.051138   \n",
              "4       0   0.626182  0.671741        0.033333         6.000000  0.055254   \n",
              "\n",
              "              image target  alert  slight_drowsy  mod_drowsy  very_drowsy  \n",
              "0  alert_3_1519.png  alert      1              0           0            0  \n",
              "1   alert_3_640.png  alert      1              0           0            0  \n",
              "2   alert_3_370.png  alert      1              0           0            0  \n",
              "3   alert_1_775.png  alert      1              0           0            0  \n",
              "4   alert_1_617.png  alert      1              0           0            0  "
            ]
          },
          "execution_count": 18,
          "metadata": {},
          "output_type": "execute_result"
        }
      ],
      "source": [
        "train_df.head()"
      ]
    },
    {
      "cell_type": "code",
      "execution_count": 19,
      "metadata": {
        "id": "MJxu7OYe9P21"
      },
      "outputs": [],
      "source": [
        "# Create a MinMaxScaler object\n",
        "scaler = MinMaxScaler()\n",
        "\n",
        "# Select the columns you want to scale\n",
        "columns_to_scale = [\"right_EAR\", \"left_EAR\", \"blink_duration\", \"blink_frequency\", \"MAR\"]\n",
        "# Scale the selected columns\n",
        "train_df[columns_to_scale] = scaler.fit_transform(train_df[columns_to_scale])\n",
        "test_df[columns_to_scale] = scaler.transform(test_df[columns_to_scale])\n",
        "val_df[columns_to_scale] = scaler.transform(val_df[columns_to_scale])"
      ]
    },
    {
      "cell_type": "code",
      "execution_count": 21,
      "metadata": {
        "colab": {
          "base_uri": "https://localhost:8080/",
          "height": 364
        },
        "id": "TQ9dxzyhsCuO",
        "outputId": "509c3f94-2053-4c71-c0e3-685b39621af1"
      },
      "outputs": [
        {
          "data": {
            "text/html": [
              "<div>\n",
              "<style scoped>\n",
              "    .dataframe tbody tr th:only-of-type {\n",
              "        vertical-align: middle;\n",
              "    }\n",
              "\n",
              "    .dataframe tbody tr th {\n",
              "        vertical-align: top;\n",
              "    }\n",
              "\n",
              "    .dataframe thead th {\n",
              "        text-align: right;\n",
              "    }\n",
              "</style>\n",
              "<table border=\"1\" class=\"dataframe\">\n",
              "  <thead>\n",
              "    <tr style=\"text-align: right;\">\n",
              "      <th></th>\n",
              "      <th>blinks</th>\n",
              "      <th>right_EAR</th>\n",
              "      <th>left_EAR</th>\n",
              "      <th>blink_duration</th>\n",
              "      <th>blink_frequency</th>\n",
              "      <th>MAR</th>\n",
              "      <th>alert</th>\n",
              "      <th>slight_drowsy</th>\n",
              "      <th>mod_drowsy</th>\n",
              "      <th>very_drowsy</th>\n",
              "    </tr>\n",
              "  </thead>\n",
              "  <tbody>\n",
              "    <tr>\n",
              "      <th>count</th>\n",
              "      <td>1385.000000</td>\n",
              "      <td>1385.000000</td>\n",
              "      <td>1385.000000</td>\n",
              "      <td>1385.000000</td>\n",
              "      <td>1385.000000</td>\n",
              "      <td>1385.000000</td>\n",
              "      <td>1385.000000</td>\n",
              "      <td>1385.000000</td>\n",
              "      <td>1385.000000</td>\n",
              "      <td>1385.000000</td>\n",
              "    </tr>\n",
              "    <tr>\n",
              "      <th>mean</th>\n",
              "      <td>0.056318</td>\n",
              "      <td>0.716214</td>\n",
              "      <td>0.722700</td>\n",
              "      <td>0.091366</td>\n",
              "      <td>0.224663</td>\n",
              "      <td>0.093785</td>\n",
              "      <td>0.252708</td>\n",
              "      <td>0.251264</td>\n",
              "      <td>0.244765</td>\n",
              "      <td>0.251264</td>\n",
              "    </tr>\n",
              "    <tr>\n",
              "      <th>std</th>\n",
              "      <td>0.230617</td>\n",
              "      <td>0.127847</td>\n",
              "      <td>0.134354</td>\n",
              "      <td>0.093713</td>\n",
              "      <td>0.198450</td>\n",
              "      <td>0.109253</td>\n",
              "      <td>0.434722</td>\n",
              "      <td>0.433896</td>\n",
              "      <td>0.430103</td>\n",
              "      <td>0.433896</td>\n",
              "    </tr>\n",
              "    <tr>\n",
              "      <th>min</th>\n",
              "      <td>0.000000</td>\n",
              "      <td>0.000000</td>\n",
              "      <td>0.000000</td>\n",
              "      <td>0.000000</td>\n",
              "      <td>0.000000</td>\n",
              "      <td>0.000000</td>\n",
              "      <td>0.000000</td>\n",
              "      <td>0.000000</td>\n",
              "      <td>0.000000</td>\n",
              "      <td>0.000000</td>\n",
              "    </tr>\n",
              "    <tr>\n",
              "      <th>25%</th>\n",
              "      <td>0.000000</td>\n",
              "      <td>0.666177</td>\n",
              "      <td>0.659436</td>\n",
              "      <td>0.030509</td>\n",
              "      <td>0.056919</td>\n",
              "      <td>0.033912</td>\n",
              "      <td>0.000000</td>\n",
              "      <td>0.000000</td>\n",
              "      <td>0.000000</td>\n",
              "      <td>0.000000</td>\n",
              "    </tr>\n",
              "    <tr>\n",
              "      <th>50%</th>\n",
              "      <td>0.000000</td>\n",
              "      <td>0.737856</td>\n",
              "      <td>0.745265</td>\n",
              "      <td>0.069444</td>\n",
              "      <td>0.173913</td>\n",
              "      <td>0.058092</td>\n",
              "      <td>0.000000</td>\n",
              "      <td>0.000000</td>\n",
              "      <td>0.000000</td>\n",
              "      <td>0.000000</td>\n",
              "    </tr>\n",
              "    <tr>\n",
              "      <th>75%</th>\n",
              "      <td>0.000000</td>\n",
              "      <td>0.795343</td>\n",
              "      <td>0.809613</td>\n",
              "      <td>0.132679</td>\n",
              "      <td>0.370119</td>\n",
              "      <td>0.104118</td>\n",
              "      <td>1.000000</td>\n",
              "      <td>1.000000</td>\n",
              "      <td>0.000000</td>\n",
              "      <td>1.000000</td>\n",
              "    </tr>\n",
              "    <tr>\n",
              "      <th>max</th>\n",
              "      <td>1.000000</td>\n",
              "      <td>1.000000</td>\n",
              "      <td>1.000000</td>\n",
              "      <td>1.000000</td>\n",
              "      <td>1.000000</td>\n",
              "      <td>1.000000</td>\n",
              "      <td>1.000000</td>\n",
              "      <td>1.000000</td>\n",
              "      <td>1.000000</td>\n",
              "      <td>1.000000</td>\n",
              "    </tr>\n",
              "  </tbody>\n",
              "</table>\n",
              "</div>"
            ],
            "text/plain": [
              "            blinks    right_EAR     left_EAR  blink_duration  blink_frequency  \\\n",
              "count  1385.000000  1385.000000  1385.000000     1385.000000      1385.000000   \n",
              "mean      0.056318     0.716214     0.722700        0.091366         0.224663   \n",
              "std       0.230617     0.127847     0.134354        0.093713         0.198450   \n",
              "min       0.000000     0.000000     0.000000        0.000000         0.000000   \n",
              "25%       0.000000     0.666177     0.659436        0.030509         0.056919   \n",
              "50%       0.000000     0.737856     0.745265        0.069444         0.173913   \n",
              "75%       0.000000     0.795343     0.809613        0.132679         0.370119   \n",
              "max       1.000000     1.000000     1.000000        1.000000         1.000000   \n",
              "\n",
              "               MAR        alert  slight_drowsy   mod_drowsy  very_drowsy  \n",
              "count  1385.000000  1385.000000    1385.000000  1385.000000  1385.000000  \n",
              "mean      0.093785     0.252708       0.251264     0.244765     0.251264  \n",
              "std       0.109253     0.434722       0.433896     0.430103     0.433896  \n",
              "min       0.000000     0.000000       0.000000     0.000000     0.000000  \n",
              "25%       0.033912     0.000000       0.000000     0.000000     0.000000  \n",
              "50%       0.058092     0.000000       0.000000     0.000000     0.000000  \n",
              "75%       0.104118     1.000000       1.000000     0.000000     1.000000  \n",
              "max       1.000000     1.000000       1.000000     1.000000     1.000000  "
            ]
          },
          "execution_count": 21,
          "metadata": {},
          "output_type": "execute_result"
        }
      ],
      "source": [
        "train_df.describe()"
      ]
    },
    {
      "cell_type": "code",
      "execution_count": 22,
      "metadata": {
        "colab": {
          "base_uri": "https://localhost:8080/"
        },
        "id": "eSMgRchrmmoZ",
        "outputId": "0125d00a-004f-4b01-88f2-78a0c9425625"
      },
      "outputs": [
        {
          "data": {
            "text/plain": [
              "alert            350\n",
              "slight_drowsy    348\n",
              "very_drowsy      348\n",
              "mod_drowsy       339\n",
              "Name: target, dtype: int64"
            ]
          },
          "execution_count": 22,
          "metadata": {},
          "output_type": "execute_result"
        }
      ],
      "source": [
        "train_df['target'].value_counts()"
      ]
    },
    {
      "cell_type": "code",
      "execution_count": 23,
      "metadata": {
        "id": "xJKc7cAq9P21"
      },
      "outputs": [],
      "source": [
        "# Save the train, test, and validation DataFrames to separate CSV files\n",
        "train_df.to_csv('data/features/processed/train_features.csv', index=False)\n",
        "test_df.to_csv('data/features/processed/test_features.csv', index=False)\n",
        "val_df.to_csv('data/features/processed/val_features.csv', index=False)"
      ]
    },
    {
      "cell_type": "code",
      "execution_count": 69,
      "metadata": {},
      "outputs": [],
      "source": [
        "# Save the train, test, and validation DataFrames to separate CSV files\n",
        "train_df = pd.read_csv('data/features/processed/train_features.csv')\n",
        "test_df = pd.read_csv('data/features/processed/test_features.csv')\n",
        "val_df = pd.read_csv('data/features/processed/val_features.csv')"
      ]
    },
    {
      "cell_type": "code",
      "execution_count": 24,
      "metadata": {
        "colab": {
          "base_uri": "https://localhost:8080/"
        },
        "id": "TAUVYTdG9P22",
        "outputId": "c5b22a0d-b9b0-4320-a245-881ec503af0a"
      },
      "outputs": [
        {
          "name": "stdout",
          "output_type": "stream",
          "text": [
            "Found 1385 validated image filenames.\n",
            "Found 300 validated image filenames.\n",
            "Found 296 validated image filenames.\n"
          ]
        }
      ],
      "source": [
        "# Create ImageDataGenerators for train, test, and validation sets\n",
        "train_datagen = ImageDataGenerator(rescale=1.0 / 255)  # Normalize pixel values\n",
        "test_datagen = ImageDataGenerator(rescale=1.0 / 255)  # Normalize pixel values\n",
        "val_datagen = ImageDataGenerator(rescale=1.0 / 255)  # Normalize pixel values\n",
        "\n",
        "# Create train, test, and validation image generators using flow_from_dataframe\n",
        "train_generator = train_datagen.flow_from_dataframe(\n",
        "    dataframe=train_df,\n",
        "    directory='data/images/sample/train',\n",
        "    x_col='image',\n",
        "    y_col=labels,\n",
        "    batch_size=32,\n",
        "    target_size=(224, 224),\n",
        "    class_mode='raw',\n",
        "    shuffle=True,\n",
        "    seed=1\n",
        ")\n",
        "\n",
        "test_generator = test_datagen.flow_from_dataframe(\n",
        "    dataframe=test_df,\n",
        "    directory='data/images/sample/test',\n",
        "    x_col='image',\n",
        "    y_col=labels,\n",
        "    batch_size=32,\n",
        "    target_size=(224, 224),\n",
        "    class_mode='raw',\n",
        "    shuffle=False,\n",
        "    seed=1\n",
        ")\n",
        "\n",
        "val_generator = val_datagen.flow_from_dataframe(\n",
        "    dataframe=val_df,\n",
        "    directory='data/images/sample/val',\n",
        "    x_col='image',\n",
        "    y_col=labels,\n",
        "    batch_size=32,\n",
        "    target_size=(224, 224),\n",
        "    class_mode='raw',\n",
        "    shuffle=False,\n",
        "    seed=1\n",
        ")\n"
      ]
    },
    {
      "cell_type": "code",
      "execution_count": 29,
      "metadata": {
        "colab": {
          "base_uri": "https://localhost:8080/"
        },
        "id": "VTqYpM3G9P22",
        "outputId": "295cfc05-0369-477c-d4d0-8f8f1bd0397e"
      },
      "outputs": [
        {
          "name": "stdout",
          "output_type": "stream",
          "text": [
            "(32, 224, 224, 3) (32, 4)\n"
          ]
        }
      ],
      "source": [
        "X,y = train_generator.next()\n",
        "print(X.shape, y.shape)"
      ]
    },
    {
      "cell_type": "code",
      "execution_count": 18,
      "metadata": {
        "colab": {
          "base_uri": "https://localhost:8080/"
        },
        "id": "aJy6V0G59P23",
        "outputId": "31225f09-bcc6-4e9b-d838-aea071f8935e"
      },
      "outputs": [
        {
          "data": {
            "text/plain": [
              "['blinks', 'right_EAR', 'left_EAR', 'blink_duration', 'blink_frequency', 'MAR']"
            ]
          },
          "execution_count": 18,
          "metadata": {},
          "output_type": "execute_result"
        }
      ],
      "source": [
        "train_df.drop(columns=['image','target']+labels).columns.tolist()"
      ]
    },
    {
      "cell_type": "code",
      "execution_count": 25,
      "metadata": {
        "id": "GGruOo8AuIW3"
      },
      "outputs": [],
      "source": [
        "def custom_generator(image_generator, feature_data, batch_size):\n",
        "    feature_index = 0\n",
        "    total_samples = len(feature_data)\n",
        "    while True:\n",
        "        batch_images, batch_labels = image_generator.next()\n",
        "        batch_features = feature_data[feature_index : feature_index + batch_size].values\n",
        "        if (feature_index + batch_size) > total_samples:\n",
        "            feature_index = 0\n",
        "        else:\n",
        "            feature_index = feature_index + batch_size\n",
        "\n",
        "        yield ([batch_images, batch_features], batch_labels)\n",
        "\n",
        "# Create custom generators combining image and feature data\n",
        "train_generator_with_features = custom_generator(train_generator, train_df.drop(columns=['image','target']+labels), batch_size=32)\n",
        "test_generator_with_features = custom_generator(test_generator, test_df.drop(columns=['image','target']+labels), batch_size=32)\n",
        "val_generator_with_features = custom_generator(val_generator, val_df.drop(columns=['image','target']+labels), batch_size=32)\n"
      ]
    },
    {
      "cell_type": "code",
      "execution_count": 30,
      "metadata": {
        "colab": {
          "base_uri": "https://localhost:8080/"
        },
        "id": "l-zhHb-VutQn",
        "outputId": "03dbfae9-b672-4ab6-9771-a89bacc942e6"
      },
      "outputs": [
        {
          "name": "stdout",
          "output_type": "stream",
          "text": [
            "(32, 224, 224, 3) (32, 6) (32, 4)\n"
          ]
        }
      ],
      "source": [
        "[x1,x2],y=next(test_generator_with_features)\n",
        "print(x1.shape, x2.shape, y.shape)"
      ]
    },
    {
      "cell_type": "code",
      "execution_count": 179,
      "metadata": {
        "id": "0o60WnW49P24"
      },
      "outputs": [],
      "source": [
        "# # Load the pre-trained VGG16 model without the top layers\n",
        "# vgg16 = VGG16(weights='imagenet', include_top=False, input_shape=(224, 224, 3))\n",
        "# vgg16.trainable = False # Set all layers in the VGG16 model as non-trainable\n",
        "\n",
        "# # Define the image input branch\n",
        "# image_input = Input(shape=(224, 224, 3)) #(720, 1280, 3)\n",
        "# vgg_output = vgg16(image_input)\n",
        "# conv1 = Conv2D(32, (3, 3), activation='relu')(vgg_output)\n",
        "# pool1 = MaxPooling2D(pool_size=(2, 2))(conv1)\n",
        "# # Add more convolutional and pooling layers as needed\n",
        "\n",
        "# # Define the numerical feature input branch\n",
        "# feature_input = Input(shape=(6,))\n",
        "# dense1 = Dense(64, activation='relu')(feature_input)\n",
        "# # Add more dense layers as needed\n",
        "\n",
        "# # Concatenate the outputs from both branches\n",
        "# concatenated = keras.layers.concatenate([Flatten()(pool1), dense1])\n",
        "\n",
        "# # Add a final dense layer for prediction\n",
        "# output = Dense(4, activation='softmax')(concatenated)\n",
        "\n",
        "# # Create the model\n",
        "# model = Model(inputs=[image_input, feature_input], outputs=output)\n",
        "\n",
        "# model.compile(loss='categorical_crossentropy', optimizer='adam', metrics=['accuracy'])"
      ]
    },
    {
      "cell_type": "code",
      "execution_count": 16,
      "metadata": {},
      "outputs": [],
      "source": [
        "# # Define the image input branch\n",
        "# image_input = Input(shape=(224, 224, 3)) #(720, 1280, 3)\n",
        "# conv1 = Conv2D(32, (3, 3), activation='relu')(image_input)\n",
        "# bn1 = BatchNormalization()(conv1)\n",
        "# pool1 = MaxPooling2D(pool_size=(2, 2))(bn1)\n",
        "# dropout1 = Dropout(0.25)(pool1)\n",
        "# conv2 = Conv2D(16, (3, 3), activation='relu')(dropout1)\n",
        "# bn2 = BatchNormalization()(conv2)\n",
        "# pool2 = MaxPooling2D(pool_size=(2, 2))(bn2)\n",
        "# dropout2 = Dropout(0.25)(pool2)\n",
        "# conv3 = Conv2D(8, (3, 3), activation='relu')(dropout2)\n",
        "# bn3 = BatchNormalization()(conv3)\n",
        "# pool3 = MaxPooling2D(pool_size=(2, 2))(bn3)\n",
        "\n",
        "# # Define the numerical feature input branch\n",
        "# feature_input = Input(shape=(6,))\n",
        "# dense1 = Dense(64, activation='relu')(feature_input)\n",
        "# dropout3 = Dropout(0.25)(dense1)\n",
        "# dense2 = Dense(32, activation='relu')(dropout3)\n",
        "# dropout4 = Dropout(0.25)(dense2)\n",
        "# dense3 = Dense(16, activation='relu')(dropout4)\n",
        "\n",
        "# # Concatenate the outputs from both branches\n",
        "# concatenated = keras.layers.concatenate([Flatten()(pool3), dense3])\n",
        "\n",
        "# # Add a final dense layer for prediction\n",
        "# output = Dense(4, activation='softmax')(concatenated)\n",
        "\n",
        "# # Create the model\n",
        "# model = Model(inputs=[image_input, feature_input], outputs=output)\n",
        "\n",
        "# model.compile(loss='categorical_crossentropy', optimizer='adam', metrics=['accuracy'])\n",
        "\n",
        "# # Learning rate scheduler\n",
        "# def lr_scheduler(epoch):\n",
        "#     initial_lr = 0.001\n",
        "#     drop_rate = 0.5\n",
        "#     epochs_drop = 5\n",
        "#     lr = initial_lr * (drop_rate ** (epoch // epochs_drop))\n",
        "#     return lr\n",
        "\n",
        "# scheduler = LearningRateScheduler(lr_scheduler)"
      ]
    },
    {
      "cell_type": "code",
      "execution_count": 26,
      "metadata": {},
      "outputs": [],
      "source": [
        "# Define the image input branch\n",
        "image_input = Input(shape=(224, 224, 3)) #(720, 1280, 3)\n",
        "conv1 = Conv2D(32, (3, 3), activation='relu')(image_input)\n",
        "bn1 = BatchNormalization()(conv1)\n",
        "pool1 = MaxPooling2D(pool_size=(2, 2))(bn1)\n",
        "conv2 = Conv2D(16, (5, 5), activation='relu')(pool1)\n",
        "bn2 = BatchNormalization()(conv2)\n",
        "pool2 = MaxPooling2D(pool_size=(2, 2))(bn2)\n",
        "conv3 = Conv2D(8, (8, 8), activation='relu')(pool2)\n",
        "bn3 = BatchNormalization()(conv3)\n",
        "pool3 = MaxPooling2D(pool_size=(2, 2))(bn3)\n",
        "\n",
        "# Define the numerical feature input branch\n",
        "feature_input = Input(shape=(6,))\n",
        "dense1 = Dense(64, activation='relu')(feature_input)\n",
        "dense2 = Dense(32, activation='relu')(dense1)\n",
        "dense3 = Dense(16, activation='relu')(dense2)\n",
        "\n",
        "# Concatenate the outputs from both branches\n",
        "concatenated = keras.layers.concatenate([Flatten()(pool3), dense3])\n",
        "\n",
        "# Add a final dense layer for prediction\n",
        "output = Dense(4, activation='softmax')(concatenated)\n",
        "\n",
        "# Create the model\n",
        "model = Model(inputs=[image_input, feature_input], outputs=output)\n",
        "\n",
        "model.compile(loss='categorical_crossentropy', optimizer='adam', metrics=['accuracy'])\n",
        "\n",
        "# Learning rate scheduler\n",
        "def lr_scheduler(epoch):\n",
        "    initial_lr = 0.001\n",
        "    drop_rate = 0.5\n",
        "    epochs_drop = 5\n",
        "    lr = initial_lr * (drop_rate ** (epoch // epochs_drop))\n",
        "    return lr\n",
        "\n",
        "scheduler = LearningRateScheduler(lr_scheduler)"
      ]
    },
    {
      "cell_type": "code",
      "execution_count": 27,
      "metadata": {
        "colab": {
          "base_uri": "https://localhost:8080/"
        },
        "id": "oIyKtSsf9P24",
        "outputId": "6bc0294e-bc86-44ab-9632-39266af8dd95"
      },
      "outputs": [
        {
          "name": "stdout",
          "output_type": "stream",
          "text": [
            "Epoch 1/20\n",
            "44/44 [==============================] - 39s 864ms/step - loss: 0.4893 - accuracy: 0.8310 - val_loss: 1.1768 - val_accuracy: 0.4358 - lr: 0.0010\n",
            "Epoch 2/20\n",
            "44/44 [==============================] - 35s 791ms/step - loss: 0.1063 - accuracy: 0.9617 - val_loss: 1.7981 - val_accuracy: 0.4561 - lr: 0.0010\n",
            "Epoch 3/20\n",
            "44/44 [==============================] - 34s 769ms/step - loss: 0.0550 - accuracy: 0.9856 - val_loss: 1.9485 - val_accuracy: 0.3007 - lr: 0.0010\n",
            "Epoch 4/20\n",
            "44/44 [==============================] - 34s 771ms/step - loss: 0.0343 - accuracy: 0.9906 - val_loss: 3.6917 - val_accuracy: 0.2500 - lr: 0.0010\n",
            "Epoch 5/20\n",
            "44/44 [==============================] - 34s 770ms/step - loss: 0.0198 - accuracy: 0.9949 - val_loss: 2.4877 - val_accuracy: 0.2500 - lr: 0.0010\n",
            "Epoch 6/20\n",
            "44/44 [==============================] - 34s 766ms/step - loss: 0.0105 - accuracy: 0.9978 - val_loss: 1.8928 - val_accuracy: 0.2297 - lr: 5.0000e-04\n",
            "Epoch 7/20\n",
            "44/44 [==============================] - 34s 767ms/step - loss: 0.0056 - accuracy: 1.0000 - val_loss: 2.2667 - val_accuracy: 0.1926 - lr: 5.0000e-04\n",
            "Epoch 8/20\n",
            "44/44 [==============================] - 34s 766ms/step - loss: 0.0048 - accuracy: 0.9986 - val_loss: 1.7303 - val_accuracy: 0.3311 - lr: 5.0000e-04\n",
            "Epoch 9/20\n",
            "44/44 [==============================] - 34s 763ms/step - loss: 0.0033 - accuracy: 1.0000 - val_loss: 1.3287 - val_accuracy: 0.4696 - lr: 5.0000e-04\n",
            "Epoch 10/20\n",
            "44/44 [==============================] - 34s 763ms/step - loss: 0.0042 - accuracy: 0.9993 - val_loss: 0.6426 - val_accuracy: 0.7905 - lr: 5.0000e-04\n",
            "Epoch 11/20\n",
            "44/44 [==============================] - 34s 774ms/step - loss: 0.0022 - accuracy: 1.0000 - val_loss: 0.3522 - val_accuracy: 0.8615 - lr: 2.5000e-04\n",
            "Epoch 12/20\n",
            "44/44 [==============================] - 34s 767ms/step - loss: 0.0029 - accuracy: 1.0000 - val_loss: 0.1769 - val_accuracy: 0.9459 - lr: 2.5000e-04\n",
            "Epoch 13/20\n",
            "44/44 [==============================] - 34s 765ms/step - loss: 0.0045 - accuracy: 1.0000 - val_loss: 0.1034 - val_accuracy: 0.9595 - lr: 2.5000e-04\n",
            "Epoch 14/20\n",
            "44/44 [==============================] - 34s 773ms/step - loss: 0.0026 - accuracy: 1.0000 - val_loss: 0.1192 - val_accuracy: 0.9595 - lr: 2.5000e-04\n",
            "Epoch 15/20\n",
            "44/44 [==============================] - 34s 766ms/step - loss: 0.0022 - accuracy: 1.0000 - val_loss: 0.0941 - val_accuracy: 0.9561 - lr: 2.5000e-04\n",
            "Epoch 16/20\n",
            "44/44 [==============================] - 34s 764ms/step - loss: 0.0016 - accuracy: 1.0000 - val_loss: 0.0962 - val_accuracy: 0.9628 - lr: 1.2500e-04\n",
            "Epoch 17/20\n",
            "44/44 [==============================] - 34s 770ms/step - loss: 0.0020 - accuracy: 1.0000 - val_loss: 0.1030 - val_accuracy: 0.9662 - lr: 1.2500e-04\n",
            "Epoch 18/20\n",
            "44/44 [==============================] - 34s 769ms/step - loss: 0.0019 - accuracy: 1.0000 - val_loss: 0.1055 - val_accuracy: 0.9662 - lr: 1.2500e-04\n",
            "Epoch 19/20\n",
            "44/44 [==============================] - 34s 769ms/step - loss: 0.0016 - accuracy: 1.0000 - val_loss: 0.1073 - val_accuracy: 0.9662 - lr: 1.2500e-04\n",
            "Epoch 20/20\n",
            "44/44 [==============================] - 34s 765ms/step - loss: 0.0013 - accuracy: 1.0000 - val_loss: 0.1142 - val_accuracy: 0.9628 - lr: 1.2500e-04\n"
          ]
        }
      ],
      "source": [
        "# fit network\n",
        "history = model.fit(train_generator_with_features,\n",
        "                    epochs=20,\n",
        "                    steps_per_epoch=len(train_generator),\n",
        "                    validation_data=val_generator_with_features,\n",
        "                    validation_steps= len(val_generator),\n",
        "                    callbacks=[scheduler])\n",
        "\n",
        "# 29 mins con 3 epochs => model_3\n",
        "# 6 mins 34s solo he probado primero con 1 epoch => model_4\n",
        "# de aquí para abajo con vscode\n",
        "# 34.1s, 1 epoch, en vscode en vez de google que tarda por tener que ir a drive => model_5\n",
        "# 8 mins y pico, 1 epoch, con vgg16 => pero ha fallado en la validación al concatenar, estaba tardando mucho tampoco lo iba a usar\n",
        "\n",
        "# en todo lo de arriba estaban mal los generators, por eso ha fallado el vgg16\n",
        "\n",
        "# 13 mins 28.8s, ordenador sobrecalentado (por eso tarda), 5 epochs, modelo con más capas => model_6\n",
        "\n",
        "# 22 mins 46.5s, sigue caliente, 10 epochs y poniendo el epochs drop a 5 que antes no hacía nada, modelo del 6, shuffle true en train_gen => model_7\n",
        "# al hacer el shuffle ya consigue aprender de los datos de train, pero hay que poner dropout porque en validation va mal\n",
        "# no parece que el lr esté cambiando, vale es que no lo había ejecutado con el cambio\n",
        "# mierda he borrado el 7 sin querer, (el que pone 7 es el 8 del model)\n",
        "\n",
        "# 28 mins 11.6s, sigue caliente, 10 epochs, con el epoch drop a 5 ahora sí, añadiendo dropout => model_8\n",
        "# el dropout no parece que haga mucho, estoy llegando a accuracy 1 en train y val sigue bajo\n",
        "\n",
        "# 10 mins solo 1 epoch, sigue caliente, vgg16, 4 epochs por probar, con los arreglos de los generators y el shuffle que antes igual no aprendía porque estaba mal => model_9\n",
        "# ETA del primero ya son como 9 mins, no lo voy a dejar hasta el final, solo quiero ver el val_accuracy como es\n",
        "\n",
        "# 4 mins 50.8s, 4 epochs, con las nuevas fotos, sin dropout => model_10\n",
        "\n",
        "# 6 mins 13s, ordenador de Fer, 15 epochs, con las nuevas fotos, sin dropout => model_11\n",
        "# 6 mins 37.3s, igual que el 11 pero probando con dropout => model_12\n",
        "# el tiempo ya será parecido, igual que el 11 (sin dropout), he cambiado los kernel => model_13\n",
        "# 11 mins 44.8s, el 13 pero con 20 epochs => model_14\n",
        "# 11 mins 27.3s, metiendo datos de slight_3 último minuto en train => model_15\n",
        "# como el 15 pero arreglando lo de los features => model_16\n",
        "\n",
        "# añadiendo v_4 y corrigiendo lo del test"
      ]
    },
    {
      "cell_type": "code",
      "execution_count": 28,
      "metadata": {
        "id": "VSTjS1FXytU6"
      },
      "outputs": [],
      "source": [
        "model.save('models/model_17.h5')"
      ]
    },
    {
      "cell_type": "code",
      "execution_count": 31,
      "metadata": {},
      "outputs": [],
      "source": [
        "np.save('history_17.npy', history.history)"
      ]
    },
    {
      "cell_type": "code",
      "execution_count": 60,
      "metadata": {
        "id": "DCnXdx9dxfgQ"
      },
      "outputs": [],
      "source": [
        "# model = load_model('models/model_13.h5') # model 1 y 2 primeros (1 sin val y 2 con val), con los 9000 y val/test acc 1, epoch 1\n",
        "# model 3 es con el sample y 3 epochs"
      ]
    },
    {
      "cell_type": "code",
      "execution_count": 67,
      "metadata": {},
      "outputs": [],
      "source": [
        "model = load_model('models/model_16.h5')"
      ]
    },
    {
      "cell_type": "code",
      "execution_count": null,
      "metadata": {},
      "outputs": [
        {
          "data": {
            "image/png": "[encoded data removed]",
            "text/plain": [
              "<IPython.core.display.Image object>"
            ]
          },
          "metadata": {},
          "output_type": "display_data"
        }
      ],
      "source": [
        "plot_model(model, to_file=\"my_model.png\", show_shapes=True, show_layer_activations=True,show_layer_names=False, expand_nested=True)"
      ]
    },
    {
      "cell_type": "code",
      "execution_count": 32,
      "metadata": {},
      "outputs": [],
      "source": [
        "history = np.load(\"history_17.npy\", allow_pickle=True).item()"
      ]
    },
    {
      "cell_type": "code",
      "execution_count": 33,
      "metadata": {},
      "outputs": [
        {
          "data": {
            "application/vnd.plotly.v1+json": {
              "config": {
                "plotlyServerURL": "https://plot.ly"
              },
              "data": [
                {
                  "legendgroup": "Train",
                  "line": {
                    "color": "blue"
                  },
                  "mode": "lines",
                  "name": "Train",
                  "showlegend": true,
                  "type": "scatter",
                  "x": [
                    null
                  ],
                  "xaxis": "x",
                  "y": [
                    null
                  ],
                  "yaxis": "y"
                },
                {
                  "legendgroup": "Train",
                  "line": {
                    "color": "blue"
                  },
                  "mode": "lines",
                  "name": "Training Loss",
                  "showlegend": false,
                  "type": "scatter",
                  "x": [
                    1,
                    2,
                    3,
                    4,
                    5,
                    6,
                    7,
                    8,
                    9,
                    10,
                    11,
                    12,
                    13,
                    14,
                    15,
                    16,
                    17,
                    18,
                    19,
                    20
                  ],
                  "xaxis": "x",
                  "y": [
                    0.4892745614051819,
                    0.10626105964183807,
                    0.055013056844472885,
                    0.034328170120716095,
                    0.01976853981614113,
                    0.01046883687376976,
                    0.005562726873904467,
                    0.00476829381659627,
                    0.0032745678909122944,
                    0.004244284704327583,
                    0.0021838804241269827,
                    0.002883410546928644,
                    0.004461182281374931,
                    0.0025830399245023727,
                    0.0022155705373734236,
                    0.001607010024599731,
                    0.001982285175472498,
                    0.00191386672668159,
                    0.0016065461095422506,
                    0.0013446530792862177
                  ],
                  "yaxis": "y"
                },
                {
                  "legendgroup": "Validation",
                  "line": {
                    "color": "red"
                  },
                  "mode": "lines",
                  "name": "Validation Loss",
                  "showlegend": false,
                  "type": "scatter",
                  "x": [
                    1,
                    2,
                    3,
                    4,
                    5,
                    6,
                    7,
                    8,
                    9,
                    10,
                    11,
                    12,
                    13,
                    14,
                    15,
                    16,
                    17,
                    18,
                    19,
                    20
                  ],
                  "xaxis": "x",
                  "y": [
                    1.1768414974212646,
                    1.7980564832687378,
                    1.9485210180282593,
                    3.691669464111328,
                    2.4877424240112305,
                    1.8928050994873047,
                    2.2667481899261475,
                    1.7302700281143188,
                    1.3286715745925903,
                    0.6426441073417664,
                    0.3521976172924042,
                    0.17691484093666077,
                    0.10344397276639938,
                    0.11917643994092941,
                    0.0940636396408081,
                    0.09621375054121017,
                    0.10296827554702759,
                    0.10551051795482635,
                    0.1072799488902092,
                    0.1142251268029213
                  ],
                  "yaxis": "y"
                },
                {
                  "legendgroup": "Validation",
                  "line": {
                    "color": "red"
                  },
                  "mode": "lines",
                  "name": "Validation",
                  "showlegend": true,
                  "type": "scatter",
                  "x": [
                    null
                  ],
                  "xaxis": "x2",
                  "y": [
                    null
                  ],
                  "yaxis": "y2"
                },
                {
                  "legendgroup": "Train",
                  "line": {
                    "color": "blue"
                  },
                  "mode": "lines",
                  "name": "Training Accuracy",
                  "showlegend": false,
                  "type": "scatter",
                  "x": [
                    1,
                    2,
                    3,
                    4,
                    5,
                    6,
                    7,
                    8,
                    9,
                    10,
                    11,
                    12,
                    13,
                    14,
                    15,
                    16,
                    17,
                    18,
                    19,
                    20
                  ],
                  "xaxis": "x2",
                  "y": [
                    0.8310469388961792,
                    0.9617328643798828,
                    0.9855595827102661,
                    0.9906136989593506,
                    0.9949458241462708,
                    0.9978339076042175,
                    1,
                    0.9985559582710266,
                    1,
                    0.9992779493331909,
                    1,
                    1,
                    1,
                    1,
                    1,
                    1,
                    1,
                    1,
                    1,
                    1
                  ],
                  "yaxis": "y2"
                },
                {
                  "legendgroup": "Validation",
                  "line": {
                    "color": "red"
                  },
                  "mode": "lines",
                  "name": "Validation Accuracy",
                  "showlegend": false,
                  "type": "scatter",
                  "x": [
                    1,
                    2,
                    3,
                    4,
                    5,
                    6,
                    7,
                    8,
                    9,
                    10,
                    11,
                    12,
                    13,
                    14,
                    15,
                    16,
                    17,
                    18,
                    19,
                    20
                  ],
                  "xaxis": "x2",
                  "y": [
                    0.43581080436706543,
                    0.4560810923576355,
                    0.3006756901741028,
                    0.25,
                    0.25,
                    0.22972972691059113,
                    0.19256757199764252,
                    0.3310810923576355,
                    0.4695945978164673,
                    0.7905405163764954,
                    0.8614864945411682,
                    0.9459459185600281,
                    0.9594594836235046,
                    0.9594594836235046,
                    0.9560810923576355,
                    0.962837815284729,
                    0.9662162065505981,
                    0.9662162065505981,
                    0.9662162065505981,
                    0.962837815284729
                  ],
                  "yaxis": "y2"
                }
              ],
              "layout": {
                "annotations": [
                  {
                    "font": {
                      "size": 16
                    },
                    "showarrow": false,
                    "text": "Loss",
                    "x": 0.225,
                    "xanchor": "center",
                    "xref": "paper",
                    "y": 1,
                    "yanchor": "bottom",
                    "yref": "paper"
                  },
                  {
                    "font": {
                      "size": 16
                    },
                    "showarrow": false,
                    "text": "Accuracy",
                    "x": 0.775,
                    "xanchor": "center",
                    "xref": "paper",
                    "y": 1,
                    "yanchor": "bottom",
                    "yref": "paper"
                  }
                ],
                "height": 500,
                "legend": {
                  "x": 0.85,
                  "y": 0.1
                },
                "template": {
                  "data": {
                    "bar": [
                      {
                        "error_x": {
                          "color": "#2a3f5f"
                        },
                        "error_y": {
                          "color": "#2a3f5f"
                        },
                        "marker": {
                          "line": {
                            "color": "#E5ECF6",
                            "width": 0.5
                          },
                          "pattern": {
                            "fillmode": "overlay",
                            "size": 10,
                            "solidity": 0.2
                          }
                        },
                        "type": "bar"
                      }
                    ],
                    "barpolar": [
                      {
                        "marker": {
                          "line": {
                            "color": "#E5ECF6",
                            "width": 0.5
                          },
                          "pattern": {
                            "fillmode": "overlay",
                            "size": 10,
                            "solidity": 0.2
                          }
                        },
                        "type": "barpolar"
                      }
                    ],
                    "carpet": [
                      {
                        "aaxis": {
                          "endlinecolor": "#2a3f5f",
                          "gridcolor": "white",
                          "linecolor": "white",
                          "minorgridcolor": "white",
                          "startlinecolor": "#2a3f5f"
                        },
                        "baxis": {
                          "endlinecolor": "#2a3f5f",
                          "gridcolor": "white",
                          "linecolor": "white",
                          "minorgridcolor": "white",
                          "startlinecolor": "#2a3f5f"
                        },
                        "type": "carpet"
                      }
                    ],
                    "choropleth": [
                      {
                        "colorbar": {
                          "outlinewidth": 0,
                          "ticks": ""
                        },
                        "type": "choropleth"
                      }
                    ],
                    "contour": [
                      {
                        "colorbar": {
                          "outlinewidth": 0,
                          "ticks": ""
                        },
                        "colorscale": [
                          [
                            0,
                            "#0d0887"
                          ],
                          [
                            0.1111111111111111,
                            "#46039f"
                          ],
                          [
                            0.2222222222222222,
                            "#7201a8"
                          ],
                          [
                            0.3333333333333333,
                            "#9c179e"
                          ],
                          [
                            0.4444444444444444,
                            "#bd3786"
                          ],
                          [
                            0.5555555555555556,
                            "#d8576b"
                          ],
                          [
                            0.6666666666666666,
                            "#ed7953"
                          ],
                          [
                            0.7777777777777778,
                            "#fb9f3a"
                          ],
                          [
                            0.8888888888888888,
                            "#fdca26"
                          ],
                          [
                            1,
                            "#f0f921"
                          ]
                        ],
                        "type": "contour"
                      }
                    ],
                    "contourcarpet": [
                      {
                        "colorbar": {
                          "outlinewidth": 0,
                          "ticks": ""
                        },
                        "type": "contourcarpet"
                      }
                    ],
                    "heatmap": [
                      {
                        "colorbar": {
                          "outlinewidth": 0,
                          "ticks": ""
                        },
                        "colorscale": [
                          [
                            0,
                            "#0d0887"
                          ],
                          [
                            0.1111111111111111,
                            "#46039f"
                          ],
                          [
                            0.2222222222222222,
                            "#7201a8"
                          ],
                          [
                            0.3333333333333333,
                            "#9c179e"
                          ],
                          [
                            0.4444444444444444,
                            "#bd3786"
                          ],
                          [
                            0.5555555555555556,
                            "#d8576b"
                          ],
                          [
                            0.6666666666666666,
                            "#ed7953"
                          ],
                          [
                            0.7777777777777778,
                            "#fb9f3a"
                          ],
                          [
                            0.8888888888888888,
                            "#fdca26"
                          ],
                          [
                            1,
                            "#f0f921"
                          ]
                        ],
                        "type": "heatmap"
                      }
                    ],
                    "heatmapgl": [
                      {
                        "colorbar": {
                          "outlinewidth": 0,
                          "ticks": ""
                        },
                        "colorscale": [
                          [
                            0,
                            "#0d0887"
                          ],
                          [
                            0.1111111111111111,
                            "#46039f"
                          ],
                          [
                            0.2222222222222222,
                            "#7201a8"
                          ],
                          [
                            0.3333333333333333,
                            "#9c179e"
                          ],
                          [
                            0.4444444444444444,
                            "#bd3786"
                          ],
                          [
                            0.5555555555555556,
                            "#d8576b"
                          ],
                          [
                            0.6666666666666666,
                            "#ed7953"
                          ],
                          [
                            0.7777777777777778,
                            "#fb9f3a"
                          ],
                          [
                            0.8888888888888888,
                            "#fdca26"
                          ],
                          [
                            1,
                            "#f0f921"
                          ]
                        ],
                        "type": "heatmapgl"
                      }
                    ],
                    "histogram": [
                      {
                        "marker": {
                          "pattern": {
                            "fillmode": "overlay",
                            "size": 10,
                            "solidity": 0.2
                          }
                        },
                        "type": "histogram"
                      }
                    ],
                    "histogram2d": [
                      {
                        "colorbar": {
                          "outlinewidth": 0,
                          "ticks": ""
                        },
                        "colorscale": [
                          [
                            0,
                            "#0d0887"
                          ],
                          [
                            0.1111111111111111,
                            "#46039f"
                          ],
                          [
                            0.2222222222222222,
                            "#7201a8"
                          ],
                          [
                            0.3333333333333333,
                            "#9c179e"
                          ],
                          [
                            0.4444444444444444,
                            "#bd3786"
                          ],
                          [
                            0.5555555555555556,
                            "#d8576b"
                          ],
                          [
                            0.6666666666666666,
                            "#ed7953"
                          ],
                          [
                            0.7777777777777778,
                            "#fb9f3a"
                          ],
                          [
                            0.8888888888888888,
                            "#fdca26"
                          ],
                          [
                            1,
                            "#f0f921"
                          ]
                        ],
                        "type": "histogram2d"
                      }
                    ],
                    "histogram2dcontour": [
                      {
                        "colorbar": {
                          "outlinewidth": 0,
                          "ticks": ""
                        },
                        "colorscale": [
                          [
                            0,
                            "#0d0887"
                          ],
                          [
                            0.1111111111111111,
                            "#46039f"
                          ],
                          [
                            0.2222222222222222,
                            "#7201a8"
                          ],
                          [
                            0.3333333333333333,
                            "#9c179e"
                          ],
                          [
                            0.4444444444444444,
                            "#bd3786"
                          ],
                          [
                            0.5555555555555556,
                            "#d8576b"
                          ],
                          [
                            0.6666666666666666,
                            "#ed7953"
                          ],
                          [
                            0.7777777777777778,
                            "#fb9f3a"
                          ],
                          [
                            0.8888888888888888,
                            "#fdca26"
                          ],
                          [
                            1,
                            "#f0f921"
                          ]
                        ],
                        "type": "histogram2dcontour"
                      }
                    ],
                    "mesh3d": [
                      {
                        "colorbar": {
                          "outlinewidth": 0,
                          "ticks": ""
                        },
                        "type": "mesh3d"
                      }
                    ],
                    "parcoords": [
                      {
                        "line": {
                          "colorbar": {
                            "outlinewidth": 0,
                            "ticks": ""
                          }
                        },
                        "type": "parcoords"
                      }
                    ],
                    "pie": [
                      {
                        "automargin": true,
                        "type": "pie"
                      }
                    ],
                    "scatter": [
                      {
                        "fillpattern": {
                          "fillmode": "overlay",
                          "size": 10,
                          "solidity": 0.2
                        },
                        "type": "scatter"
                      }
                    ],
                    "scatter3d": [
                      {
                        "line": {
                          "colorbar": {
                            "outlinewidth": 0,
                            "ticks": ""
                          }
                        },
                        "marker": {
                          "colorbar": {
                            "outlinewidth": 0,
                            "ticks": ""
                          }
                        },
                        "type": "scatter3d"
                      }
                    ],
                    "scattercarpet": [
                      {
                        "marker": {
                          "colorbar": {
                            "outlinewidth": 0,
                            "ticks": ""
                          }
                        },
                        "type": "scattercarpet"
                      }
                    ],
                    "scattergeo": [
                      {
                        "marker": {
                          "colorbar": {
                            "outlinewidth": 0,
                            "ticks": ""
                          }
                        },
                        "type": "scattergeo"
                      }
                    ],
                    "scattergl": [
                      {
                        "marker": {
                          "colorbar": {
                            "outlinewidth": 0,
                            "ticks": ""
                          }
                        },
                        "type": "scattergl"
                      }
                    ],
                    "scattermapbox": [
                      {
                        "marker": {
                          "colorbar": {
                            "outlinewidth": 0,
                            "ticks": ""
                          }
                        },
                        "type": "scattermapbox"
                      }
                    ],
                    "scatterpolar": [
                      {
                        "marker": {
                          "colorbar": {
                            "outlinewidth": 0,
                            "ticks": ""
                          }
                        },
                        "type": "scatterpolar"
                      }
                    ],
                    "scatterpolargl": [
                      {
                        "marker": {
                          "colorbar": {
                            "outlinewidth": 0,
                            "ticks": ""
                          }
                        },
                        "type": "scatterpolargl"
                      }
                    ],
                    "scatterternary": [
                      {
                        "marker": {
                          "colorbar": {
                            "outlinewidth": 0,
                            "ticks": ""
                          }
                        },
                        "type": "scatterternary"
                      }
                    ],
                    "surface": [
                      {
                        "colorbar": {
                          "outlinewidth": 0,
                          "ticks": ""
                        },
                        "colorscale": [
                          [
                            0,
                            "#0d0887"
                          ],
                          [
                            0.1111111111111111,
                            "#46039f"
                          ],
                          [
                            0.2222222222222222,
                            "#7201a8"
                          ],
                          [
                            0.3333333333333333,
                            "#9c179e"
                          ],
                          [
                            0.4444444444444444,
                            "#bd3786"
                          ],
                          [
                            0.5555555555555556,
                            "#d8576b"
                          ],
                          [
                            0.6666666666666666,
                            "#ed7953"
                          ],
                          [
                            0.7777777777777778,
                            "#fb9f3a"
                          ],
                          [
                            0.8888888888888888,
                            "#fdca26"
                          ],
                          [
                            1,
                            "#f0f921"
                          ]
                        ],
                        "type": "surface"
                      }
                    ],
                    "table": [
                      {
                        "cells": {
                          "fill": {
                            "color": "#EBF0F8"
                          },
                          "line": {
                            "color": "white"
                          }
                        },
                        "header": {
                          "fill": {
                            "color": "#C8D4E3"
                          },
                          "line": {
                            "color": "white"
                          }
                        },
                        "type": "table"
                      }
                    ]
                  },
                  "layout": {
                    "annotationdefaults": {
                      "arrowcolor": "#2a3f5f",
                      "arrowhead": 0,
                      "arrowwidth": 1
                    },
                    "autotypenumbers": "strict",
                    "coloraxis": {
                      "colorbar": {
                        "outlinewidth": 0,
                        "ticks": ""
                      }
                    },
                    "colorscale": {
                      "diverging": [
                        [
                          0,
                          "#8e0152"
                        ],
                        [
                          0.1,
                          "#c51b7d"
                        ],
                        [
                          0.2,
                          "#de77ae"
                        ],
                        [
                          0.3,
                          "#f1b6da"
                        ],
                        [
                          0.4,
                          "#fde0ef"
                        ],
                        [
                          0.5,
                          "#f7f7f7"
                        ],
                        [
                          0.6,
                          "#e6f5d0"
                        ],
                        [
                          0.7,
                          "#b8e186"
                        ],
                        [
                          0.8,
                          "#7fbc41"
                        ],
                        [
                          0.9,
                          "#4d9221"
                        ],
                        [
                          1,
                          "#276419"
                        ]
                      ],
                      "sequential": [
                        [
                          0,
                          "#0d0887"
                        ],
                        [
                          0.1111111111111111,
                          "#46039f"
                        ],
                        [
                          0.2222222222222222,
                          "#7201a8"
                        ],
                        [
                          0.3333333333333333,
                          "#9c179e"
                        ],
                        [
                          0.4444444444444444,
                          "#bd3786"
                        ],
                        [
                          0.5555555555555556,
                          "#d8576b"
                        ],
                        [
                          0.6666666666666666,
                          "#ed7953"
                        ],
                        [
                          0.7777777777777778,
                          "#fb9f3a"
                        ],
                        [
                          0.8888888888888888,
                          "#fdca26"
                        ],
                        [
                          1,
                          "#f0f921"
                        ]
                      ],
                      "sequentialminus": [
                        [
                          0,
                          "#0d0887"
                        ],
                        [
                          0.1111111111111111,
                          "#46039f"
                        ],
                        [
                          0.2222222222222222,
                          "#7201a8"
                        ],
                        [
                          0.3333333333333333,
                          "#9c179e"
                        ],
                        [
                          0.4444444444444444,
                          "#bd3786"
                        ],
                        [
                          0.5555555555555556,
                          "#d8576b"
                        ],
                        [
                          0.6666666666666666,
                          "#ed7953"
                        ],
                        [
                          0.7777777777777778,
                          "#fb9f3a"
                        ],
                        [
                          0.8888888888888888,
                          "#fdca26"
                        ],
                        [
                          1,
                          "#f0f921"
                        ]
                      ]
                    },
                    "colorway": [
                      "#636efa",
                      "#EF553B",
                      "#00cc96",
                      "#ab63fa",
                      "#FFA15A",
                      "#19d3f3",
                      "#FF6692",
                      "#B6E880",
                      "#FF97FF",
                      "#FECB52"
                    ],
                    "font": {
                      "color": "#2a3f5f"
                    },
                    "geo": {
                      "bgcolor": "white",
                      "lakecolor": "white",
                      "landcolor": "#E5ECF6",
                      "showlakes": true,
                      "showland": true,
                      "subunitcolor": "white"
                    },
                    "hoverlabel": {
                      "align": "left"
                    },
                    "hovermode": "closest",
                    "mapbox": {
                      "style": "light"
                    },
                    "paper_bgcolor": "white",
                    "plot_bgcolor": "#E5ECF6",
                    "polar": {
                      "angularaxis": {
                        "gridcolor": "white",
                        "linecolor": "white",
                        "ticks": ""
                      },
                      "bgcolor": "#E5ECF6",
                      "radialaxis": {
                        "gridcolor": "white",
                        "linecolor": "white",
                        "ticks": ""
                      }
                    },
                    "scene": {
                      "xaxis": {
                        "backgroundcolor": "#E5ECF6",
                        "gridcolor": "white",
                        "gridwidth": 2,
                        "linecolor": "white",
                        "showbackground": true,
                        "ticks": "",
                        "zerolinecolor": "white"
                      },
                      "yaxis": {
                        "backgroundcolor": "#E5ECF6",
                        "gridcolor": "white",
                        "gridwidth": 2,
                        "linecolor": "white",
                        "showbackground": true,
                        "ticks": "",
                        "zerolinecolor": "white"
                      },
                      "zaxis": {
                        "backgroundcolor": "#E5ECF6",
                        "gridcolor": "white",
                        "gridwidth": 2,
                        "linecolor": "white",
                        "showbackground": true,
                        "ticks": "",
                        "zerolinecolor": "white"
                      }
                    },
                    "shapedefaults": {
                      "line": {
                        "color": "#2a3f5f"
                      }
                    },
                    "ternary": {
                      "aaxis": {
                        "gridcolor": "white",
                        "linecolor": "white",
                        "ticks": ""
                      },
                      "baxis": {
                        "gridcolor": "white",
                        "linecolor": "white",
                        "ticks": ""
                      },
                      "bgcolor": "#E5ECF6",
                      "caxis": {
                        "gridcolor": "white",
                        "linecolor": "white",
                        "ticks": ""
                      }
                    },
                    "title": {
                      "x": 0.05
                    },
                    "xaxis": {
                      "automargin": true,
                      "gridcolor": "white",
                      "linecolor": "white",
                      "ticks": "",
                      "title": {
                        "standoff": 15
                      },
                      "zerolinecolor": "white",
                      "zerolinewidth": 2
                    },
                    "yaxis": {
                      "automargin": true,
                      "gridcolor": "white",
                      "linecolor": "white",
                      "ticks": "",
                      "title": {
                        "standoff": 15
                      },
                      "zerolinecolor": "white",
                      "zerolinewidth": 2
                    }
                  }
                },
                "width": 1100,
                "xaxis": {
                  "anchor": "y",
                  "domain": [
                    0,
                    0.45
                  ]
                },
                "xaxis2": {
                  "anchor": "y2",
                  "domain": [
                    0.55,
                    1
                  ]
                },
                "yaxis": {
                  "anchor": "x",
                  "domain": [
                    0,
                    1
                  ]
                },
                "yaxis2": {
                  "anchor": "x2",
                  "domain": [
                    0,
                    1
                  ]
                }
              }
            }
          },
          "metadata": {},
          "output_type": "display_data"
        }
      ],
      "source": [
        "# Extract the data from history object\n",
        "loss = history['loss']\n",
        "val_loss = history['val_loss']\n",
        "accuracy = history['accuracy']\n",
        "val_accuracy = history['val_accuracy']\n",
        "\n",
        "epochs = list(range(1, len(loss) + 1))\n",
        "\n",
        "# Create figure with subplots\n",
        "fig = make_subplots(rows=1, cols=2, subplot_titles=(\"Loss\", \"Accuracy\"))\n",
        "\n",
        "# Add training loss and validation loss traces to the first subplot\n",
        "fig.add_trace(go.Scatter(x=[None], y=[None], mode='lines', name='Train',line=dict(color='blue'), legendgroup='Train', showlegend=True), row=1, col=1)\n",
        "fig.add_trace(go.Scatter(x=epochs, y=loss, mode='lines', name='Training Loss', line=dict(color='blue'), legendgroup='Train', showlegend=False), row=1, col=1)\n",
        "fig.add_trace(go.Scatter(x=epochs, y=val_loss, mode='lines', name='Validation Loss', line=dict(color='red'), legendgroup='Validation', showlegend=False), row=1, col=1)\n",
        "\n",
        "# Add training accuracy and validation accuracy traces to the second subplot\n",
        "fig.add_trace(go.Scatter(x=[None], y=[None], mode='lines', name='Validation', line=dict(color='red'), legendgroup='Validation', showlegend=True), row=1, col=2)\n",
        "fig.add_trace(go.Scatter(x=epochs, y=accuracy, mode='lines', name='Training Accuracy', line=dict(color='blue'), legendgroup='Train', showlegend=False), row=1, col=2)\n",
        "fig.add_trace(go.Scatter(x=epochs, y=val_accuracy, mode='lines', name='Validation Accuracy', line=dict(color='red'), legendgroup='Validation', showlegend=False), row=1, col=2)\n",
        "\n",
        "# Update layout\n",
        "fig.update_layout(height=500, width=1100, legend=dict(x=0.85, y=0.1))\n",
        "fig.update_xaxes(title_text=\"Epochs\", row=2, col=1)\n",
        "fig.update_yaxes(title_text=\"Accuracy\", row=2, col=1)\n",
        "\n",
        "# Show the figure\n",
        "fig.show()"
      ]
    },
    {
      "cell_type": "code",
      "execution_count": 34,
      "metadata": {
        "colab": {
          "base_uri": "https://localhost:8080/"
        },
        "id": "aJNEEAHXzJcH",
        "outputId": "8249e27c-d68c-4259-e831-418c1a5e8092"
      },
      "outputs": [
        {
          "name": "stdout",
          "output_type": "stream",
          "text": [
            "10/10 [==============================] - 1s 134ms/step\n"
          ]
        }
      ],
      "source": [
        "prediction = model.predict(test_generator_with_features, steps=len(test_generator))\n",
        "# 4 min 56s => model_3\n",
        "# 2s => model_4\n",
        "# 2.6s => model_5\n",
        "# 13.9s => model_6 (ordenador sobrecalentado no sé si afectará)\n",
        "# 8.4s => model_7  (sigue caliente)\n",
        "# 3.3s => model_8 (sigue caliente)\n",
        "# 5.7s => model_10\n",
        "# 1.5s => model_11 (Fer)"
      ]
    },
    {
      "cell_type": "code",
      "execution_count": 35,
      "metadata": {
        "id": "nGNvvo1UzyVz"
      },
      "outputs": [
        {
          "data": {
            "text/plain": [
              "(300,)"
            ]
          },
          "execution_count": 35,
          "metadata": {},
          "output_type": "execute_result"
        }
      ],
      "source": [
        "test_pred = np.argmax(prediction, axis=1)\n",
        "test_pred.shape"
      ]
    },
    {
      "cell_type": "code",
      "execution_count": 36,
      "metadata": {
        "id": "Z-0CLR6r6IyD"
      },
      "outputs": [
        {
          "data": {
            "text/plain": [
              "(300,)"
            ]
          },
          "execution_count": 36,
          "metadata": {},
          "output_type": "execute_result"
        }
      ],
      "source": [
        "test_true_values = test_df[labels].to_numpy()\n",
        "test_true = np.argmax(test_true_values, axis=1)\n",
        "test_true.shape"
      ]
    },
    {
      "cell_type": "code",
      "execution_count": 37,
      "metadata": {
        "colab": {
          "base_uri": "https://localhost:8080/"
        },
        "id": "OgdQSVBZ0OWw",
        "outputId": "ab363e6c-8d27-43ec-98a6-8ab52d59c70a"
      },
      "outputs": [
        {
          "data": {
            "text/plain": [
              "0.8933333333333333"
            ]
          },
          "execution_count": 37,
          "metadata": {},
          "output_type": "execute_result"
        }
      ],
      "source": [
        "accuracy = accuracy_score(test_true, test_pred)\n",
        "accuracy\n",
        "# model_3\n",
        "# en test sigue teniendo un 100% accuracy ?????\n",
        "# añadir dropout o regularización?\n",
        "# igual sigue siendo demasiado parecido, durante el mes ir cargando el resto de mins de los vídeos\n",
        "# intentar liar a alguien para grabarles también\n",
        "\n",
        "# model_4\n",
        "# ya da un accuracy malo como quería\n",
        "# añadir más capas a la red (maybe vgg16)\n",
        "# y también más epochs que solo he puesto 1\n",
        "# 0.18 o así\n",
        "\n",
        "# model_6\n",
        "# 0.284\n",
        "\n",
        "# model_7\n",
        "# 0.3545\n",
        "\n",
        "# model_8\n",
        "# 0.197\n",
        "\n",
        "# model_11\n",
        "# 0.7726 por fin algo decente\n",
        "\n",
        "# model_12\n",
        "# 0.6254 el dropout es demasiado\n",
        "\n",
        "# model_13\n",
        "# 0.8127090301003345 => los generator algo va mal, se ve que no se está reiniciando bien\n",
        "\n",
        "# model_15\n",
        "# 0.9220338983050848\n",
        "\n",
        "# model_16\n",
        "# 0.9121621621621622"
      ]
    },
    {
      "cell_type": "code",
      "execution_count": 38,
      "metadata": {},
      "outputs": [
        {
          "name": "stdout",
          "output_type": "stream",
          "text": [
            "               precision    recall  f1-score   support\n",
            "\n",
            "        alert     0.9605    0.9733    0.9669        75\n",
            "slight_drowsy     0.7579    0.9600    0.8471        75\n",
            "   mod_drowsy     0.9153    0.7200    0.8060        75\n",
            "  very_drowsy     0.9857    0.9200    0.9517        75\n",
            "\n",
            "     accuracy                         0.8933       300\n",
            "    macro avg     0.9048    0.8933    0.8929       300\n",
            " weighted avg     0.9048    0.8933    0.8929       300\n",
            "\n"
          ]
        }
      ],
      "source": [
        "print(classification_report(test_true,test_pred, target_names=labels, digits=4))\n"
      ]
    },
    {
      "cell_type": "code",
      "execution_count": 39,
      "metadata": {},
      "outputs": [
        {
          "data": {
            "application/vnd.plotly.v1+json": {
              "config": {
                "plotlyServerURL": "https://plot.ly"
              },
              "data": [
                {
                  "marker": {
                    "color": "teal"
                  },
                  "name": "Precisión",
                  "text": [
                    1,
                    1,
                    0.737,
                    1
                  ],
                  "textfont": {
                    "color": "white",
                    "size": 18
                  },
                  "textposition": "auto",
                  "type": "bar",
                  "x": [
                    "alert",
                    "slight_drowsy",
                    "mod_drowsy",
                    "very_drowsy"
                  ],
                  "y": [
                    1,
                    1,
                    0.737,
                    1
                  ]
                },
                {
                  "marker": {
                    "color": "mediumaquamarine"
                  },
                  "name": "Recall",
                  "text": [
                    1,
                    0.959,
                    1,
                    0.693
                  ],
                  "textfont": {
                    "color": "white",
                    "size": 18
                  },
                  "textposition": "auto",
                  "type": "bar",
                  "x": [
                    "alert",
                    "slight_drowsy",
                    "mod_drowsy",
                    "very_drowsy"
                  ],
                  "y": [
                    1,
                    0.959,
                    1,
                    0.693
                  ]
                },
                {
                  "marker": {
                    "color": "cornflowerblue"
                  },
                  "name": "F1-score",
                  "text": [
                    1,
                    0.979,
                    0.849,
                    0.819
                  ],
                  "textfont": {
                    "color": "white",
                    "size": 18
                  },
                  "textposition": "auto",
                  "type": "bar",
                  "x": [
                    "alert",
                    "slight_drowsy",
                    "mod_drowsy",
                    "very_drowsy"
                  ],
                  "y": [
                    1,
                    0.979,
                    0.849,
                    0.819
                  ]
                }
              ],
              "layout": {
                "barmode": "group",
                "height": 600,
                "legend": {
                  "font": {
                    "size": 18
                  },
                  "x": 0.82,
                  "y": 0.08
                },
                "template": {
                  "data": {
                    "bar": [
                      {
                        "error_x": {
                          "color": "#2a3f5f"
                        },
                        "error_y": {
                          "color": "#2a3f5f"
                        },
                        "marker": {
                          "line": {
                            "color": "#E5ECF6",
                            "width": 0.5
                          },
                          "pattern": {
                            "fillmode": "overlay",
                            "size": 10,
                            "solidity": 0.2
                          }
                        },
                        "type": "bar"
                      }
                    ],
                    "barpolar": [
                      {
                        "marker": {
                          "line": {
                            "color": "#E5ECF6",
                            "width": 0.5
                          },
                          "pattern": {
                            "fillmode": "overlay",
                            "size": 10,
                            "solidity": 0.2
                          }
                        },
                        "type": "barpolar"
                      }
                    ],
                    "carpet": [
                      {
                        "aaxis": {
                          "endlinecolor": "#2a3f5f",
                          "gridcolor": "white",
                          "linecolor": "white",
                          "minorgridcolor": "white",
                          "startlinecolor": "#2a3f5f"
                        },
                        "baxis": {
                          "endlinecolor": "#2a3f5f",
                          "gridcolor": "white",
                          "linecolor": "white",
                          "minorgridcolor": "white",
                          "startlinecolor": "#2a3f5f"
                        },
                        "type": "carpet"
                      }
                    ],
                    "choropleth": [
                      {
                        "colorbar": {
                          "outlinewidth": 0,
                          "ticks": ""
                        },
                        "type": "choropleth"
                      }
                    ],
                    "contour": [
                      {
                        "colorbar": {
                          "outlinewidth": 0,
                          "ticks": ""
                        },
                        "colorscale": [
                          [
                            0,
                            "#0d0887"
                          ],
                          [
                            0.1111111111111111,
                            "#46039f"
                          ],
                          [
                            0.2222222222222222,
                            "#7201a8"
                          ],
                          [
                            0.3333333333333333,
                            "#9c179e"
                          ],
                          [
                            0.4444444444444444,
                            "#bd3786"
                          ],
                          [
                            0.5555555555555556,
                            "#d8576b"
                          ],
                          [
                            0.6666666666666666,
                            "#ed7953"
                          ],
                          [
                            0.7777777777777778,
                            "#fb9f3a"
                          ],
                          [
                            0.8888888888888888,
                            "#fdca26"
                          ],
                          [
                            1,
                            "#f0f921"
                          ]
                        ],
                        "type": "contour"
                      }
                    ],
                    "contourcarpet": [
                      {
                        "colorbar": {
                          "outlinewidth": 0,
                          "ticks": ""
                        },
                        "type": "contourcarpet"
                      }
                    ],
                    "heatmap": [
                      {
                        "colorbar": {
                          "outlinewidth": 0,
                          "ticks": ""
                        },
                        "colorscale": [
                          [
                            0,
                            "#0d0887"
                          ],
                          [
                            0.1111111111111111,
                            "#46039f"
                          ],
                          [
                            0.2222222222222222,
                            "#7201a8"
                          ],
                          [
                            0.3333333333333333,
                            "#9c179e"
                          ],
                          [
                            0.4444444444444444,
                            "#bd3786"
                          ],
                          [
                            0.5555555555555556,
                            "#d8576b"
                          ],
                          [
                            0.6666666666666666,
                            "#ed7953"
                          ],
                          [
                            0.7777777777777778,
                            "#fb9f3a"
                          ],
                          [
                            0.8888888888888888,
                            "#fdca26"
                          ],
                          [
                            1,
                            "#f0f921"
                          ]
                        ],
                        "type": "heatmap"
                      }
                    ],
                    "heatmapgl": [
                      {
                        "colorbar": {
                          "outlinewidth": 0,
                          "ticks": ""
                        },
                        "colorscale": [
                          [
                            0,
                            "#0d0887"
                          ],
                          [
                            0.1111111111111111,
                            "#46039f"
                          ],
                          [
                            0.2222222222222222,
                            "#7201a8"
                          ],
                          [
                            0.3333333333333333,
                            "#9c179e"
                          ],
                          [
                            0.4444444444444444,
                            "#bd3786"
                          ],
                          [
                            0.5555555555555556,
                            "#d8576b"
                          ],
                          [
                            0.6666666666666666,
                            "#ed7953"
                          ],
                          [
                            0.7777777777777778,
                            "#fb9f3a"
                          ],
                          [
                            0.8888888888888888,
                            "#fdca26"
                          ],
                          [
                            1,
                            "#f0f921"
                          ]
                        ],
                        "type": "heatmapgl"
                      }
                    ],
                    "histogram": [
                      {
                        "marker": {
                          "pattern": {
                            "fillmode": "overlay",
                            "size": 10,
                            "solidity": 0.2
                          }
                        },
                        "type": "histogram"
                      }
                    ],
                    "histogram2d": [
                      {
                        "colorbar": {
                          "outlinewidth": 0,
                          "ticks": ""
                        },
                        "colorscale": [
                          [
                            0,
                            "#0d0887"
                          ],
                          [
                            0.1111111111111111,
                            "#46039f"
                          ],
                          [
                            0.2222222222222222,
                            "#7201a8"
                          ],
                          [
                            0.3333333333333333,
                            "#9c179e"
                          ],
                          [
                            0.4444444444444444,
                            "#bd3786"
                          ],
                          [
                            0.5555555555555556,
                            "#d8576b"
                          ],
                          [
                            0.6666666666666666,
                            "#ed7953"
                          ],
                          [
                            0.7777777777777778,
                            "#fb9f3a"
                          ],
                          [
                            0.8888888888888888,
                            "#fdca26"
                          ],
                          [
                            1,
                            "#f0f921"
                          ]
                        ],
                        "type": "histogram2d"
                      }
                    ],
                    "histogram2dcontour": [
                      {
                        "colorbar": {
                          "outlinewidth": 0,
                          "ticks": ""
                        },
                        "colorscale": [
                          [
                            0,
                            "#0d0887"
                          ],
                          [
                            0.1111111111111111,
                            "#46039f"
                          ],
                          [
                            0.2222222222222222,
                            "#7201a8"
                          ],
                          [
                            0.3333333333333333,
                            "#9c179e"
                          ],
                          [
                            0.4444444444444444,
                            "#bd3786"
                          ],
                          [
                            0.5555555555555556,
                            "#d8576b"
                          ],
                          [
                            0.6666666666666666,
                            "#ed7953"
                          ],
                          [
                            0.7777777777777778,
                            "#fb9f3a"
                          ],
                          [
                            0.8888888888888888,
                            "#fdca26"
                          ],
                          [
                            1,
                            "#f0f921"
                          ]
                        ],
                        "type": "histogram2dcontour"
                      }
                    ],
                    "mesh3d": [
                      {
                        "colorbar": {
                          "outlinewidth": 0,
                          "ticks": ""
                        },
                        "type": "mesh3d"
                      }
                    ],
                    "parcoords": [
                      {
                        "line": {
                          "colorbar": {
                            "outlinewidth": 0,
                            "ticks": ""
                          }
                        },
                        "type": "parcoords"
                      }
                    ],
                    "pie": [
                      {
                        "automargin": true,
                        "type": "pie"
                      }
                    ],
                    "scatter": [
                      {
                        "fillpattern": {
                          "fillmode": "overlay",
                          "size": 10,
                          "solidity": 0.2
                        },
                        "type": "scatter"
                      }
                    ],
                    "scatter3d": [
                      {
                        "line": {
                          "colorbar": {
                            "outlinewidth": 0,
                            "ticks": ""
                          }
                        },
                        "marker": {
                          "colorbar": {
                            "outlinewidth": 0,
                            "ticks": ""
                          }
                        },
                        "type": "scatter3d"
                      }
                    ],
                    "scattercarpet": [
                      {
                        "marker": {
                          "colorbar": {
                            "outlinewidth": 0,
                            "ticks": ""
                          }
                        },
                        "type": "scattercarpet"
                      }
                    ],
                    "scattergeo": [
                      {
                        "marker": {
                          "colorbar": {
                            "outlinewidth": 0,
                            "ticks": ""
                          }
                        },
                        "type": "scattergeo"
                      }
                    ],
                    "scattergl": [
                      {
                        "marker": {
                          "colorbar": {
                            "outlinewidth": 0,
                            "ticks": ""
                          }
                        },
                        "type": "scattergl"
                      }
                    ],
                    "scattermapbox": [
                      {
                        "marker": {
                          "colorbar": {
                            "outlinewidth": 0,
                            "ticks": ""
                          }
                        },
                        "type": "scattermapbox"
                      }
                    ],
                    "scatterpolar": [
                      {
                        "marker": {
                          "colorbar": {
                            "outlinewidth": 0,
                            "ticks": ""
                          }
                        },
                        "type": "scatterpolar"
                      }
                    ],
                    "scatterpolargl": [
                      {
                        "marker": {
                          "colorbar": {
                            "outlinewidth": 0,
                            "ticks": ""
                          }
                        },
                        "type": "scatterpolargl"
                      }
                    ],
                    "scatterternary": [
                      {
                        "marker": {
                          "colorbar": {
                            "outlinewidth": 0,
                            "ticks": ""
                          }
                        },
                        "type": "scatterternary"
                      }
                    ],
                    "surface": [
                      {
                        "colorbar": {
                          "outlinewidth": 0,
                          "ticks": ""
                        },
                        "colorscale": [
                          [
                            0,
                            "#0d0887"
                          ],
                          [
                            0.1111111111111111,
                            "#46039f"
                          ],
                          [
                            0.2222222222222222,
                            "#7201a8"
                          ],
                          [
                            0.3333333333333333,
                            "#9c179e"
                          ],
                          [
                            0.4444444444444444,
                            "#bd3786"
                          ],
                          [
                            0.5555555555555556,
                            "#d8576b"
                          ],
                          [
                            0.6666666666666666,
                            "#ed7953"
                          ],
                          [
                            0.7777777777777778,
                            "#fb9f3a"
                          ],
                          [
                            0.8888888888888888,
                            "#fdca26"
                          ],
                          [
                            1,
                            "#f0f921"
                          ]
                        ],
                        "type": "surface"
                      }
                    ],
                    "table": [
                      {
                        "cells": {
                          "fill": {
                            "color": "#EBF0F8"
                          },
                          "line": {
                            "color": "white"
                          }
                        },
                        "header": {
                          "fill": {
                            "color": "#C8D4E3"
                          },
                          "line": {
                            "color": "white"
                          }
                        },
                        "type": "table"
                      }
                    ]
                  },
                  "layout": {
                    "annotationdefaults": {
                      "arrowcolor": "#2a3f5f",
                      "arrowhead": 0,
                      "arrowwidth": 1
                    },
                    "autotypenumbers": "strict",
                    "coloraxis": {
                      "colorbar": {
                        "outlinewidth": 0,
                        "ticks": ""
                      }
                    },
                    "colorscale": {
                      "diverging": [
                        [
                          0,
                          "#8e0152"
                        ],
                        [
                          0.1,
                          "#c51b7d"
                        ],
                        [
                          0.2,
                          "#de77ae"
                        ],
                        [
                          0.3,
                          "#f1b6da"
                        ],
                        [
                          0.4,
                          "#fde0ef"
                        ],
                        [
                          0.5,
                          "#f7f7f7"
                        ],
                        [
                          0.6,
                          "#e6f5d0"
                        ],
                        [
                          0.7,
                          "#b8e186"
                        ],
                        [
                          0.8,
                          "#7fbc41"
                        ],
                        [
                          0.9,
                          "#4d9221"
                        ],
                        [
                          1,
                          "#276419"
                        ]
                      ],
                      "sequential": [
                        [
                          0,
                          "#0d0887"
                        ],
                        [
                          0.1111111111111111,
                          "#46039f"
                        ],
                        [
                          0.2222222222222222,
                          "#7201a8"
                        ],
                        [
                          0.3333333333333333,
                          "#9c179e"
                        ],
                        [
                          0.4444444444444444,
                          "#bd3786"
                        ],
                        [
                          0.5555555555555556,
                          "#d8576b"
                        ],
                        [
                          0.6666666666666666,
                          "#ed7953"
                        ],
                        [
                          0.7777777777777778,
                          "#fb9f3a"
                        ],
                        [
                          0.8888888888888888,
                          "#fdca26"
                        ],
                        [
                          1,
                          "#f0f921"
                        ]
                      ],
                      "sequentialminus": [
                        [
                          0,
                          "#0d0887"
                        ],
                        [
                          0.1111111111111111,
                          "#46039f"
                        ],
                        [
                          0.2222222222222222,
                          "#7201a8"
                        ],
                        [
                          0.3333333333333333,
                          "#9c179e"
                        ],
                        [
                          0.4444444444444444,
                          "#bd3786"
                        ],
                        [
                          0.5555555555555556,
                          "#d8576b"
                        ],
                        [
                          0.6666666666666666,
                          "#ed7953"
                        ],
                        [
                          0.7777777777777778,
                          "#fb9f3a"
                        ],
                        [
                          0.8888888888888888,
                          "#fdca26"
                        ],
                        [
                          1,
                          "#f0f921"
                        ]
                      ]
                    },
                    "colorway": [
                      "#636efa",
                      "#EF553B",
                      "#00cc96",
                      "#ab63fa",
                      "#FFA15A",
                      "#19d3f3",
                      "#FF6692",
                      "#B6E880",
                      "#FF97FF",
                      "#FECB52"
                    ],
                    "font": {
                      "color": "#2a3f5f"
                    },
                    "geo": {
                      "bgcolor": "white",
                      "lakecolor": "white",
                      "landcolor": "#E5ECF6",
                      "showlakes": true,
                      "showland": true,
                      "subunitcolor": "white"
                    },
                    "hoverlabel": {
                      "align": "left"
                    },
                    "hovermode": "closest",
                    "mapbox": {
                      "style": "light"
                    },
                    "paper_bgcolor": "white",
                    "plot_bgcolor": "#E5ECF6",
                    "polar": {
                      "angularaxis": {
                        "gridcolor": "white",
                        "linecolor": "white",
                        "ticks": ""
                      },
                      "bgcolor": "#E5ECF6",
                      "radialaxis": {
                        "gridcolor": "white",
                        "linecolor": "white",
                        "ticks": ""
                      }
                    },
                    "scene": {
                      "xaxis": {
                        "backgroundcolor": "#E5ECF6",
                        "gridcolor": "white",
                        "gridwidth": 2,
                        "linecolor": "white",
                        "showbackground": true,
                        "ticks": "",
                        "zerolinecolor": "white"
                      },
                      "yaxis": {
                        "backgroundcolor": "#E5ECF6",
                        "gridcolor": "white",
                        "gridwidth": 2,
                        "linecolor": "white",
                        "showbackground": true,
                        "ticks": "",
                        "zerolinecolor": "white"
                      },
                      "zaxis": {
                        "backgroundcolor": "#E5ECF6",
                        "gridcolor": "white",
                        "gridwidth": 2,
                        "linecolor": "white",
                        "showbackground": true,
                        "ticks": "",
                        "zerolinecolor": "white"
                      }
                    },
                    "shapedefaults": {
                      "line": {
                        "color": "#2a3f5f"
                      }
                    },
                    "ternary": {
                      "aaxis": {
                        "gridcolor": "white",
                        "linecolor": "white",
                        "ticks": ""
                      },
                      "baxis": {
                        "gridcolor": "white",
                        "linecolor": "white",
                        "ticks": ""
                      },
                      "bgcolor": "#E5ECF6",
                      "caxis": {
                        "gridcolor": "white",
                        "linecolor": "white",
                        "ticks": ""
                      }
                    },
                    "title": {
                      "x": 0.05
                    },
                    "xaxis": {
                      "automargin": true,
                      "gridcolor": "white",
                      "linecolor": "white",
                      "ticks": "",
                      "title": {
                        "standoff": 15
                      },
                      "zerolinecolor": "white",
                      "zerolinewidth": 2
                    },
                    "yaxis": {
                      "automargin": true,
                      "gridcolor": "white",
                      "linecolor": "white",
                      "ticks": "",
                      "title": {
                        "standoff": 15
                      },
                      "zerolinecolor": "white",
                      "zerolinewidth": 2
                    }
                  }
                },
                "width": 1100,
                "xaxis": {
                  "tickfont": {
                    "size": 18
                  },
                  "title": {
                    "font": {
                      "size": 20
                    },
                    "text": "Clases"
                  }
                },
                "yaxis": {
                  "tickfont": {
                    "size": 16
                  },
                  "title": {
                    "font": {
                      "size": 20
                    },
                    "text": "Valor"
                  }
                }
              }
            }
          },
          "metadata": {},
          "output_type": "display_data"
        }
      ],
      "source": [
        "# Métricas obtenidas del classification report\n",
        "precision = [1.0, 1.0, 0.7374, 1.0]\n",
        "recall = [1.0, 0.9589, 1.0, 0.6933]\n",
        "f1_score = [1.0, 0.979, 0.8488, 0.8189]\n",
        "\n",
        "# Redondear los valores de las métricas a 3 decimales\n",
        "precision = np.round(precision, decimals=3)\n",
        "recall = np.round(recall, decimals=3)\n",
        "f1_score = np.round(f1_score, decimals=3)\n",
        "\n",
        "labels = ['alert', 'slight_drowsy', 'mod_drowsy', 'very_drowsy']\n",
        "metrics = ['Precisión', 'Recall', 'F1-score']\n",
        "colors = ['teal', 'mediumaquamarine', 'cornflowerblue']\n",
        "\n",
        "# Crear la figura y agregar las barras\n",
        "fig = go.Figure()\n",
        "\n",
        "for i, metric in enumerate([precision, recall, f1_score]):\n",
        "    fig.add_trace(go.Bar(\n",
        "        name=metrics[i],\n",
        "        x=labels,\n",
        "        y=metric,\n",
        "        marker_color=colors[i],\n",
        "        text=metric,\n",
        "        textposition='auto',\n",
        "        textfont=dict(color='white',size=18)\n",
        "    ))\n",
        "\n",
        "\n",
        "# Configurar el diseño del gráfico\n",
        "fig.update_layout(\n",
        "    # title='Métricas del Classification Report',\n",
        "    xaxis=dict(title=\"Clases\", title_font=dict(size=20), tickfont=dict(size=18)),\n",
        "    yaxis=dict(title=\"Valor\", title_font=dict(size=20), tickfont=dict(size=16)),\n",
        "    barmode='group',\n",
        "    legend=dict(\n",
        "        x=0.82,\n",
        "        y=0.08,\n",
        "        font=dict(size=18)\n",
        "    ),\n",
        "    height=600,\n",
        "    width=1100\n",
        ")\n",
        "\n",
        "# Mostrar el gráfico\n",
        "fig.show()\n"
      ]
    },
    {
      "cell_type": "code",
      "execution_count": 40,
      "metadata": {},
      "outputs": [
        {
          "data": {
            "application/vnd.plotly.v1+json": {
              "config": {
                "plotlyServerURL": "https://plot.ly"
              },
              "data": [
                {
                  "colorscale": [
                    [
                      0,
                      "rgb(209, 238, 234)"
                    ],
                    [
                      0.16666666666666666,
                      "rgb(168, 219, 217)"
                    ],
                    [
                      0.3333333333333333,
                      "rgb(133, 196, 201)"
                    ],
                    [
                      0.5,
                      "rgb(104, 171, 184)"
                    ],
                    [
                      0.6666666666666666,
                      "rgb(79, 144, 166)"
                    ],
                    [
                      0.8333333333333334,
                      "rgb(59, 115, 143)"
                    ],
                    [
                      1,
                      "rgb(42, 86, 116)"
                    ]
                  ],
                  "reversescale": false,
                  "showscale": false,
                  "type": "heatmap",
                  "x": [
                    "alert",
                    "slight_drowsy",
                    "mod_drowsy",
                    "very_drowsy"
                  ],
                  "y": [
                    "very_drowsy",
                    "mod_drowsy",
                    "slight_drowsy",
                    "alert"
                  ],
                  "z": [
                    [
                      0,
                      1,
                      5,
                      69
                    ],
                    [
                      0,
                      20,
                      54,
                      1
                    ],
                    [
                      3,
                      72,
                      0,
                      0
                    ],
                    [
                      73,
                      2,
                      0,
                      0
                    ]
                  ]
                }
              ],
              "layout": {
                "annotations": [
                  {
                    "font": {
                      "color": "#000000",
                      "size": 13
                    },
                    "showarrow": false,
                    "text": "0<br>(0.0%)",
                    "x": "alert",
                    "xref": "x",
                    "y": "very_drowsy",
                    "yref": "y"
                  },
                  {
                    "font": {
                      "color": "#000000",
                      "size": 13
                    },
                    "showarrow": false,
                    "text": "1<br>(0.3%)",
                    "x": "slight_drowsy",
                    "xref": "x",
                    "y": "very_drowsy",
                    "yref": "y"
                  },
                  {
                    "font": {
                      "color": "#000000",
                      "size": 13
                    },
                    "showarrow": false,
                    "text": "5<br>(1.7%)",
                    "x": "mod_drowsy",
                    "xref": "x",
                    "y": "very_drowsy",
                    "yref": "y"
                  },
                  {
                    "font": {
                      "color": "#FFFFFF",
                      "size": 13
                    },
                    "showarrow": false,
                    "text": "69<br>(23.0%)",
                    "x": "very_drowsy",
                    "xref": "x",
                    "y": "very_drowsy",
                    "yref": "y"
                  },
                  {
                    "font": {
                      "color": "#000000",
                      "size": 13
                    },
                    "showarrow": false,
                    "text": "0<br>(0.0%)",
                    "x": "alert",
                    "xref": "x",
                    "y": "mod_drowsy",
                    "yref": "y"
                  },
                  {
                    "font": {
                      "color": "#000000",
                      "size": 13
                    },
                    "showarrow": false,
                    "text": "20<br>(6.7%)",
                    "x": "slight_drowsy",
                    "xref": "x",
                    "y": "mod_drowsy",
                    "yref": "y"
                  },
                  {
                    "font": {
                      "color": "#FFFFFF",
                      "size": 13
                    },
                    "showarrow": false,
                    "text": "54<br>(18.0%)",
                    "x": "mod_drowsy",
                    "xref": "x",
                    "y": "mod_drowsy",
                    "yref": "y"
                  },
                  {
                    "font": {
                      "color": "#000000",
                      "size": 13
                    },
                    "showarrow": false,
                    "text": "1<br>(0.3%)",
                    "x": "very_drowsy",
                    "xref": "x",
                    "y": "mod_drowsy",
                    "yref": "y"
                  },
                  {
                    "font": {
                      "color": "#000000",
                      "size": 13
                    },
                    "showarrow": false,
                    "text": "3<br>(1.0%)",
                    "x": "alert",
                    "xref": "x",
                    "y": "slight_drowsy",
                    "yref": "y"
                  },
                  {
                    "font": {
                      "color": "#FFFFFF",
                      "size": 13
                    },
                    "showarrow": false,
                    "text": "72<br>(24.0%)",
                    "x": "slight_drowsy",
                    "xref": "x",
                    "y": "slight_drowsy",
                    "yref": "y"
                  },
                  {
                    "font": {
                      "color": "#000000",
                      "size": 13
                    },
                    "showarrow": false,
                    "text": "0<br>(0.0%)",
                    "x": "mod_drowsy",
                    "xref": "x",
                    "y": "slight_drowsy",
                    "yref": "y"
                  },
                  {
                    "font": {
                      "color": "#000000",
                      "size": 13
                    },
                    "showarrow": false,
                    "text": "0<br>(0.0%)",
                    "x": "very_drowsy",
                    "xref": "x",
                    "y": "slight_drowsy",
                    "yref": "y"
                  },
                  {
                    "font": {
                      "color": "#FFFFFF",
                      "size": 13
                    },
                    "showarrow": false,
                    "text": "73<br>(24.3%)",
                    "x": "alert",
                    "xref": "x",
                    "y": "alert",
                    "yref": "y"
                  },
                  {
                    "font": {
                      "color": "#000000",
                      "size": 13
                    },
                    "showarrow": false,
                    "text": "2<br>(0.7%)",
                    "x": "slight_drowsy",
                    "xref": "x",
                    "y": "alert",
                    "yref": "y"
                  },
                  {
                    "font": {
                      "color": "#000000",
                      "size": 13
                    },
                    "showarrow": false,
                    "text": "0<br>(0.0%)",
                    "x": "mod_drowsy",
                    "xref": "x",
                    "y": "alert",
                    "yref": "y"
                  },
                  {
                    "font": {
                      "color": "#000000",
                      "size": 13
                    },
                    "showarrow": false,
                    "text": "0<br>(0.0%)",
                    "x": "very_drowsy",
                    "xref": "x",
                    "y": "alert",
                    "yref": "y"
                  }
                ],
                "height": 400,
                "template": {
                  "data": {
                    "bar": [
                      {
                        "error_x": {
                          "color": "#2a3f5f"
                        },
                        "error_y": {
                          "color": "#2a3f5f"
                        },
                        "marker": {
                          "line": {
                            "color": "#E5ECF6",
                            "width": 0.5
                          },
                          "pattern": {
                            "fillmode": "overlay",
                            "size": 10,
                            "solidity": 0.2
                          }
                        },
                        "type": "bar"
                      }
                    ],
                    "barpolar": [
                      {
                        "marker": {
                          "line": {
                            "color": "#E5ECF6",
                            "width": 0.5
                          },
                          "pattern": {
                            "fillmode": "overlay",
                            "size": 10,
                            "solidity": 0.2
                          }
                        },
                        "type": "barpolar"
                      }
                    ],
                    "carpet": [
                      {
                        "aaxis": {
                          "endlinecolor": "#2a3f5f",
                          "gridcolor": "white",
                          "linecolor": "white",
                          "minorgridcolor": "white",
                          "startlinecolor": "#2a3f5f"
                        },
                        "baxis": {
                          "endlinecolor": "#2a3f5f",
                          "gridcolor": "white",
                          "linecolor": "white",
                          "minorgridcolor": "white",
                          "startlinecolor": "#2a3f5f"
                        },
                        "type": "carpet"
                      }
                    ],
                    "choropleth": [
                      {
                        "colorbar": {
                          "outlinewidth": 0,
                          "ticks": ""
                        },
                        "type": "choropleth"
                      }
                    ],
                    "contour": [
                      {
                        "colorbar": {
                          "outlinewidth": 0,
                          "ticks": ""
                        },
                        "colorscale": [
                          [
                            0,
                            "#0d0887"
                          ],
                          [
                            0.1111111111111111,
                            "#46039f"
                          ],
                          [
                            0.2222222222222222,
                            "#7201a8"
                          ],
                          [
                            0.3333333333333333,
                            "#9c179e"
                          ],
                          [
                            0.4444444444444444,
                            "#bd3786"
                          ],
                          [
                            0.5555555555555556,
                            "#d8576b"
                          ],
                          [
                            0.6666666666666666,
                            "#ed7953"
                          ],
                          [
                            0.7777777777777778,
                            "#fb9f3a"
                          ],
                          [
                            0.8888888888888888,
                            "#fdca26"
                          ],
                          [
                            1,
                            "#f0f921"
                          ]
                        ],
                        "type": "contour"
                      }
                    ],
                    "contourcarpet": [
                      {
                        "colorbar": {
                          "outlinewidth": 0,
                          "ticks": ""
                        },
                        "type": "contourcarpet"
                      }
                    ],
                    "heatmap": [
                      {
                        "colorbar": {
                          "outlinewidth": 0,
                          "ticks": ""
                        },
                        "colorscale": [
                          [
                            0,
                            "#0d0887"
                          ],
                          [
                            0.1111111111111111,
                            "#46039f"
                          ],
                          [
                            0.2222222222222222,
                            "#7201a8"
                          ],
                          [
                            0.3333333333333333,
                            "#9c179e"
                          ],
                          [
                            0.4444444444444444,
                            "#bd3786"
                          ],
                          [
                            0.5555555555555556,
                            "#d8576b"
                          ],
                          [
                            0.6666666666666666,
                            "#ed7953"
                          ],
                          [
                            0.7777777777777778,
                            "#fb9f3a"
                          ],
                          [
                            0.8888888888888888,
                            "#fdca26"
                          ],
                          [
                            1,
                            "#f0f921"
                          ]
                        ],
                        "type": "heatmap"
                      }
                    ],
                    "heatmapgl": [
                      {
                        "colorbar": {
                          "outlinewidth": 0,
                          "ticks": ""
                        },
                        "colorscale": [
                          [
                            0,
                            "#0d0887"
                          ],
                          [
                            0.1111111111111111,
                            "#46039f"
                          ],
                          [
                            0.2222222222222222,
                            "#7201a8"
                          ],
                          [
                            0.3333333333333333,
                            "#9c179e"
                          ],
                          [
                            0.4444444444444444,
                            "#bd3786"
                          ],
                          [
                            0.5555555555555556,
                            "#d8576b"
                          ],
                          [
                            0.6666666666666666,
                            "#ed7953"
                          ],
                          [
                            0.7777777777777778,
                            "#fb9f3a"
                          ],
                          [
                            0.8888888888888888,
                            "#fdca26"
                          ],
                          [
                            1,
                            "#f0f921"
                          ]
                        ],
                        "type": "heatmapgl"
                      }
                    ],
                    "histogram": [
                      {
                        "marker": {
                          "pattern": {
                            "fillmode": "overlay",
                            "size": 10,
                            "solidity": 0.2
                          }
                        },
                        "type": "histogram"
                      }
                    ],
                    "histogram2d": [
                      {
                        "colorbar": {
                          "outlinewidth": 0,
                          "ticks": ""
                        },
                        "colorscale": [
                          [
                            0,
                            "#0d0887"
                          ],
                          [
                            0.1111111111111111,
                            "#46039f"
                          ],
                          [
                            0.2222222222222222,
                            "#7201a8"
                          ],
                          [
                            0.3333333333333333,
                            "#9c179e"
                          ],
                          [
                            0.4444444444444444,
                            "#bd3786"
                          ],
                          [
                            0.5555555555555556,
                            "#d8576b"
                          ],
                          [
                            0.6666666666666666,
                            "#ed7953"
                          ],
                          [
                            0.7777777777777778,
                            "#fb9f3a"
                          ],
                          [
                            0.8888888888888888,
                            "#fdca26"
                          ],
                          [
                            1,
                            "#f0f921"
                          ]
                        ],
                        "type": "histogram2d"
                      }
                    ],
                    "histogram2dcontour": [
                      {
                        "colorbar": {
                          "outlinewidth": 0,
                          "ticks": ""
                        },
                        "colorscale": [
                          [
                            0,
                            "#0d0887"
                          ],
                          [
                            0.1111111111111111,
                            "#46039f"
                          ],
                          [
                            0.2222222222222222,
                            "#7201a8"
                          ],
                          [
                            0.3333333333333333,
                            "#9c179e"
                          ],
                          [
                            0.4444444444444444,
                            "#bd3786"
                          ],
                          [
                            0.5555555555555556,
                            "#d8576b"
                          ],
                          [
                            0.6666666666666666,
                            "#ed7953"
                          ],
                          [
                            0.7777777777777778,
                            "#fb9f3a"
                          ],
                          [
                            0.8888888888888888,
                            "#fdca26"
                          ],
                          [
                            1,
                            "#f0f921"
                          ]
                        ],
                        "type": "histogram2dcontour"
                      }
                    ],
                    "mesh3d": [
                      {
                        "colorbar": {
                          "outlinewidth": 0,
                          "ticks": ""
                        },
                        "type": "mesh3d"
                      }
                    ],
                    "parcoords": [
                      {
                        "line": {
                          "colorbar": {
                            "outlinewidth": 0,
                            "ticks": ""
                          }
                        },
                        "type": "parcoords"
                      }
                    ],
                    "pie": [
                      {
                        "automargin": true,
                        "type": "pie"
                      }
                    ],
                    "scatter": [
                      {
                        "fillpattern": {
                          "fillmode": "overlay",
                          "size": 10,
                          "solidity": 0.2
                        },
                        "type": "scatter"
                      }
                    ],
                    "scatter3d": [
                      {
                        "line": {
                          "colorbar": {
                            "outlinewidth": 0,
                            "ticks": ""
                          }
                        },
                        "marker": {
                          "colorbar": {
                            "outlinewidth": 0,
                            "ticks": ""
                          }
                        },
                        "type": "scatter3d"
                      }
                    ],
                    "scattercarpet": [
                      {
                        "marker": {
                          "colorbar": {
                            "outlinewidth": 0,
                            "ticks": ""
                          }
                        },
                        "type": "scattercarpet"
                      }
                    ],
                    "scattergeo": [
                      {
                        "marker": {
                          "colorbar": {
                            "outlinewidth": 0,
                            "ticks": ""
                          }
                        },
                        "type": "scattergeo"
                      }
                    ],
                    "scattergl": [
                      {
                        "marker": {
                          "colorbar": {
                            "outlinewidth": 0,
                            "ticks": ""
                          }
                        },
                        "type": "scattergl"
                      }
                    ],
                    "scattermapbox": [
                      {
                        "marker": {
                          "colorbar": {
                            "outlinewidth": 0,
                            "ticks": ""
                          }
                        },
                        "type": "scattermapbox"
                      }
                    ],
                    "scatterpolar": [
                      {
                        "marker": {
                          "colorbar": {
                            "outlinewidth": 0,
                            "ticks": ""
                          }
                        },
                        "type": "scatterpolar"
                      }
                    ],
                    "scatterpolargl": [
                      {
                        "marker": {
                          "colorbar": {
                            "outlinewidth": 0,
                            "ticks": ""
                          }
                        },
                        "type": "scatterpolargl"
                      }
                    ],
                    "scatterternary": [
                      {
                        "marker": {
                          "colorbar": {
                            "outlinewidth": 0,
                            "ticks": ""
                          }
                        },
                        "type": "scatterternary"
                      }
                    ],
                    "surface": [
                      {
                        "colorbar": {
                          "outlinewidth": 0,
                          "ticks": ""
                        },
                        "colorscale": [
                          [
                            0,
                            "#0d0887"
                          ],
                          [
                            0.1111111111111111,
                            "#46039f"
                          ],
                          [
                            0.2222222222222222,
                            "#7201a8"
                          ],
                          [
                            0.3333333333333333,
                            "#9c179e"
                          ],
                          [
                            0.4444444444444444,
                            "#bd3786"
                          ],
                          [
                            0.5555555555555556,
                            "#d8576b"
                          ],
                          [
                            0.6666666666666666,
                            "#ed7953"
                          ],
                          [
                            0.7777777777777778,
                            "#fb9f3a"
                          ],
                          [
                            0.8888888888888888,
                            "#fdca26"
                          ],
                          [
                            1,
                            "#f0f921"
                          ]
                        ],
                        "type": "surface"
                      }
                    ],
                    "table": [
                      {
                        "cells": {
                          "fill": {
                            "color": "#EBF0F8"
                          },
                          "line": {
                            "color": "white"
                          }
                        },
                        "header": {
                          "fill": {
                            "color": "#C8D4E3"
                          },
                          "line": {
                            "color": "white"
                          }
                        },
                        "type": "table"
                      }
                    ]
                  },
                  "layout": {
                    "annotationdefaults": {
                      "arrowcolor": "#2a3f5f",
                      "arrowhead": 0,
                      "arrowwidth": 1
                    },
                    "autotypenumbers": "strict",
                    "coloraxis": {
                      "colorbar": {
                        "outlinewidth": 0,
                        "ticks": ""
                      }
                    },
                    "colorscale": {
                      "diverging": [
                        [
                          0,
                          "#8e0152"
                        ],
                        [
                          0.1,
                          "#c51b7d"
                        ],
                        [
                          0.2,
                          "#de77ae"
                        ],
                        [
                          0.3,
                          "#f1b6da"
                        ],
                        [
                          0.4,
                          "#fde0ef"
                        ],
                        [
                          0.5,
                          "#f7f7f7"
                        ],
                        [
                          0.6,
                          "#e6f5d0"
                        ],
                        [
                          0.7,
                          "#b8e186"
                        ],
                        [
                          0.8,
                          "#7fbc41"
                        ],
                        [
                          0.9,
                          "#4d9221"
                        ],
                        [
                          1,
                          "#276419"
                        ]
                      ],
                      "sequential": [
                        [
                          0,
                          "#0d0887"
                        ],
                        [
                          0.1111111111111111,
                          "#46039f"
                        ],
                        [
                          0.2222222222222222,
                          "#7201a8"
                        ],
                        [
                          0.3333333333333333,
                          "#9c179e"
                        ],
                        [
                          0.4444444444444444,
                          "#bd3786"
                        ],
                        [
                          0.5555555555555556,
                          "#d8576b"
                        ],
                        [
                          0.6666666666666666,
                          "#ed7953"
                        ],
                        [
                          0.7777777777777778,
                          "#fb9f3a"
                        ],
                        [
                          0.8888888888888888,
                          "#fdca26"
                        ],
                        [
                          1,
                          "#f0f921"
                        ]
                      ],
                      "sequentialminus": [
                        [
                          0,
                          "#0d0887"
                        ],
                        [
                          0.1111111111111111,
                          "#46039f"
                        ],
                        [
                          0.2222222222222222,
                          "#7201a8"
                        ],
                        [
                          0.3333333333333333,
                          "#9c179e"
                        ],
                        [
                          0.4444444444444444,
                          "#bd3786"
                        ],
                        [
                          0.5555555555555556,
                          "#d8576b"
                        ],
                        [
                          0.6666666666666666,
                          "#ed7953"
                        ],
                        [
                          0.7777777777777778,
                          "#fb9f3a"
                        ],
                        [
                          0.8888888888888888,
                          "#fdca26"
                        ],
                        [
                          1,
                          "#f0f921"
                        ]
                      ]
                    },
                    "colorway": [
                      "#636efa",
                      "#EF553B",
                      "#00cc96",
                      "#ab63fa",
                      "#FFA15A",
                      "#19d3f3",
                      "#FF6692",
                      "#B6E880",
                      "#FF97FF",
                      "#FECB52"
                    ],
                    "font": {
                      "color": "#2a3f5f"
                    },
                    "geo": {
                      "bgcolor": "white",
                      "lakecolor": "white",
                      "landcolor": "#E5ECF6",
                      "showlakes": true,
                      "showland": true,
                      "subunitcolor": "white"
                    },
                    "hoverlabel": {
                      "align": "left"
                    },
                    "hovermode": "closest",
                    "mapbox": {
                      "style": "light"
                    },
                    "paper_bgcolor": "white",
                    "plot_bgcolor": "#E5ECF6",
                    "polar": {
                      "angularaxis": {
                        "gridcolor": "white",
                        "linecolor": "white",
                        "ticks": ""
                      },
                      "bgcolor": "#E5ECF6",
                      "radialaxis": {
                        "gridcolor": "white",
                        "linecolor": "white",
                        "ticks": ""
                      }
                    },
                    "scene": {
                      "xaxis": {
                        "backgroundcolor": "#E5ECF6",
                        "gridcolor": "white",
                        "gridwidth": 2,
                        "linecolor": "white",
                        "showbackground": true,
                        "ticks": "",
                        "zerolinecolor": "white"
                      },
                      "yaxis": {
                        "backgroundcolor": "#E5ECF6",
                        "gridcolor": "white",
                        "gridwidth": 2,
                        "linecolor": "white",
                        "showbackground": true,
                        "ticks": "",
                        "zerolinecolor": "white"
                      },
                      "zaxis": {
                        "backgroundcolor": "#E5ECF6",
                        "gridcolor": "white",
                        "gridwidth": 2,
                        "linecolor": "white",
                        "showbackground": true,
                        "ticks": "",
                        "zerolinecolor": "white"
                      }
                    },
                    "shapedefaults": {
                      "line": {
                        "color": "#2a3f5f"
                      }
                    },
                    "ternary": {
                      "aaxis": {
                        "gridcolor": "white",
                        "linecolor": "white",
                        "ticks": ""
                      },
                      "baxis": {
                        "gridcolor": "white",
                        "linecolor": "white",
                        "ticks": ""
                      },
                      "bgcolor": "#E5ECF6",
                      "caxis": {
                        "gridcolor": "white",
                        "linecolor": "white",
                        "ticks": ""
                      }
                    },
                    "title": {
                      "x": 0.05
                    },
                    "xaxis": {
                      "automargin": true,
                      "gridcolor": "white",
                      "linecolor": "white",
                      "ticks": "",
                      "title": {
                        "standoff": 15
                      },
                      "zerolinecolor": "white",
                      "zerolinewidth": 2
                    },
                    "yaxis": {
                      "automargin": true,
                      "gridcolor": "white",
                      "linecolor": "white",
                      "ticks": "",
                      "title": {
                        "standoff": 15
                      },
                      "zerolinecolor": "white",
                      "zerolinewidth": 2
                    }
                  }
                },
                "width": 650,
                "xaxis": {
                  "dtick": 1,
                  "gridcolor": "rgb(0, 0, 0)",
                  "side": "top",
                  "tickfont": {
                    "size": 14
                  },
                  "ticks": "",
                  "title": {
                    "font": {
                      "size": 18
                    },
                    "text": "Predicted Label"
                  }
                },
                "yaxis": {
                  "dtick": 1,
                  "tickfont": {
                    "size": 14
                  },
                  "ticks": "",
                  "ticksuffix": "  ",
                  "title": {
                    "font": {
                      "size": 18
                    },
                    "text": "True Label"
                  }
                }
              }
            }
          },
          "metadata": {},
          "output_type": "display_data"
        }
      ],
      "source": [
        "# Construct a visualization for the confusion matrix\n",
        "z_test = confusion_matrix(test_true,test_pred)\n",
        "\n",
        "# reformat the matrix\n",
        "z_test[[0,1,2,3],:] = z_test[[3,2,1,0],:]\n",
        "\n",
        "x = ['alert','slight_drowsy','mod_drowsy','very_drowsy']\n",
        "y = ['very_drowsy','mod_drowsy', 'slight_drowsy', 'alert']\n",
        "\n",
        "def format_text(z):\n",
        "    \"\"\"\n",
        "    This function receives the confusion matrix values and formats the text\n",
        "    to display in the matrix with the value and percentage of total data.\n",
        "    \"\"\"\n",
        "    return f'{z}<br>({z / np.sum(z_test) * 100:.1f}%)'\n",
        "\n",
        "z_text = np.vectorize(format_text)(z_test)\n",
        "\n",
        "heatmap = ff.create_annotated_heatmap(z_test, x=x, y=y, annotation_text=z_text, colorscale='teal')\n",
        "heatmap.update_layout(height=400,width=650,\n",
        "                      xaxis=dict(title=\"Predicted Label\", title_font=dict(size=18), tickfont=dict(size=14)),\n",
        "                      yaxis=dict(title=\"True Label\", title_font=dict(size=18), tickfont=dict(size=14)))\n",
        "# Modify the font size of the annotations\n",
        "for annotation in heatmap.layout.annotations:\n",
        "    annotation.font.size = 13\n",
        "heatmap.show()"
      ]
    },
    {
      "cell_type": "code",
      "execution_count": 160,
      "metadata": {},
      "outputs": [
        {
          "data": {
            "application/vnd.plotly.v1+json": {
              "config": {
                "plotlyServerURL": "https://plot.ly"
              },
              "data": [
                {
                  "mode": "lines",
                  "name": "ROC global (AUC = 0.9883)",
                  "type": "scatter",
                  "x": [
                    0,
                    0,
                    0,
                    0,
                    0,
                    0,
                    0,
                    0,
                    0,
                    0,
                    0,
                    0,
                    0,
                    0,
                    0,
                    0,
                    0.0011261261261261261,
                    0.0011261261261261261,
                    0.0022522522522522522,
                    0.0022522522522522522,
                    0.0033783783783783786,
                    0.0033783783783783786,
                    0.0045045045045045045,
                    0.0045045045045045045,
                    0.00563063063063063,
                    0.00563063063063063,
                    0.006756756756756757,
                    0.006756756756756757,
                    0.007882882882882882,
                    0.007882882882882882,
                    0.009009009009009009,
                    0.009009009009009009,
                    0.010135135135135136,
                    0.010135135135135136,
                    0.01126126126126126,
                    0.01126126126126126,
                    0.012387387387387387,
                    0.012387387387387387,
                    0.013513513513513514,
                    0.013513513513513514,
                    0.01463963963963964,
                    0.01463963963963964,
                    0.015765765765765764,
                    0.015765765765765764,
                    0.016891891891891893,
                    0.016891891891891893,
                    0.018018018018018018,
                    0.018018018018018018,
                    0.019144144144144143,
                    0.019144144144144143,
                    0.02027027027027027,
                    0.02027027027027027,
                    0.021396396396396396,
                    0.021396396396396396,
                    0.02252252252252252,
                    0.02252252252252252,
                    0.02364864864864865,
                    0.02364864864864865,
                    0.024774774774774775,
                    0.024774774774774775,
                    0.02927927927927928,
                    0.02927927927927928,
                    0.03265765765765766,
                    0.03265765765765766,
                    0.03490990990990991,
                    0.03490990990990991,
                    0.038288288288288286,
                    0.038288288288288286,
                    0.04391891891891892,
                    0.04391891891891892,
                    0.0472972972972973,
                    0.0472972972972973,
                    0.04842342342342342,
                    0.04842342342342342,
                    0.05067567567567568,
                    0.05067567567567568,
                    0.060810810810810814,
                    0.060810810810810814,
                    0.06418918918918919,
                    0.06418918918918919,
                    0.0686936936936937,
                    0.0686936936936937,
                    0.07657657657657657,
                    0.07657657657657657,
                    0.09684684684684684,
                    0.09684684684684684,
                    0.1036036036036036,
                    0.1036036036036036,
                    0.11936936936936937,
                    0.11936936936936937,
                    0.12612612612612611,
                    0.12612612612612611,
                    0.1858108108108108,
                    0.1858108108108108,
                    0.18806306306306306,
                    0.18806306306306306,
                    0.20382882882882883,
                    0.20382882882882883,
                    0.22409909909909909,
                    0.22409909909909909,
                    0.23085585585585586,
                    0.23085585585585586,
                    1
                  ],
                  "y": [
                    0,
                    0.02364864864864865,
                    0.033783783783783786,
                    0.0472972972972973,
                    0.05405405405405406,
                    0.0777027027027027,
                    0.09121621621621621,
                    0.10472972972972973,
                    0.11148648648648649,
                    0.1858108108108108,
                    0.19256756756756757,
                    0.19594594594594594,
                    0.20270270270270271,
                    0.30743243243243246,
                    0.3141891891891892,
                    0.4864864864864865,
                    0.4864864864864865,
                    0.5,
                    0.5,
                    0.5371621621621622,
                    0.5371621621621622,
                    0.5709459459459459,
                    0.5709459459459459,
                    0.5743243243243243,
                    0.5743243243243243,
                    0.6790540540540541,
                    0.6790540540540541,
                    0.6925675675675675,
                    0.6925675675675675,
                    0.7128378378378378,
                    0.7128378378378378,
                    0.7263513513513513,
                    0.7263513513513513,
                    0.7702702702702703,
                    0.7702702702702703,
                    0.7804054054054054,
                    0.7804054054054054,
                    0.7871621621621622,
                    0.7871621621621622,
                    0.793918918918919,
                    0.793918918918919,
                    0.8378378378378378,
                    0.8378378378378378,
                    0.8412162162162162,
                    0.8412162162162162,
                    0.847972972972973,
                    0.847972972972973,
                    0.8513513513513513,
                    0.8513513513513513,
                    0.8581081081081081,
                    0.8581081081081081,
                    0.8851351351351351,
                    0.8851351351351351,
                    0.8885135135135135,
                    0.8885135135135135,
                    0.902027027027027,
                    0.902027027027027,
                    0.9087837837837838,
                    0.9087837837837838,
                    0.9121621621621622,
                    0.9121621621621622,
                    0.9290540540540541,
                    0.9290540540540541,
                    0.9324324324324325,
                    0.9324324324324325,
                    0.9358108108108109,
                    0.9358108108108109,
                    0.9391891891891891,
                    0.9391891891891891,
                    0.9425675675675675,
                    0.9425675675675675,
                    0.9459459459459459,
                    0.9459459459459459,
                    0.9493243243243243,
                    0.9493243243243243,
                    0.956081081081081,
                    0.956081081081081,
                    0.9594594594594594,
                    0.9594594594594594,
                    0.9628378378378378,
                    0.9628378378378378,
                    0.9662162162162162,
                    0.9662162162162162,
                    0.9695945945945946,
                    0.9695945945945946,
                    0.972972972972973,
                    0.972972972972973,
                    0.9763513513513513,
                    0.9763513513513513,
                    0.9797297297297297,
                    0.9797297297297297,
                    0.9831081081081081,
                    0.9831081081081081,
                    0.9864864864864865,
                    0.9864864864864865,
                    0.9898648648648649,
                    0.9898648648648649,
                    0.9932432432432432,
                    0.9932432432432432,
                    0.9966216216216216,
                    0.9966216216216216,
                    1,
                    1
                  ]
                },
                {
                  "mode": "lines",
                  "name": "ROC clase alert (AUC = 1.0000)",
                  "type": "scatter",
                  "x": [
                    0,
                    0,
                    0,
                    0,
                    0,
                    0,
                    0,
                    0,
                    1
                  ],
                  "y": [
                    0,
                    0.013333333333333334,
                    0.04,
                    0.14666666666666667,
                    0.17333333333333334,
                    0.36,
                    0.38666666666666666,
                    1,
                    1
                  ]
                },
                {
                  "mode": "lines",
                  "name": "ROC clase slight_drowsy (AUC = 1.0000)",
                  "type": "scatter",
                  "x": [
                    0,
                    0,
                    0,
                    1
                  ],
                  "y": [
                    0,
                    0.0136986301369863,
                    1,
                    1
                  ]
                },
                {
                  "mode": "lines",
                  "name": "ROC clase mod_drowsy (AUC = 0.9955)",
                  "type": "scatter",
                  "x": [
                    0,
                    0,
                    0,
                    0,
                    0,
                    0,
                    0,
                    0,
                    0,
                    0,
                    0.004484304932735426,
                    0.004484304932735426,
                    0.008968609865470852,
                    0.008968609865470852,
                    0.013452914798206279,
                    0.013452914798206279,
                    0.02242152466367713,
                    0.02242152466367713,
                    0.04035874439461883,
                    0.04035874439461883,
                    0.04484304932735426,
                    0.04484304932735426,
                    0.08071748878923767,
                    0.08071748878923767,
                    1
                  ],
                  "y": [
                    0,
                    0.0958904109589041,
                    0.136986301369863,
                    0.1917808219178082,
                    0.2191780821917808,
                    0.3150684931506849,
                    0.3698630136986301,
                    0.6027397260273972,
                    0.6301369863013698,
                    0.821917808219178,
                    0.821917808219178,
                    0.8356164383561644,
                    0.8356164383561644,
                    0.863013698630137,
                    0.863013698630137,
                    0.8904109589041096,
                    0.8904109589041096,
                    0.958904109589041,
                    0.958904109589041,
                    0.9726027397260274,
                    0.9726027397260274,
                    0.9863013698630136,
                    0.9863013698630136,
                    1,
                    1
                  ]
                },
                {
                  "mode": "lines",
                  "name": "ROC clase very_drowsy (AUC = 0.9907)",
                  "type": "scatter",
                  "x": [
                    0,
                    0,
                    0,
                    0.004524886877828055,
                    0.004524886877828055,
                    0.00904977375565611,
                    0.00904977375565611,
                    0.013574660633484163,
                    0.013574660633484163,
                    0.02262443438914027,
                    0.02262443438914027,
                    0.027149321266968326,
                    0.027149321266968326,
                    0.03167420814479638,
                    0.03167420814479638,
                    0.07692307692307693,
                    0.07692307692307693,
                    0.08144796380090498,
                    0.08144796380090498,
                    0.09954751131221719,
                    0.09954751131221719,
                    0.14027149321266968,
                    0.14027149321266968,
                    0.1493212669683258,
                    0.1493212669683258,
                    1
                  ],
                  "y": [
                    0,
                    0.013333333333333334,
                    0.8266666666666667,
                    0.8266666666666667,
                    0.84,
                    0.84,
                    0.8666666666666667,
                    0.8666666666666667,
                    0.88,
                    0.88,
                    0.8933333333333333,
                    0.8933333333333333,
                    0.9066666666666666,
                    0.9066666666666666,
                    0.9333333333333333,
                    0.9333333333333333,
                    0.9466666666666667,
                    0.9466666666666667,
                    0.96,
                    0.96,
                    0.9733333333333334,
                    0.9733333333333334,
                    0.9866666666666667,
                    0.9866666666666667,
                    1,
                    1
                  ]
                }
              ],
              "layout": {
                "height": 500,
                "legend": {
                  "font": {
                    "size": 14
                  },
                  "x": 0.3,
                  "y": 0.1
                },
                "template": {
                  "data": {
                    "bar": [
                      {
                        "error_x": {
                          "color": "#2a3f5f"
                        },
                        "error_y": {
                          "color": "#2a3f5f"
                        },
                        "marker": {
                          "line": {
                            "color": "#E5ECF6",
                            "width": 0.5
                          },
                          "pattern": {
                            "fillmode": "overlay",
                            "size": 10,
                            "solidity": 0.2
                          }
                        },
                        "type": "bar"
                      }
                    ],
                    "barpolar": [
                      {
                        "marker": {
                          "line": {
                            "color": "#E5ECF6",
                            "width": 0.5
                          },
                          "pattern": {
                            "fillmode": "overlay",
                            "size": 10,
                            "solidity": 0.2
                          }
                        },
                        "type": "barpolar"
                      }
                    ],
                    "carpet": [
                      {
                        "aaxis": {
                          "endlinecolor": "#2a3f5f",
                          "gridcolor": "white",
                          "linecolor": "white",
                          "minorgridcolor": "white",
                          "startlinecolor": "#2a3f5f"
                        },
                        "baxis": {
                          "endlinecolor": "#2a3f5f",
                          "gridcolor": "white",
                          "linecolor": "white",
                          "minorgridcolor": "white",
                          "startlinecolor": "#2a3f5f"
                        },
                        "type": "carpet"
                      }
                    ],
                    "choropleth": [
                      {
                        "colorbar": {
                          "outlinewidth": 0,
                          "ticks": ""
                        },
                        "type": "choropleth"
                      }
                    ],
                    "contour": [
                      {
                        "colorbar": {
                          "outlinewidth": 0,
                          "ticks": ""
                        },
                        "colorscale": [
                          [
                            0,
                            "#0d0887"
                          ],
                          [
                            0.1111111111111111,
                            "#46039f"
                          ],
                          [
                            0.2222222222222222,
                            "#7201a8"
                          ],
                          [
                            0.3333333333333333,
                            "#9c179e"
                          ],
                          [
                            0.4444444444444444,
                            "#bd3786"
                          ],
                          [
                            0.5555555555555556,
                            "#d8576b"
                          ],
                          [
                            0.6666666666666666,
                            "#ed7953"
                          ],
                          [
                            0.7777777777777778,
                            "#fb9f3a"
                          ],
                          [
                            0.8888888888888888,
                            "#fdca26"
                          ],
                          [
                            1,
                            "#f0f921"
                          ]
                        ],
                        "type": "contour"
                      }
                    ],
                    "contourcarpet": [
                      {
                        "colorbar": {
                          "outlinewidth": 0,
                          "ticks": ""
                        },
                        "type": "contourcarpet"
                      }
                    ],
                    "heatmap": [
                      {
                        "colorbar": {
                          "outlinewidth": 0,
                          "ticks": ""
                        },
                        "colorscale": [
                          [
                            0,
                            "#0d0887"
                          ],
                          [
                            0.1111111111111111,
                            "#46039f"
                          ],
                          [
                            0.2222222222222222,
                            "#7201a8"
                          ],
                          [
                            0.3333333333333333,
                            "#9c179e"
                          ],
                          [
                            0.4444444444444444,
                            "#bd3786"
                          ],
                          [
                            0.5555555555555556,
                            "#d8576b"
                          ],
                          [
                            0.6666666666666666,
                            "#ed7953"
                          ],
                          [
                            0.7777777777777778,
                            "#fb9f3a"
                          ],
                          [
                            0.8888888888888888,
                            "#fdca26"
                          ],
                          [
                            1,
                            "#f0f921"
                          ]
                        ],
                        "type": "heatmap"
                      }
                    ],
                    "heatmapgl": [
                      {
                        "colorbar": {
                          "outlinewidth": 0,
                          "ticks": ""
                        },
                        "colorscale": [
                          [
                            0,
                            "#0d0887"
                          ],
                          [
                            0.1111111111111111,
                            "#46039f"
                          ],
                          [
                            0.2222222222222222,
                            "#7201a8"
                          ],
                          [
                            0.3333333333333333,
                            "#9c179e"
                          ],
                          [
                            0.4444444444444444,
                            "#bd3786"
                          ],
                          [
                            0.5555555555555556,
                            "#d8576b"
                          ],
                          [
                            0.6666666666666666,
                            "#ed7953"
                          ],
                          [
                            0.7777777777777778,
                            "#fb9f3a"
                          ],
                          [
                            0.8888888888888888,
                            "#fdca26"
                          ],
                          [
                            1,
                            "#f0f921"
                          ]
                        ],
                        "type": "heatmapgl"
                      }
                    ],
                    "histogram": [
                      {
                        "marker": {
                          "pattern": {
                            "fillmode": "overlay",
                            "size": 10,
                            "solidity": 0.2
                          }
                        },
                        "type": "histogram"
                      }
                    ],
                    "histogram2d": [
                      {
                        "colorbar": {
                          "outlinewidth": 0,
                          "ticks": ""
                        },
                        "colorscale": [
                          [
                            0,
                            "#0d0887"
                          ],
                          [
                            0.1111111111111111,
                            "#46039f"
                          ],
                          [
                            0.2222222222222222,
                            "#7201a8"
                          ],
                          [
                            0.3333333333333333,
                            "#9c179e"
                          ],
                          [
                            0.4444444444444444,
                            "#bd3786"
                          ],
                          [
                            0.5555555555555556,
                            "#d8576b"
                          ],
                          [
                            0.6666666666666666,
                            "#ed7953"
                          ],
                          [
                            0.7777777777777778,
                            "#fb9f3a"
                          ],
                          [
                            0.8888888888888888,
                            "#fdca26"
                          ],
                          [
                            1,
                            "#f0f921"
                          ]
                        ],
                        "type": "histogram2d"
                      }
                    ],
                    "histogram2dcontour": [
                      {
                        "colorbar": {
                          "outlinewidth": 0,
                          "ticks": ""
                        },
                        "colorscale": [
                          [
                            0,
                            "#0d0887"
                          ],
                          [
                            0.1111111111111111,
                            "#46039f"
                          ],
                          [
                            0.2222222222222222,
                            "#7201a8"
                          ],
                          [
                            0.3333333333333333,
                            "#9c179e"
                          ],
                          [
                            0.4444444444444444,
                            "#bd3786"
                          ],
                          [
                            0.5555555555555556,
                            "#d8576b"
                          ],
                          [
                            0.6666666666666666,
                            "#ed7953"
                          ],
                          [
                            0.7777777777777778,
                            "#fb9f3a"
                          ],
                          [
                            0.8888888888888888,
                            "#fdca26"
                          ],
                          [
                            1,
                            "#f0f921"
                          ]
                        ],
                        "type": "histogram2dcontour"
                      }
                    ],
                    "mesh3d": [
                      {
                        "colorbar": {
                          "outlinewidth": 0,
                          "ticks": ""
                        },
                        "type": "mesh3d"
                      }
                    ],
                    "parcoords": [
                      {
                        "line": {
                          "colorbar": {
                            "outlinewidth": 0,
                            "ticks": ""
                          }
                        },
                        "type": "parcoords"
                      }
                    ],
                    "pie": [
                      {
                        "automargin": true,
                        "type": "pie"
                      }
                    ],
                    "scatter": [
                      {
                        "fillpattern": {
                          "fillmode": "overlay",
                          "size": 10,
                          "solidity": 0.2
                        },
                        "type": "scatter"
                      }
                    ],
                    "scatter3d": [
                      {
                        "line": {
                          "colorbar": {
                            "outlinewidth": 0,
                            "ticks": ""
                          }
                        },
                        "marker": {
                          "colorbar": {
                            "outlinewidth": 0,
                            "ticks": ""
                          }
                        },
                        "type": "scatter3d"
                      }
                    ],
                    "scattercarpet": [
                      {
                        "marker": {
                          "colorbar": {
                            "outlinewidth": 0,
                            "ticks": ""
                          }
                        },
                        "type": "scattercarpet"
                      }
                    ],
                    "scattergeo": [
                      {
                        "marker": {
                          "colorbar": {
                            "outlinewidth": 0,
                            "ticks": ""
                          }
                        },
                        "type": "scattergeo"
                      }
                    ],
                    "scattergl": [
                      {
                        "marker": {
                          "colorbar": {
                            "outlinewidth": 0,
                            "ticks": ""
                          }
                        },
                        "type": "scattergl"
                      }
                    ],
                    "scattermapbox": [
                      {
                        "marker": {
                          "colorbar": {
                            "outlinewidth": 0,
                            "ticks": ""
                          }
                        },
                        "type": "scattermapbox"
                      }
                    ],
                    "scatterpolar": [
                      {
                        "marker": {
                          "colorbar": {
                            "outlinewidth": 0,
                            "ticks": ""
                          }
                        },
                        "type": "scatterpolar"
                      }
                    ],
                    "scatterpolargl": [
                      {
                        "marker": {
                          "colorbar": {
                            "outlinewidth": 0,
                            "ticks": ""
                          }
                        },
                        "type": "scatterpolargl"
                      }
                    ],
                    "scatterternary": [
                      {
                        "marker": {
                          "colorbar": {
                            "outlinewidth": 0,
                            "ticks": ""
                          }
                        },
                        "type": "scatterternary"
                      }
                    ],
                    "surface": [
                      {
                        "colorbar": {
                          "outlinewidth": 0,
                          "ticks": ""
                        },
                        "colorscale": [
                          [
                            0,
                            "#0d0887"
                          ],
                          [
                            0.1111111111111111,
                            "#46039f"
                          ],
                          [
                            0.2222222222222222,
                            "#7201a8"
                          ],
                          [
                            0.3333333333333333,
                            "#9c179e"
                          ],
                          [
                            0.4444444444444444,
                            "#bd3786"
                          ],
                          [
                            0.5555555555555556,
                            "#d8576b"
                          ],
                          [
                            0.6666666666666666,
                            "#ed7953"
                          ],
                          [
                            0.7777777777777778,
                            "#fb9f3a"
                          ],
                          [
                            0.8888888888888888,
                            "#fdca26"
                          ],
                          [
                            1,
                            "#f0f921"
                          ]
                        ],
                        "type": "surface"
                      }
                    ],
                    "table": [
                      {
                        "cells": {
                          "fill": {
                            "color": "#EBF0F8"
                          },
                          "line": {
                            "color": "white"
                          }
                        },
                        "header": {
                          "fill": {
                            "color": "#C8D4E3"
                          },
                          "line": {
                            "color": "white"
                          }
                        },
                        "type": "table"
                      }
                    ]
                  },
                  "layout": {
                    "annotationdefaults": {
                      "arrowcolor": "#2a3f5f",
                      "arrowhead": 0,
                      "arrowwidth": 1
                    },
                    "autotypenumbers": "strict",
                    "coloraxis": {
                      "colorbar": {
                        "outlinewidth": 0,
                        "ticks": ""
                      }
                    },
                    "colorscale": {
                      "diverging": [
                        [
                          0,
                          "#8e0152"
                        ],
                        [
                          0.1,
                          "#c51b7d"
                        ],
                        [
                          0.2,
                          "#de77ae"
                        ],
                        [
                          0.3,
                          "#f1b6da"
                        ],
                        [
                          0.4,
                          "#fde0ef"
                        ],
                        [
                          0.5,
                          "#f7f7f7"
                        ],
                        [
                          0.6,
                          "#e6f5d0"
                        ],
                        [
                          0.7,
                          "#b8e186"
                        ],
                        [
                          0.8,
                          "#7fbc41"
                        ],
                        [
                          0.9,
                          "#4d9221"
                        ],
                        [
                          1,
                          "#276419"
                        ]
                      ],
                      "sequential": [
                        [
                          0,
                          "#0d0887"
                        ],
                        [
                          0.1111111111111111,
                          "#46039f"
                        ],
                        [
                          0.2222222222222222,
                          "#7201a8"
                        ],
                        [
                          0.3333333333333333,
                          "#9c179e"
                        ],
                        [
                          0.4444444444444444,
                          "#bd3786"
                        ],
                        [
                          0.5555555555555556,
                          "#d8576b"
                        ],
                        [
                          0.6666666666666666,
                          "#ed7953"
                        ],
                        [
                          0.7777777777777778,
                          "#fb9f3a"
                        ],
                        [
                          0.8888888888888888,
                          "#fdca26"
                        ],
                        [
                          1,
                          "#f0f921"
                        ]
                      ],
                      "sequentialminus": [
                        [
                          0,
                          "#0d0887"
                        ],
                        [
                          0.1111111111111111,
                          "#46039f"
                        ],
                        [
                          0.2222222222222222,
                          "#7201a8"
                        ],
                        [
                          0.3333333333333333,
                          "#9c179e"
                        ],
                        [
                          0.4444444444444444,
                          "#bd3786"
                        ],
                        [
                          0.5555555555555556,
                          "#d8576b"
                        ],
                        [
                          0.6666666666666666,
                          "#ed7953"
                        ],
                        [
                          0.7777777777777778,
                          "#fb9f3a"
                        ],
                        [
                          0.8888888888888888,
                          "#fdca26"
                        ],
                        [
                          1,
                          "#f0f921"
                        ]
                      ]
                    },
                    "colorway": [
                      "#636efa",
                      "#EF553B",
                      "#00cc96",
                      "#ab63fa",
                      "#FFA15A",
                      "#19d3f3",
                      "#FF6692",
                      "#B6E880",
                      "#FF97FF",
                      "#FECB52"
                    ],
                    "font": {
                      "color": "#2a3f5f"
                    },
                    "geo": {
                      "bgcolor": "white",
                      "lakecolor": "white",
                      "landcolor": "#E5ECF6",
                      "showlakes": true,
                      "showland": true,
                      "subunitcolor": "white"
                    },
                    "hoverlabel": {
                      "align": "left"
                    },
                    "hovermode": "closest",
                    "mapbox": {
                      "style": "light"
                    },
                    "paper_bgcolor": "white",
                    "plot_bgcolor": "#E5ECF6",
                    "polar": {
                      "angularaxis": {
                        "gridcolor": "white",
                        "linecolor": "white",
                        "ticks": ""
                      },
                      "bgcolor": "#E5ECF6",
                      "radialaxis": {
                        "gridcolor": "white",
                        "linecolor": "white",
                        "ticks": ""
                      }
                    },
                    "scene": {
                      "xaxis": {
                        "backgroundcolor": "#E5ECF6",
                        "gridcolor": "white",
                        "gridwidth": 2,
                        "linecolor": "white",
                        "showbackground": true,
                        "ticks": "",
                        "zerolinecolor": "white"
                      },
                      "yaxis": {
                        "backgroundcolor": "#E5ECF6",
                        "gridcolor": "white",
                        "gridwidth": 2,
                        "linecolor": "white",
                        "showbackground": true,
                        "ticks": "",
                        "zerolinecolor": "white"
                      },
                      "zaxis": {
                        "backgroundcolor": "#E5ECF6",
                        "gridcolor": "white",
                        "gridwidth": 2,
                        "linecolor": "white",
                        "showbackground": true,
                        "ticks": "",
                        "zerolinecolor": "white"
                      }
                    },
                    "shapedefaults": {
                      "line": {
                        "color": "#2a3f5f"
                      }
                    },
                    "ternary": {
                      "aaxis": {
                        "gridcolor": "white",
                        "linecolor": "white",
                        "ticks": ""
                      },
                      "baxis": {
                        "gridcolor": "white",
                        "linecolor": "white",
                        "ticks": ""
                      },
                      "bgcolor": "#E5ECF6",
                      "caxis": {
                        "gridcolor": "white",
                        "linecolor": "white",
                        "ticks": ""
                      }
                    },
                    "title": {
                      "x": 0.05
                    },
                    "xaxis": {
                      "automargin": true,
                      "gridcolor": "white",
                      "linecolor": "white",
                      "ticks": "",
                      "title": {
                        "standoff": 15
                      },
                      "zerolinecolor": "white",
                      "zerolinewidth": 2
                    },
                    "yaxis": {
                      "automargin": true,
                      "gridcolor": "white",
                      "linecolor": "white",
                      "ticks": "",
                      "title": {
                        "standoff": 15
                      },
                      "zerolinecolor": "white",
                      "zerolinewidth": 2
                    }
                  }
                },
                "width": 700,
                "xaxis": {
                  "tickfont": {
                    "size": 14
                  },
                  "title": {
                    "font": {
                      "size": 18
                    },
                    "text": "Tasa de Falsos Positivos"
                  }
                },
                "yaxis": {
                  "tickfont": {
                    "size": 14
                  },
                  "title": {
                    "font": {
                      "size": 18
                    },
                    "text": "Tasa de Verdaderos Positivos"
                  }
                }
              }
            }
          },
          "metadata": {},
          "output_type": "display_data"
        }
      ],
      "source": [
        "import plotly.graph_objects as go\n",
        "from sklearn.metrics import roc_curve, auc\n",
        "\n",
        "# Obtener las curvas ROC y los valores AUC para cada clase\n",
        "fpr = {}\n",
        "tpr = {}\n",
        "roc_auc = {}\n",
        "\n",
        "for i in range(len(labels)):\n",
        "    fpr[i], tpr[i], _ = roc_curve(test_true_values[:, i], prediction[:, i])\n",
        "    roc_auc[i] = auc(fpr[i], tpr[i])\n",
        "\n",
        "# Obtener la curva ROC global\n",
        "fpr[\"micro\"], tpr[\"micro\"], _ = roc_curve(test_true_values.ravel(), prediction.ravel())\n",
        "roc_auc[\"micro\"] = auc(fpr[\"micro\"], tpr[\"micro\"])\n",
        "\n",
        "# Crear la figura y agregar las curvas ROC\n",
        "fig = go.Figure()\n",
        "\n",
        "# Agregar la curva ROC global\n",
        "fig.add_trace(go.Scatter(\n",
        "    x=fpr[\"micro\"],\n",
        "    y=tpr[\"micro\"],\n",
        "    name=f'ROC global (AUC = {roc_auc[\"micro\"]:.4f})',\n",
        "    mode='lines'\n",
        "))\n",
        "\n",
        "# Agregar las curvas ROC para cada clase\n",
        "for i in range(len(labels)):\n",
        "    fig.add_trace(go.Scatter(\n",
        "        x=fpr[i],\n",
        "        y=tpr[i],\n",
        "        name=f'ROC clase {labels[i]} (AUC = {roc_auc[i]:.4f})',\n",
        "        mode='lines'\n",
        "    ))\n",
        "\n",
        "# Configurar el diseño del gráfico\n",
        "fig.update_layout(\n",
        "    #title='Curvas ROC',\n",
        "    xaxis=dict(title=\"Tasa de Falsos Positivos\", title_font=dict(size=18), tickfont=dict(size=14)),\n",
        "    yaxis=dict(title=\"Tasa de Verdaderos Positivos\", title_font=dict(size=18), tickfont=dict(size=14)),\n",
        "    legend=dict(\n",
        "        x=0.3,\n",
        "        y=0.1,\n",
        "        font=dict(size=14)\n",
        "    ),\n",
        "    height=500,\n",
        "    width=700\n",
        ")\n",
        "\n",
        "# Mostrar el gráfico\n",
        "fig.show()\n"
      ]
    },
    {
      "cell_type": "code",
      "execution_count": 41,
      "metadata": {},
      "outputs": [
        {
          "name": "stdout",
          "output_type": "stream",
          "text": [
            "mod_drowsy_2_1748.png\n",
            "mod_drowsy_2_1148.png\n",
            "mod_drowsy_2_1155.png\n",
            "mod_drowsy_2_1780.png\n",
            "mod_drowsy_2_1099.png\n",
            "mod_drowsy_2_1480.png\n",
            "mod_drowsy_2_1106.png\n",
            "mod_drowsy_2_1602.png\n",
            "mod_drowsy_2_1104.png\n",
            "mod_drowsy_2_1654.png\n",
            "mod_drowsy_2_1693.png\n",
            "mod_drowsy_2_1708.png\n",
            "mod_drowsy_2_1671.png\n",
            "mod_drowsy_2_1772.png\n",
            "mod_drowsy_2_1472.png\n",
            "mod_drowsy_2_1115.png\n",
            "mod_drowsy_2_1313.png\n",
            "mod_drowsy_2_1107.png\n",
            "mod_drowsy_2_1764.png\n",
            "mod_drowsy_2_1142.png\n"
          ]
        }
      ],
      "source": [
        "cont=0\n",
        "for i in range(295):\n",
        "    if test_true[i]==2 and test_pred[i]==1:\n",
        "        cont+=1\n",
        "        print(test_df.iloc[i]['image'])"
      ]
    }
  ],
  "metadata": {
    "accelerator": "GPU",
    "colab": {
      "gpuType": "T4",
      "provenance": []
    },
    "gpuClass": "standard",
    "kernelspec": {
      "display_name": "base",
      "language": "python",
      "name": "python3"
    },
    "language_info": {
      "codemirror_mode": {
        "name": "ipython",
        "version": 3
      },
      "file_extension": ".py",
      "mimetype": "text/x-python",
      "name": "python",
      "nbconvert_exporter": "python",
      "pygments_lexer": "ipython3",
      "version": "3.9.5"
    },
    "orig_nbformat": 4
  },
  "nbformat": 4,
  "nbformat_minor": 0
}
