{
 "cells": [
  {
   "cell_type": "code",
   "execution_count": 13,
   "metadata": {},
   "outputs": [],
   "source": [
    "# libraries\n",
    "import pandas as pd\n",
    "\n",
    "from sklearn.model_selection import train_test_split\n",
    "from sklearn.preprocessing import MinMaxScaler\n",
    "\n",
    "from keras.preprocessing.image import ImageDataGenerator\n",
    "\n",
    "from keras.models import Model\n",
    "from keras.layers import Input, Conv2D, MaxPooling2D, Flatten, Dense, Concatenate\n"
   ]
  },
  {
   "cell_type": "code",
   "execution_count": 2,
   "metadata": {},
   "outputs": [],
   "source": [
    "labels = ['alert', 'slight_drowsy','mod_drowsy','very_drowsy'] # alert, slightly drowsy, moderately drowsy and very drowsy"
   ]
  },
  {
   "cell_type": "code",
   "execution_count": 3,
   "metadata": {},
   "outputs": [
    {
     "data": {
      "text/html": [
       "<div>\n",
       "<style scoped>\n",
       "    .dataframe tbody tr th:only-of-type {\n",
       "        vertical-align: middle;\n",
       "    }\n",
       "\n",
       "    .dataframe tbody tr th {\n",
       "        vertical-align: top;\n",
       "    }\n",
       "\n",
       "    .dataframe thead th {\n",
       "        text-align: right;\n",
       "    }\n",
       "</style>\n",
       "<table border=\"1\" class=\"dataframe\">\n",
       "  <thead>\n",
       "    <tr style=\"text-align: right;\">\n",
       "      <th></th>\n",
       "      <th>blinks</th>\n",
       "      <th>right_EAR</th>\n",
       "      <th>left_EAR</th>\n",
       "      <th>blink_duration</th>\n",
       "      <th>blink_frequency</th>\n",
       "      <th>MAR</th>\n",
       "      <th>image</th>\n",
       "      <th>target</th>\n",
       "      <th>alert</th>\n",
       "      <th>slight_drowsy</th>\n",
       "      <th>mod_drowsy</th>\n",
       "      <th>very_drowsy</th>\n",
       "    </tr>\n",
       "  </thead>\n",
       "  <tbody>\n",
       "    <tr>\n",
       "      <th>0</th>\n",
       "      <td>0</td>\n",
       "      <td>0.390506</td>\n",
       "      <td>0.389952</td>\n",
       "      <td>0.057747</td>\n",
       "      <td>13.800623</td>\n",
       "      <td>0.126324</td>\n",
       "      <td>alert_1_0.png</td>\n",
       "      <td>alert</td>\n",
       "      <td>1</td>\n",
       "      <td>0</td>\n",
       "      <td>0</td>\n",
       "      <td>0</td>\n",
       "    </tr>\n",
       "    <tr>\n",
       "      <th>1</th>\n",
       "      <td>0</td>\n",
       "      <td>0.447508</td>\n",
       "      <td>0.417273</td>\n",
       "      <td>0.057747</td>\n",
       "      <td>13.800623</td>\n",
       "      <td>0.067651</td>\n",
       "      <td>alert_1_1.png</td>\n",
       "      <td>alert</td>\n",
       "      <td>1</td>\n",
       "      <td>0</td>\n",
       "      <td>0</td>\n",
       "      <td>0</td>\n",
       "    </tr>\n",
       "    <tr>\n",
       "      <th>2</th>\n",
       "      <td>0</td>\n",
       "      <td>0.448586</td>\n",
       "      <td>0.430567</td>\n",
       "      <td>0.057747</td>\n",
       "      <td>13.800623</td>\n",
       "      <td>0.063540</td>\n",
       "      <td>alert_1_2.png</td>\n",
       "      <td>alert</td>\n",
       "      <td>1</td>\n",
       "      <td>0</td>\n",
       "      <td>0</td>\n",
       "      <td>0</td>\n",
       "    </tr>\n",
       "    <tr>\n",
       "      <th>3</th>\n",
       "      <td>0</td>\n",
       "      <td>0.443849</td>\n",
       "      <td>0.409959</td>\n",
       "      <td>0.057747</td>\n",
       "      <td>13.800623</td>\n",
       "      <td>0.058703</td>\n",
       "      <td>alert_1_3.png</td>\n",
       "      <td>alert</td>\n",
       "      <td>1</td>\n",
       "      <td>0</td>\n",
       "      <td>0</td>\n",
       "      <td>0</td>\n",
       "    </tr>\n",
       "    <tr>\n",
       "      <th>4</th>\n",
       "      <td>0</td>\n",
       "      <td>0.445516</td>\n",
       "      <td>0.409511</td>\n",
       "      <td>0.057747</td>\n",
       "      <td>13.800623</td>\n",
       "      <td>0.057816</td>\n",
       "      <td>alert_1_4.png</td>\n",
       "      <td>alert</td>\n",
       "      <td>1</td>\n",
       "      <td>0</td>\n",
       "      <td>0</td>\n",
       "      <td>0</td>\n",
       "    </tr>\n",
       "  </tbody>\n",
       "</table>\n",
       "</div>"
      ],
      "text/plain": [
       "   blinks  right_EAR  left_EAR  blink_duration  blink_frequency       MAR  \\\n",
       "0       0   0.390506  0.389952        0.057747        13.800623  0.126324   \n",
       "1       0   0.447508  0.417273        0.057747        13.800623  0.067651   \n",
       "2       0   0.448586  0.430567        0.057747        13.800623  0.063540   \n",
       "3       0   0.443849  0.409959        0.057747        13.800623  0.058703   \n",
       "4       0   0.445516  0.409511        0.057747        13.800623  0.057816   \n",
       "\n",
       "           image target  alert  slight_drowsy  mod_drowsy  very_drowsy  \n",
       "0  alert_1_0.png  alert      1              0           0            0  \n",
       "1  alert_1_1.png  alert      1              0           0            0  \n",
       "2  alert_1_2.png  alert      1              0           0            0  \n",
       "3  alert_1_3.png  alert      1              0           0            0  \n",
       "4  alert_1_4.png  alert      1              0           0            0  "
      ]
     },
     "execution_count": 3,
     "metadata": {},
     "output_type": "execute_result"
    }
   ],
   "source": [
    "# Load the CSV file into a DataFrame\n",
    "df = pd.read_csv('data/features/data_features.csv')\n",
    "\n",
    "# Perform one-hot encoding using get_dummies()\n",
    "encoded_columns = pd.get_dummies(df['target'])\n",
    "\n",
    "# Reorder the columns of encoded_columns to match the desired order\n",
    "encoded_columns = encoded_columns[labels]\n",
    "\n",
    "# Concatenate the one-hot encoded columns with the original DataFrame\n",
    "df_encoded = pd.concat([df, encoded_columns], axis=1)\n",
    "\n",
    "df_encoded.head()"
   ]
  },
  {
   "cell_type": "code",
   "execution_count": 4,
   "metadata": {},
   "outputs": [],
   "source": [
    "# Split the DataFrame into train, test, and validation sets\n",
    "train_df, test_df = train_test_split(df_encoded, test_size=0.3, random_state=1)\n",
    "test_df, val_df = train_test_split(test_df, test_size=0.5, random_state=1)"
   ]
  },
  {
   "cell_type": "code",
   "execution_count": 5,
   "metadata": {},
   "outputs": [
    {
     "name": "stderr",
     "output_type": "stream",
     "text": [
      "C:\\Users\\carlo\\AppData\\Local\\Temp\\ipykernel_9248\\3985704919.py:7: SettingWithCopyWarning: \n",
      "A value is trying to be set on a copy of a slice from a DataFrame.\n",
      "Try using .loc[row_indexer,col_indexer] = value instead\n",
      "\n",
      "See the caveats in the documentation: https://pandas.pydata.org/pandas-docs/stable/user_guide/indexing.html#returning-a-view-versus-a-copy\n",
      "  train_df[columns_to_scale] = scaler.fit_transform(train_df[columns_to_scale])\n"
     ]
    }
   ],
   "source": [
    "# Create a MinMaxScaler object\n",
    "scaler = MinMaxScaler()\n",
    "\n",
    "# Select the columns you want to scale\n",
    "columns_to_scale = [\"right_EAR\", \"left_EAR\", \"blink_duration\", \"blink_frequency\", \"MAR\"]\n",
    "# Scale the selected columns\n",
    "train_df[columns_to_scale] = scaler.fit_transform(train_df[columns_to_scale])\n",
    "test_df[columns_to_scale] = scaler.transform(test_df[columns_to_scale])\n",
    "val_df[columns_to_scale] = scaler.transform(val_df[columns_to_scale])"
   ]
  },
  {
   "cell_type": "code",
   "execution_count": 6,
   "metadata": {},
   "outputs": [],
   "source": [
    "# Save the train, test, and validation DataFrames to separate CSV files if desired\n",
    "train_df.to_csv('data/features/train_features.csv', index=False)\n",
    "test_df.to_csv('data/features/test_features.csv', index=False)\n",
    "val_df.to_csv('data/features/val_features.csv', index=False)"
   ]
  },
  {
   "cell_type": "code",
   "execution_count": 8,
   "metadata": {},
   "outputs": [
    {
     "name": "stdout",
     "output_type": "stream",
     "text": [
      "Found 6300 validated image filenames.\n",
      "Found 1350 validated image filenames.\n",
      "Found 1350 validated image filenames.\n"
     ]
    }
   ],
   "source": [
    "# Create ImageDataGenerators for train, test, and validation sets\n",
    "train_datagen = ImageDataGenerator(rescale=1.0 / 255)  # Normalize pixel values\n",
    "test_datagen = ImageDataGenerator(rescale=1.0 / 255)  # Normalize pixel values\n",
    "val_datagen = ImageDataGenerator(rescale=1.0 / 255)  # Normalize pixel values\n",
    "\n",
    "# Create train, test, and validation image generators using flow_from_dataframe\n",
    "train_generator = train_datagen.flow_from_dataframe(\n",
    "    dataframe=train_df,\n",
    "    directory='data/images/',\n",
    "    x_col='image',\n",
    "    y_col=labels,\n",
    "    batch_size=32,\n",
    "    target_size=(720, 1280),\n",
    "    class_mode='raw',\n",
    "    shuffle=False, # the train-test split already shuffled so no need to do it again\n",
    "    seed=1\n",
    ")\n",
    "\n",
    "test_generator = test_datagen.flow_from_dataframe(\n",
    "    dataframe=test_df,\n",
    "    directory='data/images/',\n",
    "    x_col='image',\n",
    "    y_col=labels,\n",
    "    batch_size=32,\n",
    "    target_size=(720, 1280),\n",
    "    class_mode='raw',\n",
    "    shuffle=False,\n",
    "    seed=1\n",
    ")\n",
    "\n",
    "val_generator = val_datagen.flow_from_dataframe(\n",
    "    dataframe=val_df,\n",
    "    directory='data/images/',\n",
    "    x_col='image',\n",
    "    y_col=labels,\n",
    "    batch_size=32,\n",
    "    target_size=(720, 1280),\n",
    "    class_mode='raw',\n",
    "    shuffle=False,\n",
    "    seed=1\n",
    ")\n"
   ]
  },
  {
   "cell_type": "code",
   "execution_count": 9,
   "metadata": {},
   "outputs": [
    {
     "name": "stdout",
     "output_type": "stream",
     "text": [
      "(32, 720, 1280, 3) (32, 4)\n"
     ]
    }
   ],
   "source": [
    "X,y = train_generator.next()\n",
    "print(X.shape, y.shape)"
   ]
  },
  {
   "cell_type": "code",
   "execution_count": 10,
   "metadata": {},
   "outputs": [
    {
     "data": {
      "text/plain": [
       "['blinks', 'right_EAR', 'left_EAR', 'blink_duration', 'blink_frequency', 'MAR']"
      ]
     },
     "execution_count": 10,
     "metadata": {},
     "output_type": "execute_result"
    }
   ],
   "source": [
    "train_df.drop(columns=['image','target']+labels).columns.tolist()"
   ]
  },
  {
   "cell_type": "code",
   "execution_count": 11,
   "metadata": {},
   "outputs": [],
   "source": [
    "# Custom generator function to yield both image and feature data\n",
    "def custom_generator(image_generator, feature_data, batch_size):\n",
    "    feature_index = 0\n",
    "    while True:\n",
    "        batch_images, batch_labels = next(image_generator)\n",
    "        batch_features = feature_data[feature_index : feature_index + batch_size]\n",
    "        feature_index += batch_size\n",
    "        yield [batch_images, batch_features], batch_labels\n",
    "\n",
    "# Create custom generators combining image and feature data\n",
    "train_generator_with_features = custom_generator(train_generator, train_df.drop(columns=['image','target']+labels), batch_size=32)\n",
    "test_generator_with_features = custom_generator(test_generator, test_df.drop(columns=['image','target']+labels), batch_size=32)\n",
    "val_generator_with_features = custom_generator(val_generator, val_df.drop(columns=['image','target']+labels), batch_size=32)"
   ]
  },
  {
   "cell_type": "code",
   "execution_count": 12,
   "metadata": {},
   "outputs": [
    {
     "name": "stdout",
     "output_type": "stream",
     "text": [
      "(32, 720, 1280, 3) (32, 6) (32, 4)\n"
     ]
    }
   ],
   "source": [
    "[x1,x2],y=next(train_generator_with_features)\n",
    "print(x1.shape, x2.shape, y.shape)"
   ]
  },
  {
   "cell_type": "code",
   "execution_count": 14,
   "metadata": {},
   "outputs": [],
   "source": [
    "# Define the image input branch\n",
    "image_input = Input(shape=(720, 1280, 3))\n",
    "conv1 = Conv2D(32, (3, 3), activation='relu')(image_input)\n",
    "pool1 = MaxPooling2D(pool_size=(2, 2))(conv1)\n",
    "# Add more convolutional and pooling layers as needed\n",
    "\n",
    "# Define the numerical feature input branch\n",
    "feature_input = Input(shape=(6,))\n",
    "dense1 = Dense(64, activation='relu')(feature_input)\n",
    "# Add more dense layers as needed\n",
    "\n",
    "# Concatenate the outputs from both branches\n",
    "concatenated = Concatenate()([Flatten()(pool1), dense1])\n",
    "\n",
    "# Add a final dense layer for prediction\n",
    "output = Dense(4, activation='softmax')(concatenated)\n",
    "\n",
    "# Create the model\n",
    "model = Model(inputs=[image_input, feature_input], outputs=output)\n",
    "\n",
    "model.compile(loss='categorical_crossentropy', optimizer='adam', metrics=['accuracy'])"
   ]
  },
  {
   "cell_type": "code",
   "execution_count": 15,
   "metadata": {},
   "outputs": [
    {
     "name": "stdout",
     "output_type": "stream",
     "text": [
      "Epoch 1/20\n"
     ]
    }
   ],
   "source": [
    "# fit network\n",
    "model.fit(train_generator_with_features, epochs=20, verbose=2, validation_data=val_generator_with_features)"
   ]
  }
 ],
 "metadata": {
  "kernelspec": {
   "display_name": "base",
   "language": "python",
   "name": "python3"
  },
  "language_info": {
   "codemirror_mode": {
    "name": "ipython",
    "version": 3
   },
   "file_extension": ".py",
   "mimetype": "text/x-python",
   "name": "python",
   "nbconvert_exporter": "python",
   "pygments_lexer": "ipython3",
   "version": "3.9.5"
  },
  "orig_nbformat": 4
 },
 "nbformat": 4,
 "nbformat_minor": 2
}
