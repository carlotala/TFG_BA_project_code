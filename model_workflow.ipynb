{
  "cells": [
    {
      "cell_type": "code",
      "execution_count": 179,
      "metadata": {
        "id": "kvG7HPPi9P2v"
      },
      "outputs": [],
      "source": [
        "# libraries\n",
        "import pandas as pd\n",
        "\n",
        "from sklearn.model_selection import train_test_split\n",
        "from sklearn.preprocessing import MinMaxScaler\n",
        "from sklearn.metrics import (confusion_matrix, accuracy_score, classification_report, roc_curve, auc)\n",
        "\n",
        "import plotly.figure_factory as ff\n",
        "from keras.preprocessing.image import ImageDataGenerator\n",
        "from tensorflow import keras\n",
        "from keras.models import Model, load_model\n",
        "from keras.layers import Input, Conv2D, MaxPooling2D, Flatten, Dense, BatchNormalization, Dropout\n",
        "from tensorflow.keras.applications import VGG16\n",
        "from tensorflow.keras.callbacks import LearningRateScheduler\n",
        "\n",
        "\n",
        "import numpy as np"
      ]
    },
    {
      "cell_type": "code",
      "execution_count": 180,
      "metadata": {
        "id": "rlvybR-e9P2z"
      },
      "outputs": [],
      "source": [
        "labels = ['alert', 'slight_drowsy','mod_drowsy','very_drowsy'] # alert, slightly drowsy, moderately drowsy and very drowsy"
      ]
    },
    {
      "cell_type": "code",
      "execution_count": 181,
      "metadata": {
        "id": "-1eYIq7R9P2z"
      },
      "outputs": [],
      "source": [
        "# Load the CSV file into a DataFrame\n",
        "train_df = pd.read_csv('data/features/data_features_train_sampled_filt.csv')\n",
        "val_df = pd.read_csv('data/features/data_features_val_sampled_filt.csv')\n",
        "test_df = pd.read_csv('data/features/data_features_test_sampled_filt.csv')\n",
        "\n",
        "dfs = {'train': train_df, 'val': val_df, 'test': test_df}\n",
        "dfs_encoded = {}\n",
        "\n",
        "for name, df in dfs.items():\n",
        "  # Perform one-hot encoding using get_dummies()\n",
        "  encoded_columns = pd.get_dummies(df['target'])\n",
        "\n",
        "  # Reorder the columns of encoded_columns to match the desired order\n",
        "  encoded_columns = encoded_columns[labels]\n",
        "\n",
        "  # Concatenate the one-hot encoded columns with the original DataFrame\n",
        "  df_encoded = pd.concat([df, encoded_columns], axis=1)\n",
        "\n",
        "  dfs_encoded[name] = df_encoded\n",
        "\n",
        "train_df = dfs_encoded['train']\n",
        "val_df = dfs_encoded['val']\n",
        "test_df = dfs_encoded['test']\n"
      ]
    },
    {
      "cell_type": "code",
      "execution_count": 182,
      "metadata": {
        "colab": {
          "base_uri": "https://localhost:8080/"
        },
        "id": "YxZbgR-br6ba",
        "outputId": "ec95d7c1-4fc2-4ce8-83cd-488c803f5406"
      },
      "outputs": [
        {
          "name": "stdout",
          "output_type": "stream",
          "text": [
            "(1385, 12) (293, 12) (296, 12)\n"
          ]
        }
      ],
      "source": [
        "print(train_df.shape,val_df.shape,test_df.shape)"
      ]
    },
    {
      "cell_type": "code",
      "execution_count": 183,
      "metadata": {
        "colab": {
          "base_uri": "https://localhost:8080/",
          "height": 270
        },
        "id": "fXsxeX17ry_G",
        "outputId": "989a23a6-f2dc-4a06-da49-0b7be6ffd931"
      },
      "outputs": [
        {
          "data": {
            "text/html": [
              "<div>\n",
              "<style scoped>\n",
              "    .dataframe tbody tr th:only-of-type {\n",
              "        vertical-align: middle;\n",
              "    }\n",
              "\n",
              "    .dataframe tbody tr th {\n",
              "        vertical-align: top;\n",
              "    }\n",
              "\n",
              "    .dataframe thead th {\n",
              "        text-align: right;\n",
              "    }\n",
              "</style>\n",
              "<table border=\"1\" class=\"dataframe\">\n",
              "  <thead>\n",
              "    <tr style=\"text-align: right;\">\n",
              "      <th></th>\n",
              "      <th>blinks</th>\n",
              "      <th>right_EAR</th>\n",
              "      <th>left_EAR</th>\n",
              "      <th>blink_duration</th>\n",
              "      <th>blink_frequency</th>\n",
              "      <th>MAR</th>\n",
              "      <th>image</th>\n",
              "      <th>target</th>\n",
              "      <th>alert</th>\n",
              "      <th>slight_drowsy</th>\n",
              "      <th>mod_drowsy</th>\n",
              "      <th>very_drowsy</th>\n",
              "    </tr>\n",
              "  </thead>\n",
              "  <tbody>\n",
              "    <tr>\n",
              "      <th>0</th>\n",
              "      <td>0</td>\n",
              "      <td>0.461037</td>\n",
              "      <td>0.484335</td>\n",
              "      <td>0.083333</td>\n",
              "      <td>12.000000</td>\n",
              "      <td>0.062207</td>\n",
              "      <td>alert_3_1519.png</td>\n",
              "      <td>alert</td>\n",
              "      <td>1</td>\n",
              "      <td>0</td>\n",
              "      <td>0</td>\n",
              "      <td>0</td>\n",
              "    </tr>\n",
              "    <tr>\n",
              "      <th>1</th>\n",
              "      <td>0</td>\n",
              "      <td>0.495449</td>\n",
              "      <td>0.504062</td>\n",
              "      <td>0.071331</td>\n",
              "      <td>10.960894</td>\n",
              "      <td>0.080176</td>\n",
              "      <td>alert_3_640.png</td>\n",
              "      <td>alert</td>\n",
              "      <td>1</td>\n",
              "      <td>0</td>\n",
              "      <td>0</td>\n",
              "      <td>0</td>\n",
              "    </tr>\n",
              "    <tr>\n",
              "      <th>2</th>\n",
              "      <td>0</td>\n",
              "      <td>0.451969</td>\n",
              "      <td>0.475556</td>\n",
              "      <td>0.033333</td>\n",
              "      <td>12.000000</td>\n",
              "      <td>0.039810</td>\n",
              "      <td>alert_3_370.png</td>\n",
              "      <td>alert</td>\n",
              "      <td>1</td>\n",
              "      <td>0</td>\n",
              "      <td>0</td>\n",
              "      <td>0</td>\n",
              "    </tr>\n",
              "    <tr>\n",
              "      <th>3</th>\n",
              "      <td>0</td>\n",
              "      <td>0.539679</td>\n",
              "      <td>0.603035</td>\n",
              "      <td>0.033333</td>\n",
              "      <td>6.000000</td>\n",
              "      <td>0.051138</td>\n",
              "      <td>alert_1_775.png</td>\n",
              "      <td>alert</td>\n",
              "      <td>1</td>\n",
              "      <td>0</td>\n",
              "      <td>0</td>\n",
              "      <td>0</td>\n",
              "    </tr>\n",
              "    <tr>\n",
              "      <th>4</th>\n",
              "      <td>0</td>\n",
              "      <td>0.626182</td>\n",
              "      <td>0.671741</td>\n",
              "      <td>0.033333</td>\n",
              "      <td>6.000000</td>\n",
              "      <td>0.055254</td>\n",
              "      <td>alert_1_617.png</td>\n",
              "      <td>alert</td>\n",
              "      <td>1</td>\n",
              "      <td>0</td>\n",
              "      <td>0</td>\n",
              "      <td>0</td>\n",
              "    </tr>\n",
              "  </tbody>\n",
              "</table>\n",
              "</div>"
            ],
            "text/plain": [
              "   blinks  right_EAR  left_EAR  blink_duration  blink_frequency       MAR  \\\n",
              "0       0   0.461037  0.484335        0.083333        12.000000  0.062207   \n",
              "1       0   0.495449  0.504062        0.071331        10.960894  0.080176   \n",
              "2       0   0.451969  0.475556        0.033333        12.000000  0.039810   \n",
              "3       0   0.539679  0.603035        0.033333         6.000000  0.051138   \n",
              "4       0   0.626182  0.671741        0.033333         6.000000  0.055254   \n",
              "\n",
              "              image target  alert  slight_drowsy  mod_drowsy  very_drowsy  \n",
              "0  alert_3_1519.png  alert      1              0           0            0  \n",
              "1   alert_3_640.png  alert      1              0           0            0  \n",
              "2   alert_3_370.png  alert      1              0           0            0  \n",
              "3   alert_1_775.png  alert      1              0           0            0  \n",
              "4   alert_1_617.png  alert      1              0           0            0  "
            ]
          },
          "execution_count": 183,
          "metadata": {},
          "output_type": "execute_result"
        }
      ],
      "source": [
        "train_df.head()"
      ]
    },
    {
      "cell_type": "code",
      "execution_count": 184,
      "metadata": {
        "id": "MJxu7OYe9P21"
      },
      "outputs": [],
      "source": [
        "# Create a MinMaxScaler object\n",
        "scaler = MinMaxScaler()\n",
        "\n",
        "# Select the columns you want to scale\n",
        "columns_to_scale = [\"right_EAR\", \"left_EAR\", \"blink_duration\", \"blink_frequency\", \"MAR\"]\n",
        "# Scale the selected columns\n",
        "train_df[columns_to_scale] = scaler.fit_transform(train_df[columns_to_scale])\n",
        "test_df[columns_to_scale] = scaler.transform(test_df[columns_to_scale])\n",
        "val_df[columns_to_scale] = scaler.transform(val_df[columns_to_scale])"
      ]
    },
    {
      "cell_type": "code",
      "execution_count": 185,
      "metadata": {
        "colab": {
          "base_uri": "https://localhost:8080/",
          "height": 364
        },
        "id": "TQ9dxzyhsCuO",
        "outputId": "509c3f94-2053-4c71-c0e3-685b39621af1"
      },
      "outputs": [
        {
          "data": {
            "text/html": [
              "<div>\n",
              "<style scoped>\n",
              "    .dataframe tbody tr th:only-of-type {\n",
              "        vertical-align: middle;\n",
              "    }\n",
              "\n",
              "    .dataframe tbody tr th {\n",
              "        vertical-align: top;\n",
              "    }\n",
              "\n",
              "    .dataframe thead th {\n",
              "        text-align: right;\n",
              "    }\n",
              "</style>\n",
              "<table border=\"1\" class=\"dataframe\">\n",
              "  <thead>\n",
              "    <tr style=\"text-align: right;\">\n",
              "      <th></th>\n",
              "      <th>blinks</th>\n",
              "      <th>right_EAR</th>\n",
              "      <th>left_EAR</th>\n",
              "      <th>blink_duration</th>\n",
              "      <th>blink_frequency</th>\n",
              "      <th>MAR</th>\n",
              "      <th>alert</th>\n",
              "      <th>slight_drowsy</th>\n",
              "      <th>mod_drowsy</th>\n",
              "      <th>very_drowsy</th>\n",
              "    </tr>\n",
              "  </thead>\n",
              "  <tbody>\n",
              "    <tr>\n",
              "      <th>count</th>\n",
              "      <td>1385.000000</td>\n",
              "      <td>1385.000000</td>\n",
              "      <td>1385.000000</td>\n",
              "      <td>1385.000000</td>\n",
              "      <td>1385.000000</td>\n",
              "      <td>1385.000000</td>\n",
              "      <td>1385.000000</td>\n",
              "      <td>1385.000000</td>\n",
              "      <td>1385.000000</td>\n",
              "      <td>1385.000000</td>\n",
              "    </tr>\n",
              "    <tr>\n",
              "      <th>mean</th>\n",
              "      <td>0.056318</td>\n",
              "      <td>0.716214</td>\n",
              "      <td>0.722700</td>\n",
              "      <td>0.091366</td>\n",
              "      <td>0.224663</td>\n",
              "      <td>0.093785</td>\n",
              "      <td>0.252708</td>\n",
              "      <td>0.251264</td>\n",
              "      <td>0.244765</td>\n",
              "      <td>0.251264</td>\n",
              "    </tr>\n",
              "    <tr>\n",
              "      <th>std</th>\n",
              "      <td>0.230617</td>\n",
              "      <td>0.127847</td>\n",
              "      <td>0.134354</td>\n",
              "      <td>0.093713</td>\n",
              "      <td>0.198450</td>\n",
              "      <td>0.109253</td>\n",
              "      <td>0.434722</td>\n",
              "      <td>0.433896</td>\n",
              "      <td>0.430103</td>\n",
              "      <td>0.433896</td>\n",
              "    </tr>\n",
              "    <tr>\n",
              "      <th>min</th>\n",
              "      <td>0.000000</td>\n",
              "      <td>0.000000</td>\n",
              "      <td>0.000000</td>\n",
              "      <td>0.000000</td>\n",
              "      <td>0.000000</td>\n",
              "      <td>0.000000</td>\n",
              "      <td>0.000000</td>\n",
              "      <td>0.000000</td>\n",
              "      <td>0.000000</td>\n",
              "      <td>0.000000</td>\n",
              "    </tr>\n",
              "    <tr>\n",
              "      <th>25%</th>\n",
              "      <td>0.000000</td>\n",
              "      <td>0.666177</td>\n",
              "      <td>0.659436</td>\n",
              "      <td>0.030509</td>\n",
              "      <td>0.056919</td>\n",
              "      <td>0.033912</td>\n",
              "      <td>0.000000</td>\n",
              "      <td>0.000000</td>\n",
              "      <td>0.000000</td>\n",
              "      <td>0.000000</td>\n",
              "    </tr>\n",
              "    <tr>\n",
              "      <th>50%</th>\n",
              "      <td>0.000000</td>\n",
              "      <td>0.737856</td>\n",
              "      <td>0.745265</td>\n",
              "      <td>0.069444</td>\n",
              "      <td>0.173913</td>\n",
              "      <td>0.058092</td>\n",
              "      <td>0.000000</td>\n",
              "      <td>0.000000</td>\n",
              "      <td>0.000000</td>\n",
              "      <td>0.000000</td>\n",
              "    </tr>\n",
              "    <tr>\n",
              "      <th>75%</th>\n",
              "      <td>0.000000</td>\n",
              "      <td>0.795343</td>\n",
              "      <td>0.809613</td>\n",
              "      <td>0.132679</td>\n",
              "      <td>0.370119</td>\n",
              "      <td>0.104118</td>\n",
              "      <td>1.000000</td>\n",
              "      <td>1.000000</td>\n",
              "      <td>0.000000</td>\n",
              "      <td>1.000000</td>\n",
              "    </tr>\n",
              "    <tr>\n",
              "      <th>max</th>\n",
              "      <td>1.000000</td>\n",
              "      <td>1.000000</td>\n",
              "      <td>1.000000</td>\n",
              "      <td>1.000000</td>\n",
              "      <td>1.000000</td>\n",
              "      <td>1.000000</td>\n",
              "      <td>1.000000</td>\n",
              "      <td>1.000000</td>\n",
              "      <td>1.000000</td>\n",
              "      <td>1.000000</td>\n",
              "    </tr>\n",
              "  </tbody>\n",
              "</table>\n",
              "</div>"
            ],
            "text/plain": [
              "            blinks    right_EAR     left_EAR  blink_duration  blink_frequency  \\\n",
              "count  1385.000000  1385.000000  1385.000000     1385.000000      1385.000000   \n",
              "mean      0.056318     0.716214     0.722700        0.091366         0.224663   \n",
              "std       0.230617     0.127847     0.134354        0.093713         0.198450   \n",
              "min       0.000000     0.000000     0.000000        0.000000         0.000000   \n",
              "25%       0.000000     0.666177     0.659436        0.030509         0.056919   \n",
              "50%       0.000000     0.737856     0.745265        0.069444         0.173913   \n",
              "75%       0.000000     0.795343     0.809613        0.132679         0.370119   \n",
              "max       1.000000     1.000000     1.000000        1.000000         1.000000   \n",
              "\n",
              "               MAR        alert  slight_drowsy   mod_drowsy  very_drowsy  \n",
              "count  1385.000000  1385.000000    1385.000000  1385.000000  1385.000000  \n",
              "mean      0.093785     0.252708       0.251264     0.244765     0.251264  \n",
              "std       0.109253     0.434722       0.433896     0.430103     0.433896  \n",
              "min       0.000000     0.000000       0.000000     0.000000     0.000000  \n",
              "25%       0.033912     0.000000       0.000000     0.000000     0.000000  \n",
              "50%       0.058092     0.000000       0.000000     0.000000     0.000000  \n",
              "75%       0.104118     1.000000       1.000000     0.000000     1.000000  \n",
              "max       1.000000     1.000000       1.000000     1.000000     1.000000  "
            ]
          },
          "execution_count": 185,
          "metadata": {},
          "output_type": "execute_result"
        }
      ],
      "source": [
        "train_df.describe()"
      ]
    },
    {
      "cell_type": "code",
      "execution_count": 186,
      "metadata": {
        "colab": {
          "base_uri": "https://localhost:8080/"
        },
        "id": "eSMgRchrmmoZ",
        "outputId": "0125d00a-004f-4b01-88f2-78a0c9425625"
      },
      "outputs": [
        {
          "data": {
            "text/plain": [
              "alert            350\n",
              "slight_drowsy    348\n",
              "very_drowsy      348\n",
              "mod_drowsy       339\n",
              "Name: target, dtype: int64"
            ]
          },
          "execution_count": 186,
          "metadata": {},
          "output_type": "execute_result"
        }
      ],
      "source": [
        "train_df['target'].value_counts()"
      ]
    },
    {
      "cell_type": "code",
      "execution_count": 188,
      "metadata": {
        "id": "xJKc7cAq9P21"
      },
      "outputs": [],
      "source": [
        "# Save the train, test, and validation DataFrames to separate CSV files\n",
        "train_df.to_csv('data/features/processed/train_features.csv', index=False)\n",
        "test_df.to_csv('data/features/processed/test_features.csv', index=False)\n",
        "val_df.to_csv('data/features/processed/val_features.csv', index=False)"
      ]
    },
    {
      "cell_type": "code",
      "execution_count": 5,
      "metadata": {},
      "outputs": [],
      "source": [
        "# Save the train, test, and validation DataFrames to separate CSV files\n",
        "train_df = pd.read_csv('data/features/processed/train_features.csv')\n",
        "test_df = pd.read_csv('data/features/processed/test_features.csv')\n",
        "val_df = pd.read_csv('data/features/processed/val_features.csv')"
      ]
    },
    {
      "cell_type": "code",
      "execution_count": 189,
      "metadata": {
        "colab": {
          "base_uri": "https://localhost:8080/"
        },
        "id": "TAUVYTdG9P22",
        "outputId": "c5b22a0d-b9b0-4320-a245-881ec503af0a"
      },
      "outputs": [
        {
          "name": "stdout",
          "output_type": "stream",
          "text": [
            "Found 1385 validated image filenames.\n",
            "Found 296 validated image filenames.\n",
            "Found 293 validated image filenames.\n"
          ]
        }
      ],
      "source": [
        "# Create ImageDataGenerators for train, test, and validation sets\n",
        "train_datagen = ImageDataGenerator(rescale=1.0 / 255)  # Normalize pixel values\n",
        "test_datagen = ImageDataGenerator(rescale=1.0 / 255)  # Normalize pixel values\n",
        "val_datagen = ImageDataGenerator(rescale=1.0 / 255)  # Normalize pixel values\n",
        "\n",
        "# Create train, test, and validation image generators using flow_from_dataframe\n",
        "train_generator = train_datagen.flow_from_dataframe(\n",
        "    dataframe=train_df,\n",
        "    directory='data/images/sample/train',\n",
        "    x_col='image',\n",
        "    y_col=labels,\n",
        "    batch_size=32,\n",
        "    target_size=(224, 224),\n",
        "    class_mode='raw',\n",
        "    shuffle=True,\n",
        "    seed=1\n",
        ")\n",
        "\n",
        "test_generator = test_datagen.flow_from_dataframe(\n",
        "    dataframe=test_df,\n",
        "    directory='data/images/sample/test',\n",
        "    x_col='image',\n",
        "    y_col=labels,\n",
        "    batch_size=32,\n",
        "    target_size=(224, 224),\n",
        "    class_mode='raw',\n",
        "    shuffle=False,\n",
        "    seed=1\n",
        ")\n",
        "\n",
        "val_generator = val_datagen.flow_from_dataframe(\n",
        "    dataframe=val_df,\n",
        "    directory='data/images/sample/val',\n",
        "    x_col='image',\n",
        "    y_col=labels,\n",
        "    batch_size=32,\n",
        "    target_size=(224, 224),\n",
        "    class_mode='raw',\n",
        "    shuffle=False,\n",
        "    seed=1\n",
        ")\n"
      ]
    },
    {
      "cell_type": "code",
      "execution_count": 29,
      "metadata": {
        "colab": {
          "base_uri": "https://localhost:8080/"
        },
        "id": "VTqYpM3G9P22",
        "outputId": "295cfc05-0369-477c-d4d0-8f8f1bd0397e"
      },
      "outputs": [
        {
          "name": "stdout",
          "output_type": "stream",
          "text": [
            "(32, 224, 224, 3) (32, 4)\n"
          ]
        }
      ],
      "source": [
        "X,y = train_generator.next()\n",
        "print(X.shape, y.shape)"
      ]
    },
    {
      "cell_type": "code",
      "execution_count": 18,
      "metadata": {
        "colab": {
          "base_uri": "https://localhost:8080/"
        },
        "id": "aJy6V0G59P23",
        "outputId": "31225f09-bcc6-4e9b-d838-aea071f8935e"
      },
      "outputs": [
        {
          "data": {
            "text/plain": [
              "['blinks', 'right_EAR', 'left_EAR', 'blink_duration', 'blink_frequency', 'MAR']"
            ]
          },
          "execution_count": 18,
          "metadata": {},
          "output_type": "execute_result"
        }
      ],
      "source": [
        "train_df.drop(columns=['image','target']+labels).columns.tolist()"
      ]
    },
    {
      "cell_type": "code",
      "execution_count": 190,
      "metadata": {
        "id": "GGruOo8AuIW3"
      },
      "outputs": [],
      "source": [
        "def custom_generator(image_generator, feature_data, batch_size):\n",
        "    feature_index = 0\n",
        "    total_samples = len(feature_data)\n",
        "    while True:\n",
        "        batch_images, batch_labels = image_generator.next()\n",
        "        batch_features = feature_data[feature_index : feature_index + batch_size].values\n",
        "        if (feature_index + batch_size) > total_samples:\n",
        "            feature_index = 0\n",
        "        else:\n",
        "            feature_index = feature_index + batch_size\n",
        "\n",
        "        yield ([batch_images, batch_features], batch_labels)\n",
        "\n",
        "# Create custom generators combining image and feature data\n",
        "train_generator_with_features = custom_generator(train_generator, train_df.drop(columns=['image','target']+labels), batch_size=32)\n",
        "test_generator_with_features = custom_generator(test_generator, test_df.drop(columns=['image','target']+labels), batch_size=32)\n",
        "val_generator_with_features = custom_generator(val_generator, val_df.drop(columns=['image','target']+labels), batch_size=32)\n"
      ]
    },
    {
      "cell_type": "code",
      "execution_count": 30,
      "metadata": {
        "colab": {
          "base_uri": "https://localhost:8080/"
        },
        "id": "l-zhHb-VutQn",
        "outputId": "03dbfae9-b672-4ab6-9771-a89bacc942e6"
      },
      "outputs": [
        {
          "name": "stdout",
          "output_type": "stream",
          "text": [
            "(32, 224, 224, 3) (32, 6) (32, 4)\n"
          ]
        }
      ],
      "source": [
        "[x1,x2],y=next(test_generator_with_features)\n",
        "print(x1.shape, x2.shape, y.shape)"
      ]
    },
    {
      "cell_type": "code",
      "execution_count": 179,
      "metadata": {
        "id": "0o60WnW49P24"
      },
      "outputs": [],
      "source": [
        "# # Load the pre-trained VGG16 model without the top layers\n",
        "# vgg16 = VGG16(weights='imagenet', include_top=False, input_shape=(224, 224, 3))\n",
        "# vgg16.trainable = False # Set all layers in the VGG16 model as non-trainable\n",
        "\n",
        "# # Define the image input branch\n",
        "# image_input = Input(shape=(224, 224, 3)) #(720, 1280, 3)\n",
        "# vgg_output = vgg16(image_input)\n",
        "# conv1 = Conv2D(32, (3, 3), activation='relu')(vgg_output)\n",
        "# pool1 = MaxPooling2D(pool_size=(2, 2))(conv1)\n",
        "# # Add more convolutional and pooling layers as needed\n",
        "\n",
        "# # Define the numerical feature input branch\n",
        "# feature_input = Input(shape=(6,))\n",
        "# dense1 = Dense(64, activation='relu')(feature_input)\n",
        "# # Add more dense layers as needed\n",
        "\n",
        "# # Concatenate the outputs from both branches\n",
        "# concatenated = keras.layers.concatenate([Flatten()(pool1), dense1])\n",
        "\n",
        "# # Add a final dense layer for prediction\n",
        "# output = Dense(4, activation='softmax')(concatenated)\n",
        "\n",
        "# # Create the model\n",
        "# model = Model(inputs=[image_input, feature_input], outputs=output)\n",
        "\n",
        "# model.compile(loss='categorical_crossentropy', optimizer='adam', metrics=['accuracy'])"
      ]
    },
    {
      "cell_type": "code",
      "execution_count": 16,
      "metadata": {},
      "outputs": [],
      "source": [
        "# # Define the image input branch\n",
        "# image_input = Input(shape=(224, 224, 3)) #(720, 1280, 3)\n",
        "# conv1 = Conv2D(32, (3, 3), activation='relu')(image_input)\n",
        "# bn1 = BatchNormalization()(conv1)\n",
        "# pool1 = MaxPooling2D(pool_size=(2, 2))(bn1)\n",
        "# dropout1 = Dropout(0.25)(pool1)\n",
        "# conv2 = Conv2D(16, (3, 3), activation='relu')(dropout1)\n",
        "# bn2 = BatchNormalization()(conv2)\n",
        "# pool2 = MaxPooling2D(pool_size=(2, 2))(bn2)\n",
        "# dropout2 = Dropout(0.25)(pool2)\n",
        "# conv3 = Conv2D(8, (3, 3), activation='relu')(dropout2)\n",
        "# bn3 = BatchNormalization()(conv3)\n",
        "# pool3 = MaxPooling2D(pool_size=(2, 2))(bn3)\n",
        "\n",
        "# # Define the numerical feature input branch\n",
        "# feature_input = Input(shape=(6,))\n",
        "# dense1 = Dense(64, activation='relu')(feature_input)\n",
        "# dropout3 = Dropout(0.25)(dense1)\n",
        "# dense2 = Dense(32, activation='relu')(dropout3)\n",
        "# dropout4 = Dropout(0.25)(dense2)\n",
        "# dense3 = Dense(16, activation='relu')(dropout4)\n",
        "\n",
        "# # Concatenate the outputs from both branches\n",
        "# concatenated = keras.layers.concatenate([Flatten()(pool3), dense3])\n",
        "\n",
        "# # Add a final dense layer for prediction\n",
        "# output = Dense(4, activation='softmax')(concatenated)\n",
        "\n",
        "# # Create the model\n",
        "# model = Model(inputs=[image_input, feature_input], outputs=output)\n",
        "\n",
        "# model.compile(loss='categorical_crossentropy', optimizer='adam', metrics=['accuracy'])\n",
        "\n",
        "# # Learning rate scheduler\n",
        "# def lr_scheduler(epoch):\n",
        "#     initial_lr = 0.001\n",
        "#     drop_rate = 0.5\n",
        "#     epochs_drop = 5\n",
        "#     lr = initial_lr * (drop_rate ** (epoch // epochs_drop))\n",
        "#     return lr\n",
        "\n",
        "# scheduler = LearningRateScheduler(lr_scheduler)"
      ]
    },
    {
      "cell_type": "code",
      "execution_count": 191,
      "metadata": {},
      "outputs": [],
      "source": [
        "# Define the image input branch\n",
        "image_input = Input(shape=(224, 224, 3)) #(720, 1280, 3)\n",
        "conv1 = Conv2D(32, (3, 3), activation='relu')(image_input)\n",
        "bn1 = BatchNormalization()(conv1)\n",
        "pool1 = MaxPooling2D(pool_size=(2, 2))(bn1)\n",
        "conv2 = Conv2D(16, (5, 5), activation='relu')(pool1)\n",
        "bn2 = BatchNormalization()(conv2)\n",
        "pool2 = MaxPooling2D(pool_size=(2, 2))(bn2)\n",
        "conv3 = Conv2D(8, (8, 8), activation='relu')(pool2)\n",
        "bn3 = BatchNormalization()(conv3)\n",
        "pool3 = MaxPooling2D(pool_size=(2, 2))(bn3)\n",
        "\n",
        "# Define the numerical feature input branch\n",
        "feature_input = Input(shape=(6,))\n",
        "dense1 = Dense(64, activation='relu')(feature_input)\n",
        "dense2 = Dense(32, activation='relu')(dense1)\n",
        "dense3 = Dense(16, activation='relu')(dense2)\n",
        "\n",
        "# Concatenate the outputs from both branches\n",
        "concatenated = keras.layers.concatenate([Flatten()(pool3), dense3])\n",
        "\n",
        "# Add a final dense layer for prediction\n",
        "output = Dense(4, activation='softmax')(concatenated)\n",
        "\n",
        "# Create the model\n",
        "model = Model(inputs=[image_input, feature_input], outputs=output)\n",
        "\n",
        "model.compile(loss='categorical_crossentropy', optimizer='adam', metrics=['accuracy'])\n",
        "\n",
        "# Learning rate scheduler\n",
        "def lr_scheduler(epoch):\n",
        "    initial_lr = 0.001\n",
        "    drop_rate = 0.5\n",
        "    epochs_drop = 5\n",
        "    lr = initial_lr * (drop_rate ** (epoch // epochs_drop))\n",
        "    return lr\n",
        "\n",
        "scheduler = LearningRateScheduler(lr_scheduler)"
      ]
    },
    {
      "cell_type": "code",
      "execution_count": 192,
      "metadata": {
        "colab": {
          "base_uri": "https://localhost:8080/"
        },
        "id": "oIyKtSsf9P24",
        "outputId": "6bc0294e-bc86-44ab-9632-39266af8dd95"
      },
      "outputs": [
        {
          "name": "stdout",
          "output_type": "stream",
          "text": [
            "Epoch 1/20\n",
            "44/44 [==============================] - 37s 802ms/step - loss: 0.5238 - accuracy: 0.8000 - val_loss: 1.0474 - val_accuracy: 0.6997 - lr: 0.0010\n",
            "Epoch 2/20\n",
            "44/44 [==============================] - 34s 782ms/step - loss: 0.0979 - accuracy: 0.9625 - val_loss: 1.5290 - val_accuracy: 0.3140 - lr: 0.0010\n",
            "Epoch 3/20\n",
            "44/44 [==============================] - 35s 785ms/step - loss: 0.0754 - accuracy: 0.9755 - val_loss: 1.9573 - val_accuracy: 0.3584 - lr: 0.0010\n",
            "Epoch 4/20\n",
            "44/44 [==============================] - 35s 785ms/step - loss: 0.0296 - accuracy: 0.9949 - val_loss: 2.5852 - val_accuracy: 0.3720 - lr: 0.0010\n",
            "Epoch 5/20\n",
            "44/44 [==============================] - 34s 781ms/step - loss: 0.0169 - accuracy: 0.9971 - val_loss: 3.1286 - val_accuracy: 0.3379 - lr: 0.0010\n",
            "Epoch 6/20\n",
            "44/44 [==============================] - 35s 785ms/step - loss: 0.0125 - accuracy: 0.9993 - val_loss: 2.8740 - val_accuracy: 0.3481 - lr: 5.0000e-04\n",
            "Epoch 7/20\n",
            "44/44 [==============================] - 34s 783ms/step - loss: 0.0094 - accuracy: 0.9993 - val_loss: 2.0904 - val_accuracy: 0.3925 - lr: 5.0000e-04\n",
            "Epoch 8/20\n",
            "44/44 [==============================] - 35s 788ms/step - loss: 0.0116 - accuracy: 0.9993 - val_loss: 2.1028 - val_accuracy: 0.3823 - lr: 5.0000e-04\n",
            "Epoch 9/20\n",
            "44/44 [==============================] - 35s 788ms/step - loss: 0.0049 - accuracy: 1.0000 - val_loss: 1.1352 - val_accuracy: 0.5188 - lr: 5.0000e-04\n",
            "Epoch 10/20\n",
            "44/44 [==============================] - 35s 786ms/step - loss: 0.0053 - accuracy: 1.0000 - val_loss: 0.9308 - val_accuracy: 0.6382 - lr: 5.0000e-04\n",
            "Epoch 11/20\n",
            "44/44 [==============================] - 35s 785ms/step - loss: 0.0035 - accuracy: 1.0000 - val_loss: 0.5130 - val_accuracy: 0.8157 - lr: 2.5000e-04\n",
            "Epoch 12/20\n",
            "44/44 [==============================] - 34s 784ms/step - loss: 0.0040 - accuracy: 0.9993 - val_loss: 0.3570 - val_accuracy: 0.8396 - lr: 2.5000e-04\n",
            "Epoch 13/20\n",
            "44/44 [==============================] - 34s 783ms/step - loss: 0.0051 - accuracy: 0.9993 - val_loss: 0.3098 - val_accuracy: 0.8703 - lr: 2.5000e-04\n",
            "Epoch 14/20\n",
            "44/44 [==============================] - 34s 785ms/step - loss: 0.0036 - accuracy: 1.0000 - val_loss: 0.2976 - val_accuracy: 0.8669 - lr: 2.5000e-04\n",
            "Epoch 15/20\n",
            "44/44 [==============================] - 34s 783ms/step - loss: 0.0026 - accuracy: 1.0000 - val_loss: 0.2669 - val_accuracy: 0.9010 - lr: 2.5000e-04\n",
            "Epoch 16/20\n",
            "44/44 [==============================] - 34s 784ms/step - loss: 0.0024 - accuracy: 1.0000 - val_loss: 0.2621 - val_accuracy: 0.9147 - lr: 1.2500e-04\n",
            "Epoch 17/20\n",
            "44/44 [==============================] - 35s 785ms/step - loss: 0.0030 - accuracy: 1.0000 - val_loss: 0.2886 - val_accuracy: 0.9078 - lr: 1.2500e-04\n",
            "Epoch 18/20\n",
            "44/44 [==============================] - 35s 794ms/step - loss: 0.0025 - accuracy: 1.0000 - val_loss: 0.2914 - val_accuracy: 0.9078 - lr: 1.2500e-04\n",
            "Epoch 19/20\n",
            "44/44 [==============================] - 35s 792ms/step - loss: 0.0018 - accuracy: 1.0000 - val_loss: 0.2944 - val_accuracy: 0.9147 - lr: 1.2500e-04\n",
            "Epoch 20/20\n",
            "44/44 [==============================] - 35s 799ms/step - loss: 0.0021 - accuracy: 1.0000 - val_loss: 0.3342 - val_accuracy: 0.9044 - lr: 1.2500e-04\n"
          ]
        }
      ],
      "source": [
        "# fit network\n",
        "history = model.fit(train_generator_with_features,\n",
        "                    epochs=20,\n",
        "                    steps_per_epoch=len(train_generator),\n",
        "                    validation_data=val_generator_with_features,\n",
        "                    validation_steps= len(val_generator),\n",
        "                    callbacks=[scheduler])\n",
        "\n",
        "# 29 mins con 3 epochs => model_3\n",
        "# 6 mins 34s solo he probado primero con 1 epoch => model_4\n",
        "# de aquí para abajo con vscode\n",
        "# 34.1s, 1 epoch, en vscode en vez de google que tarda por tener que ir a drive => model_5\n",
        "# 8 mins y pico, 1 epoch, con vgg16 => pero ha fallado en la validación al concatenar, estaba tardando mucho tampoco lo iba a usar\n",
        "\n",
        "# en todo lo de arriba estaban mal los generators, por eso ha fallado el vgg16\n",
        "\n",
        "# 13 mins 28.8s, ordenador sobrecalentado (por eso tarda), 5 epochs, modelo con más capas => model_6\n",
        "\n",
        "# 22 mins 46.5s, sigue caliente, 10 epochs y poniendo el epochs drop a 5 que antes no hacía nada, modelo del 6, shuffle true en train_gen => model_7\n",
        "# al hacer el shuffle ya consigue aprender de los datos de train, pero hay que poner dropout porque en validation va mal\n",
        "# no parece que el lr esté cambiando, vale es que no lo había ejecutado con el cambio\n",
        "# mierda he borrado el 7 sin querer, (el que pone 7 es el 8 del model)\n",
        "\n",
        "# 28 mins 11.6s, sigue caliente, 10 epochs, con el epoch drop a 5 ahora sí, añadiendo dropout => model_8\n",
        "# el dropout no parece que haga mucho, estoy llegando a accuracy 1 en train y val sigue bajo\n",
        "\n",
        "# 10 mins solo 1 epoch, sigue caliente, vgg16, 4 epochs por probar, con los arreglos de los generators y el shuffle que antes igual no aprendía porque estaba mal => model_9\n",
        "# ETA del primero ya son como 9 mins, no lo voy a dejar hasta el final, solo quiero ver el val_accuracy como es\n",
        "\n",
        "# 4 mins 50.8s, 4 epochs, con las nuevas fotos, sin dropout => model_10\n",
        "\n",
        "# 6 mins 13s, ordenador de Fer, 15 epochs, con las nuevas fotos, sin dropout => model_11\n",
        "# 6 mins 37.3s, igual que el 11 pero probando con dropout => model_12\n",
        "# el tiempo ya será parecido, igual que el 11 (sin dropout), he cambiado los kernel => model_13\n",
        "# 11 mins 44.8s, el 13 pero con 20 epochs => model_14\n",
        "# 11 mins 27.3s, metiendo datos de slight_3 último minuto en train => model_15\n",
        "# como el 15 pero arreglando lo de los features => model_16"
      ]
    },
    {
      "cell_type": "code",
      "execution_count": 193,
      "metadata": {
        "id": "VSTjS1FXytU6"
      },
      "outputs": [],
      "source": [
        "model.save('models/model_16.h5')"
      ]
    },
    {
      "cell_type": "code",
      "execution_count": 194,
      "metadata": {},
      "outputs": [],
      "source": [
        "np.save('history_16.npy', history.history)"
      ]
    },
    {
      "cell_type": "code",
      "execution_count": 60,
      "metadata": {
        "id": "DCnXdx9dxfgQ"
      },
      "outputs": [],
      "source": [
        "# model = load_model('models/model_13.h5') # model 1 y 2 primeros (1 sin val y 2 con val), con los 9000 y val/test acc 1, epoch 1\n",
        "# model 3 es con el sample y 3 epochs"
      ]
    },
    {
      "cell_type": "code",
      "execution_count": 195,
      "metadata": {
        "colab": {
          "base_uri": "https://localhost:8080/"
        },
        "id": "aJNEEAHXzJcH",
        "outputId": "8249e27c-d68c-4259-e831-418c1a5e8092"
      },
      "outputs": [
        {
          "name": "stdout",
          "output_type": "stream",
          "text": [
            "10/10 [==============================] - 2s 140ms/step\n"
          ]
        }
      ],
      "source": [
        "prediction = model.predict(test_generator_with_features, steps=len(test_generator))\n",
        "# 4 min 56s => model_3\n",
        "# 2s => model_4\n",
        "# 2.6s => model_5\n",
        "# 13.9s => model_6 (ordenador sobrecalentado no sé si afectará)\n",
        "# 8.4s => model_7  (sigue caliente)\n",
        "# 3.3s => model_8 (sigue caliente)\n",
        "# 5.7s => model_10\n",
        "# 1.5s => model_11 (Fer)"
      ]
    },
    {
      "cell_type": "code",
      "execution_count": 196,
      "metadata": {
        "id": "nGNvvo1UzyVz"
      },
      "outputs": [
        {
          "data": {
            "text/plain": [
              "(296,)"
            ]
          },
          "execution_count": 196,
          "metadata": {},
          "output_type": "execute_result"
        }
      ],
      "source": [
        "test_pred = np.argmax(prediction, axis=1)\n",
        "test_pred.shape"
      ]
    },
    {
      "cell_type": "code",
      "execution_count": 197,
      "metadata": {
        "id": "Z-0CLR6r6IyD"
      },
      "outputs": [
        {
          "data": {
            "text/plain": [
              "(296,)"
            ]
          },
          "execution_count": 197,
          "metadata": {},
          "output_type": "execute_result"
        }
      ],
      "source": [
        "test_true_values = test_df[labels].to_numpy()\n",
        "test_true = np.argmax(test_true_values, axis=1)\n",
        "test_true.shape"
      ]
    },
    {
      "cell_type": "code",
      "execution_count": 198,
      "metadata": {
        "colab": {
          "base_uri": "https://localhost:8080/"
        },
        "id": "OgdQSVBZ0OWw",
        "outputId": "ab363e6c-8d27-43ec-98a6-8ab52d59c70a"
      },
      "outputs": [
        {
          "data": {
            "text/plain": [
              "0.9121621621621622"
            ]
          },
          "execution_count": 198,
          "metadata": {},
          "output_type": "execute_result"
        }
      ],
      "source": [
        "accuracy = accuracy_score(test_true, test_pred)\n",
        "accuracy\n",
        "# model_3\n",
        "# en test sigue teniendo un 100% accuracy ?????\n",
        "# añadir dropout o regularización?\n",
        "# igual sigue siendo demasiado parecido, durante el mes ir cargando el resto de mins de los vídeos\n",
        "# intentar liar a alguien para grabarles también\n",
        "\n",
        "# model_4\n",
        "# ya da un accuracy malo como quería\n",
        "# añadir más capas a la red (maybe vgg16)\n",
        "# y también más epochs que solo he puesto 1\n",
        "# 0.18 o así\n",
        "\n",
        "# model_6\n",
        "# 0.284\n",
        "\n",
        "# model_7\n",
        "# 0.3545\n",
        "\n",
        "# model_8\n",
        "# 0.197\n",
        "\n",
        "# model_11\n",
        "# 0.7726 por fin algo decente\n",
        "\n",
        "# model_12\n",
        "# 0.6254 el dropout es demasiado\n",
        "\n",
        "# model_13\n",
        "# 0.8127090301003345 => los generator algo va mal, se ve que no se está reiniciando bien\n",
        "\n",
        "# model_15\n",
        "# 0.9220338983050848\n",
        "\n",
        "# model_16\n",
        "# 0.9121621621621622"
      ]
    },
    {
      "cell_type": "code",
      "execution_count": 199,
      "metadata": {},
      "outputs": [
        {
          "name": "stdout",
          "output_type": "stream",
          "text": [
            "               precision    recall  f1-score   support\n",
            "\n",
            "        alert     1.0000    1.0000    1.0000        75\n",
            "slight_drowsy     1.0000    0.9589    0.9790        73\n",
            "   mod_drowsy     0.7374    1.0000    0.8488        73\n",
            "  very_drowsy     1.0000    0.6933    0.8189        75\n",
            "\n",
            "     accuracy                         0.9122       296\n",
            "    macro avg     0.9343    0.9131    0.9117       296\n",
            " weighted avg     0.9352    0.9122    0.9117       296\n",
            "\n"
          ]
        }
      ],
      "source": [
        "print(classification_report(test_true,test_pred, target_names=labels, digits=4))\n"
      ]
    },
    {
      "cell_type": "code",
      "execution_count": 200,
      "metadata": {},
      "outputs": [
        {
          "data": {
            "application/vnd.plotly.v1+json": {
              "config": {
                "plotlyServerURL": "https://plot.ly"
              },
              "data": [
                {
                  "colorscale": [
                    [
                      0,
                      "#0d0887"
                    ],
                    [
                      0.1111111111111111,
                      "#46039f"
                    ],
                    [
                      0.2222222222222222,
                      "#7201a8"
                    ],
                    [
                      0.3333333333333333,
                      "#9c179e"
                    ],
                    [
                      0.4444444444444444,
                      "#bd3786"
                    ],
                    [
                      0.5555555555555556,
                      "#d8576b"
                    ],
                    [
                      0.6666666666666666,
                      "#ed7953"
                    ],
                    [
                      0.7777777777777778,
                      "#fb9f3a"
                    ],
                    [
                      0.8888888888888888,
                      "#fdca26"
                    ],
                    [
                      1,
                      "#f0f921"
                    ]
                  ],
                  "reversescale": false,
                  "showscale": false,
                  "type": "heatmap",
                  "x": [
                    "alert",
                    "slight_drowsy",
                    "mod_drowsy",
                    "very_drowsy"
                  ],
                  "y": [
                    "very_drowsy",
                    "mod_drowsy",
                    "slight_drowsy",
                    "alert"
                  ],
                  "z": [
                    [
                      0,
                      0,
                      23,
                      52
                    ],
                    [
                      0,
                      0,
                      73,
                      0
                    ],
                    [
                      0,
                      70,
                      3,
                      0
                    ],
                    [
                      75,
                      0,
                      0,
                      0
                    ]
                  ]
                }
              ],
              "layout": {
                "annotations": [
                  {
                    "font": {
                      "color": "#FFFFFF"
                    },
                    "showarrow": false,
                    "text": "0<br>(0.0%)",
                    "x": "alert",
                    "xref": "x",
                    "y": "very_drowsy",
                    "yref": "y"
                  },
                  {
                    "font": {
                      "color": "#FFFFFF"
                    },
                    "showarrow": false,
                    "text": "0<br>(0.0%)",
                    "x": "slight_drowsy",
                    "xref": "x",
                    "y": "very_drowsy",
                    "yref": "y"
                  },
                  {
                    "font": {
                      "color": "#FFFFFF"
                    },
                    "showarrow": false,
                    "text": "23<br>(7.8%)",
                    "x": "mod_drowsy",
                    "xref": "x",
                    "y": "very_drowsy",
                    "yref": "y"
                  },
                  {
                    "font": {
                      "color": "#000000"
                    },
                    "showarrow": false,
                    "text": "52<br>(17.6%)",
                    "x": "very_drowsy",
                    "xref": "x",
                    "y": "very_drowsy",
                    "yref": "y"
                  },
                  {
                    "font": {
                      "color": "#FFFFFF"
                    },
                    "showarrow": false,
                    "text": "0<br>(0.0%)",
                    "x": "alert",
                    "xref": "x",
                    "y": "mod_drowsy",
                    "yref": "y"
                  },
                  {
                    "font": {
                      "color": "#FFFFFF"
                    },
                    "showarrow": false,
                    "text": "0<br>(0.0%)",
                    "x": "slight_drowsy",
                    "xref": "x",
                    "y": "mod_drowsy",
                    "yref": "y"
                  },
                  {
                    "font": {
                      "color": "#000000"
                    },
                    "showarrow": false,
                    "text": "73<br>(24.7%)",
                    "x": "mod_drowsy",
                    "xref": "x",
                    "y": "mod_drowsy",
                    "yref": "y"
                  },
                  {
                    "font": {
                      "color": "#FFFFFF"
                    },
                    "showarrow": false,
                    "text": "0<br>(0.0%)",
                    "x": "very_drowsy",
                    "xref": "x",
                    "y": "mod_drowsy",
                    "yref": "y"
                  },
                  {
                    "font": {
                      "color": "#FFFFFF"
                    },
                    "showarrow": false,
                    "text": "0<br>(0.0%)",
                    "x": "alert",
                    "xref": "x",
                    "y": "slight_drowsy",
                    "yref": "y"
                  },
                  {
                    "font": {
                      "color": "#000000"
                    },
                    "showarrow": false,
                    "text": "70<br>(23.6%)",
                    "x": "slight_drowsy",
                    "xref": "x",
                    "y": "slight_drowsy",
                    "yref": "y"
                  },
                  {
                    "font": {
                      "color": "#FFFFFF"
                    },
                    "showarrow": false,
                    "text": "3<br>(1.0%)",
                    "x": "mod_drowsy",
                    "xref": "x",
                    "y": "slight_drowsy",
                    "yref": "y"
                  },
                  {
                    "font": {
                      "color": "#FFFFFF"
                    },
                    "showarrow": false,
                    "text": "0<br>(0.0%)",
                    "x": "very_drowsy",
                    "xref": "x",
                    "y": "slight_drowsy",
                    "yref": "y"
                  },
                  {
                    "font": {
                      "color": "#000000"
                    },
                    "showarrow": false,
                    "text": "75<br>(25.3%)",
                    "x": "alert",
                    "xref": "x",
                    "y": "alert",
                    "yref": "y"
                  },
                  {
                    "font": {
                      "color": "#FFFFFF"
                    },
                    "showarrow": false,
                    "text": "0<br>(0.0%)",
                    "x": "slight_drowsy",
                    "xref": "x",
                    "y": "alert",
                    "yref": "y"
                  },
                  {
                    "font": {
                      "color": "#FFFFFF"
                    },
                    "showarrow": false,
                    "text": "0<br>(0.0%)",
                    "x": "mod_drowsy",
                    "xref": "x",
                    "y": "alert",
                    "yref": "y"
                  },
                  {
                    "font": {
                      "color": "#FFFFFF"
                    },
                    "showarrow": false,
                    "text": "0<br>(0.0%)",
                    "x": "very_drowsy",
                    "xref": "x",
                    "y": "alert",
                    "yref": "y"
                  }
                ],
                "height": 350,
                "template": {
                  "data": {
                    "bar": [
                      {
                        "error_x": {
                          "color": "#2a3f5f"
                        },
                        "error_y": {
                          "color": "#2a3f5f"
                        },
                        "marker": {
                          "line": {
                            "color": "#E5ECF6",
                            "width": 0.5
                          },
                          "pattern": {
                            "fillmode": "overlay",
                            "size": 10,
                            "solidity": 0.2
                          }
                        },
                        "type": "bar"
                      }
                    ],
                    "barpolar": [
                      {
                        "marker": {
                          "line": {
                            "color": "#E5ECF6",
                            "width": 0.5
                          },
                          "pattern": {
                            "fillmode": "overlay",
                            "size": 10,
                            "solidity": 0.2
                          }
                        },
                        "type": "barpolar"
                      }
                    ],
                    "carpet": [
                      {
                        "aaxis": {
                          "endlinecolor": "#2a3f5f",
                          "gridcolor": "white",
                          "linecolor": "white",
                          "minorgridcolor": "white",
                          "startlinecolor": "#2a3f5f"
                        },
                        "baxis": {
                          "endlinecolor": "#2a3f5f",
                          "gridcolor": "white",
                          "linecolor": "white",
                          "minorgridcolor": "white",
                          "startlinecolor": "#2a3f5f"
                        },
                        "type": "carpet"
                      }
                    ],
                    "choropleth": [
                      {
                        "colorbar": {
                          "outlinewidth": 0,
                          "ticks": ""
                        },
                        "type": "choropleth"
                      }
                    ],
                    "contour": [
                      {
                        "colorbar": {
                          "outlinewidth": 0,
                          "ticks": ""
                        },
                        "colorscale": [
                          [
                            0,
                            "#0d0887"
                          ],
                          [
                            0.1111111111111111,
                            "#46039f"
                          ],
                          [
                            0.2222222222222222,
                            "#7201a8"
                          ],
                          [
                            0.3333333333333333,
                            "#9c179e"
                          ],
                          [
                            0.4444444444444444,
                            "#bd3786"
                          ],
                          [
                            0.5555555555555556,
                            "#d8576b"
                          ],
                          [
                            0.6666666666666666,
                            "#ed7953"
                          ],
                          [
                            0.7777777777777778,
                            "#fb9f3a"
                          ],
                          [
                            0.8888888888888888,
                            "#fdca26"
                          ],
                          [
                            1,
                            "#f0f921"
                          ]
                        ],
                        "type": "contour"
                      }
                    ],
                    "contourcarpet": [
                      {
                        "colorbar": {
                          "outlinewidth": 0,
                          "ticks": ""
                        },
                        "type": "contourcarpet"
                      }
                    ],
                    "heatmap": [
                      {
                        "colorbar": {
                          "outlinewidth": 0,
                          "ticks": ""
                        },
                        "colorscale": [
                          [
                            0,
                            "#0d0887"
                          ],
                          [
                            0.1111111111111111,
                            "#46039f"
                          ],
                          [
                            0.2222222222222222,
                            "#7201a8"
                          ],
                          [
                            0.3333333333333333,
                            "#9c179e"
                          ],
                          [
                            0.4444444444444444,
                            "#bd3786"
                          ],
                          [
                            0.5555555555555556,
                            "#d8576b"
                          ],
                          [
                            0.6666666666666666,
                            "#ed7953"
                          ],
                          [
                            0.7777777777777778,
                            "#fb9f3a"
                          ],
                          [
                            0.8888888888888888,
                            "#fdca26"
                          ],
                          [
                            1,
                            "#f0f921"
                          ]
                        ],
                        "type": "heatmap"
                      }
                    ],
                    "heatmapgl": [
                      {
                        "colorbar": {
                          "outlinewidth": 0,
                          "ticks": ""
                        },
                        "colorscale": [
                          [
                            0,
                            "#0d0887"
                          ],
                          [
                            0.1111111111111111,
                            "#46039f"
                          ],
                          [
                            0.2222222222222222,
                            "#7201a8"
                          ],
                          [
                            0.3333333333333333,
                            "#9c179e"
                          ],
                          [
                            0.4444444444444444,
                            "#bd3786"
                          ],
                          [
                            0.5555555555555556,
                            "#d8576b"
                          ],
                          [
                            0.6666666666666666,
                            "#ed7953"
                          ],
                          [
                            0.7777777777777778,
                            "#fb9f3a"
                          ],
                          [
                            0.8888888888888888,
                            "#fdca26"
                          ],
                          [
                            1,
                            "#f0f921"
                          ]
                        ],
                        "type": "heatmapgl"
                      }
                    ],
                    "histogram": [
                      {
                        "marker": {
                          "pattern": {
                            "fillmode": "overlay",
                            "size": 10,
                            "solidity": 0.2
                          }
                        },
                        "type": "histogram"
                      }
                    ],
                    "histogram2d": [
                      {
                        "colorbar": {
                          "outlinewidth": 0,
                          "ticks": ""
                        },
                        "colorscale": [
                          [
                            0,
                            "#0d0887"
                          ],
                          [
                            0.1111111111111111,
                            "#46039f"
                          ],
                          [
                            0.2222222222222222,
                            "#7201a8"
                          ],
                          [
                            0.3333333333333333,
                            "#9c179e"
                          ],
                          [
                            0.4444444444444444,
                            "#bd3786"
                          ],
                          [
                            0.5555555555555556,
                            "#d8576b"
                          ],
                          [
                            0.6666666666666666,
                            "#ed7953"
                          ],
                          [
                            0.7777777777777778,
                            "#fb9f3a"
                          ],
                          [
                            0.8888888888888888,
                            "#fdca26"
                          ],
                          [
                            1,
                            "#f0f921"
                          ]
                        ],
                        "type": "histogram2d"
                      }
                    ],
                    "histogram2dcontour": [
                      {
                        "colorbar": {
                          "outlinewidth": 0,
                          "ticks": ""
                        },
                        "colorscale": [
                          [
                            0,
                            "#0d0887"
                          ],
                          [
                            0.1111111111111111,
                            "#46039f"
                          ],
                          [
                            0.2222222222222222,
                            "#7201a8"
                          ],
                          [
                            0.3333333333333333,
                            "#9c179e"
                          ],
                          [
                            0.4444444444444444,
                            "#bd3786"
                          ],
                          [
                            0.5555555555555556,
                            "#d8576b"
                          ],
                          [
                            0.6666666666666666,
                            "#ed7953"
                          ],
                          [
                            0.7777777777777778,
                            "#fb9f3a"
                          ],
                          [
                            0.8888888888888888,
                            "#fdca26"
                          ],
                          [
                            1,
                            "#f0f921"
                          ]
                        ],
                        "type": "histogram2dcontour"
                      }
                    ],
                    "mesh3d": [
                      {
                        "colorbar": {
                          "outlinewidth": 0,
                          "ticks": ""
                        },
                        "type": "mesh3d"
                      }
                    ],
                    "parcoords": [
                      {
                        "line": {
                          "colorbar": {
                            "outlinewidth": 0,
                            "ticks": ""
                          }
                        },
                        "type": "parcoords"
                      }
                    ],
                    "pie": [
                      {
                        "automargin": true,
                        "type": "pie"
                      }
                    ],
                    "scatter": [
                      {
                        "fillpattern": {
                          "fillmode": "overlay",
                          "size": 10,
                          "solidity": 0.2
                        },
                        "type": "scatter"
                      }
                    ],
                    "scatter3d": [
                      {
                        "line": {
                          "colorbar": {
                            "outlinewidth": 0,
                            "ticks": ""
                          }
                        },
                        "marker": {
                          "colorbar": {
                            "outlinewidth": 0,
                            "ticks": ""
                          }
                        },
                        "type": "scatter3d"
                      }
                    ],
                    "scattercarpet": [
                      {
                        "marker": {
                          "colorbar": {
                            "outlinewidth": 0,
                            "ticks": ""
                          }
                        },
                        "type": "scattercarpet"
                      }
                    ],
                    "scattergeo": [
                      {
                        "marker": {
                          "colorbar": {
                            "outlinewidth": 0,
                            "ticks": ""
                          }
                        },
                        "type": "scattergeo"
                      }
                    ],
                    "scattergl": [
                      {
                        "marker": {
                          "colorbar": {
                            "outlinewidth": 0,
                            "ticks": ""
                          }
                        },
                        "type": "scattergl"
                      }
                    ],
                    "scattermapbox": [
                      {
                        "marker": {
                          "colorbar": {
                            "outlinewidth": 0,
                            "ticks": ""
                          }
                        },
                        "type": "scattermapbox"
                      }
                    ],
                    "scatterpolar": [
                      {
                        "marker": {
                          "colorbar": {
                            "outlinewidth": 0,
                            "ticks": ""
                          }
                        },
                        "type": "scatterpolar"
                      }
                    ],
                    "scatterpolargl": [
                      {
                        "marker": {
                          "colorbar": {
                            "outlinewidth": 0,
                            "ticks": ""
                          }
                        },
                        "type": "scatterpolargl"
                      }
                    ],
                    "scatterternary": [
                      {
                        "marker": {
                          "colorbar": {
                            "outlinewidth": 0,
                            "ticks": ""
                          }
                        },
                        "type": "scatterternary"
                      }
                    ],
                    "surface": [
                      {
                        "colorbar": {
                          "outlinewidth": 0,
                          "ticks": ""
                        },
                        "colorscale": [
                          [
                            0,
                            "#0d0887"
                          ],
                          [
                            0.1111111111111111,
                            "#46039f"
                          ],
                          [
                            0.2222222222222222,
                            "#7201a8"
                          ],
                          [
                            0.3333333333333333,
                            "#9c179e"
                          ],
                          [
                            0.4444444444444444,
                            "#bd3786"
                          ],
                          [
                            0.5555555555555556,
                            "#d8576b"
                          ],
                          [
                            0.6666666666666666,
                            "#ed7953"
                          ],
                          [
                            0.7777777777777778,
                            "#fb9f3a"
                          ],
                          [
                            0.8888888888888888,
                            "#fdca26"
                          ],
                          [
                            1,
                            "#f0f921"
                          ]
                        ],
                        "type": "surface"
                      }
                    ],
                    "table": [
                      {
                        "cells": {
                          "fill": {
                            "color": "#EBF0F8"
                          },
                          "line": {
                            "color": "white"
                          }
                        },
                        "header": {
                          "fill": {
                            "color": "#C8D4E3"
                          },
                          "line": {
                            "color": "white"
                          }
                        },
                        "type": "table"
                      }
                    ]
                  },
                  "layout": {
                    "annotationdefaults": {
                      "arrowcolor": "#2a3f5f",
                      "arrowhead": 0,
                      "arrowwidth": 1
                    },
                    "autotypenumbers": "strict",
                    "coloraxis": {
                      "colorbar": {
                        "outlinewidth": 0,
                        "ticks": ""
                      }
                    },
                    "colorscale": {
                      "diverging": [
                        [
                          0,
                          "#8e0152"
                        ],
                        [
                          0.1,
                          "#c51b7d"
                        ],
                        [
                          0.2,
                          "#de77ae"
                        ],
                        [
                          0.3,
                          "#f1b6da"
                        ],
                        [
                          0.4,
                          "#fde0ef"
                        ],
                        [
                          0.5,
                          "#f7f7f7"
                        ],
                        [
                          0.6,
                          "#e6f5d0"
                        ],
                        [
                          0.7,
                          "#b8e186"
                        ],
                        [
                          0.8,
                          "#7fbc41"
                        ],
                        [
                          0.9,
                          "#4d9221"
                        ],
                        [
                          1,
                          "#276419"
                        ]
                      ],
                      "sequential": [
                        [
                          0,
                          "#0d0887"
                        ],
                        [
                          0.1111111111111111,
                          "#46039f"
                        ],
                        [
                          0.2222222222222222,
                          "#7201a8"
                        ],
                        [
                          0.3333333333333333,
                          "#9c179e"
                        ],
                        [
                          0.4444444444444444,
                          "#bd3786"
                        ],
                        [
                          0.5555555555555556,
                          "#d8576b"
                        ],
                        [
                          0.6666666666666666,
                          "#ed7953"
                        ],
                        [
                          0.7777777777777778,
                          "#fb9f3a"
                        ],
                        [
                          0.8888888888888888,
                          "#fdca26"
                        ],
                        [
                          1,
                          "#f0f921"
                        ]
                      ],
                      "sequentialminus": [
                        [
                          0,
                          "#0d0887"
                        ],
                        [
                          0.1111111111111111,
                          "#46039f"
                        ],
                        [
                          0.2222222222222222,
                          "#7201a8"
                        ],
                        [
                          0.3333333333333333,
                          "#9c179e"
                        ],
                        [
                          0.4444444444444444,
                          "#bd3786"
                        ],
                        [
                          0.5555555555555556,
                          "#d8576b"
                        ],
                        [
                          0.6666666666666666,
                          "#ed7953"
                        ],
                        [
                          0.7777777777777778,
                          "#fb9f3a"
                        ],
                        [
                          0.8888888888888888,
                          "#fdca26"
                        ],
                        [
                          1,
                          "#f0f921"
                        ]
                      ]
                    },
                    "colorway": [
                      "#636efa",
                      "#EF553B",
                      "#00cc96",
                      "#ab63fa",
                      "#FFA15A",
                      "#19d3f3",
                      "#FF6692",
                      "#B6E880",
                      "#FF97FF",
                      "#FECB52"
                    ],
                    "font": {
                      "color": "#2a3f5f"
                    },
                    "geo": {
                      "bgcolor": "white",
                      "lakecolor": "white",
                      "landcolor": "#E5ECF6",
                      "showlakes": true,
                      "showland": true,
                      "subunitcolor": "white"
                    },
                    "hoverlabel": {
                      "align": "left"
                    },
                    "hovermode": "closest",
                    "mapbox": {
                      "style": "light"
                    },
                    "paper_bgcolor": "white",
                    "plot_bgcolor": "#E5ECF6",
                    "polar": {
                      "angularaxis": {
                        "gridcolor": "white",
                        "linecolor": "white",
                        "ticks": ""
                      },
                      "bgcolor": "#E5ECF6",
                      "radialaxis": {
                        "gridcolor": "white",
                        "linecolor": "white",
                        "ticks": ""
                      }
                    },
                    "scene": {
                      "xaxis": {
                        "backgroundcolor": "#E5ECF6",
                        "gridcolor": "white",
                        "gridwidth": 2,
                        "linecolor": "white",
                        "showbackground": true,
                        "ticks": "",
                        "zerolinecolor": "white"
                      },
                      "yaxis": {
                        "backgroundcolor": "#E5ECF6",
                        "gridcolor": "white",
                        "gridwidth": 2,
                        "linecolor": "white",
                        "showbackground": true,
                        "ticks": "",
                        "zerolinecolor": "white"
                      },
                      "zaxis": {
                        "backgroundcolor": "#E5ECF6",
                        "gridcolor": "white",
                        "gridwidth": 2,
                        "linecolor": "white",
                        "showbackground": true,
                        "ticks": "",
                        "zerolinecolor": "white"
                      }
                    },
                    "shapedefaults": {
                      "line": {
                        "color": "#2a3f5f"
                      }
                    },
                    "ternary": {
                      "aaxis": {
                        "gridcolor": "white",
                        "linecolor": "white",
                        "ticks": ""
                      },
                      "baxis": {
                        "gridcolor": "white",
                        "linecolor": "white",
                        "ticks": ""
                      },
                      "bgcolor": "#E5ECF6",
                      "caxis": {
                        "gridcolor": "white",
                        "linecolor": "white",
                        "ticks": ""
                      }
                    },
                    "title": {
                      "x": 0.05
                    },
                    "xaxis": {
                      "automargin": true,
                      "gridcolor": "white",
                      "linecolor": "white",
                      "ticks": "",
                      "title": {
                        "standoff": 15
                      },
                      "zerolinecolor": "white",
                      "zerolinewidth": 2
                    },
                    "yaxis": {
                      "automargin": true,
                      "gridcolor": "white",
                      "linecolor": "white",
                      "ticks": "",
                      "title": {
                        "standoff": 15
                      },
                      "zerolinecolor": "white",
                      "zerolinewidth": 2
                    }
                  }
                },
                "width": 500,
                "xaxis": {
                  "dtick": 1,
                  "gridcolor": "rgb(0, 0, 0)",
                  "side": "top",
                  "ticks": "",
                  "title": {
                    "text": "Predicted Label"
                  }
                },
                "yaxis": {
                  "dtick": 1,
                  "ticks": "",
                  "ticksuffix": "  ",
                  "title": {
                    "text": "True Label"
                  }
                }
              }
            }
          },
          "metadata": {},
          "output_type": "display_data"
        }
      ],
      "source": [
        "# Construct a visualization for the confusion matrix\n",
        "z_test = confusion_matrix(test_true,test_pred)\n",
        "\n",
        "# reformat the matrix\n",
        "z_test[[0,1,2,3],:] = z_test[[3,2,1,0],:]\n",
        "\n",
        "x = ['alert','slight_drowsy','mod_drowsy','very_drowsy']\n",
        "y = ['very_drowsy','mod_drowsy', 'slight_drowsy', 'alert']\n",
        "\n",
        "def format_text(z):\n",
        "    \"\"\"\n",
        "    This function receives the confusion matrix values and formats the text\n",
        "    to display in the matrix with the value and percentage of total data.\n",
        "    \"\"\"\n",
        "    return f'{z}<br>({z / np.sum(z_test) * 100:.1f}%)'\n",
        "\n",
        "z_text = np.vectorize(format_text)(z_test)\n",
        "\n",
        "heatmap = ff.create_annotated_heatmap(z_test, x=x, y=y, annotation_text=z_text, colorscale='plasma')\n",
        "heatmap.update_layout(height=350,width=500,\n",
        "                      xaxis_title=\"Predicted Label\",yaxis_title=\"True Label\")\n",
        "heatmap.show()"
      ]
    },
    {
      "cell_type": "code",
      "execution_count": 201,
      "metadata": {},
      "outputs": [
        {
          "name": "stdout",
          "output_type": "stream",
          "text": [
            "very_drowsy_2_597.png\n",
            "very_drowsy_2_866.png\n",
            "very_drowsy_2_846.png\n",
            "very_drowsy_2_829.png\n",
            "very_drowsy_2_525.png\n",
            "very_drowsy_2_551.png\n",
            "very_drowsy_2_561.png\n",
            "very_drowsy_2_850.png\n",
            "very_drowsy_2_766.png\n",
            "very_drowsy_2_790.png\n",
            "very_drowsy_2_881.png\n",
            "very_drowsy_2_518.png\n",
            "very_drowsy_2_758.png\n",
            "very_drowsy_2_857.png\n",
            "very_drowsy_2_577.png\n",
            "very_drowsy_2_585.png\n",
            "very_drowsy_2_761.png\n",
            "very_drowsy_2_520.png\n",
            "very_drowsy_2_814.png\n",
            "very_drowsy_2_769.png\n",
            "very_drowsy_2_596.png\n",
            "very_drowsy_2_813.png\n",
            "very_drowsy_2_817.png\n"
          ]
        }
      ],
      "source": [
        "cont=0\n",
        "for i in range(295):\n",
        "    if test_true[i]==3 and test_pred[i]==2:\n",
        "        cont+=1\n",
        "        print(test_df.iloc[i]['image'])"
      ]
    }
  ],
  "metadata": {
    "accelerator": "GPU",
    "colab": {
      "gpuType": "T4",
      "provenance": []
    },
    "gpuClass": "standard",
    "kernelspec": {
      "display_name": "base",
      "language": "python",
      "name": "python3"
    },
    "language_info": {
      "codemirror_mode": {
        "name": "ipython",
        "version": 3
      },
      "file_extension": ".py",
      "mimetype": "text/x-python",
      "name": "python",
      "nbconvert_exporter": "python",
      "pygments_lexer": "ipython3",
      "version": "3.9.5"
    },
    "orig_nbformat": 4
  },
  "nbformat": 4,
  "nbformat_minor": 0
}
