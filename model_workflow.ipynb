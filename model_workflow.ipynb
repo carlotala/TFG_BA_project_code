{
  "cells": [
    {
      "cell_type": "code",
      "execution_count": 1,
      "metadata": {
        "id": "kvG7HPPi9P2v"
      },
      "outputs": [],
      "source": [
        "# libraries\n",
        "import pandas as pd\n",
        "\n",
        "from sklearn.model_selection import train_test_split\n",
        "from sklearn.preprocessing import MinMaxScaler\n",
        "from sklearn.metrics import (confusion_matrix, accuracy_score, classification_report, roc_curve, auc)\n",
        "\n",
        "import plotly.figure_factory as ff\n",
        "from keras.preprocessing.image import ImageDataGenerator\n",
        "from tensorflow import keras\n",
        "from keras.models import Model, load_model\n",
        "from keras.layers import Input, Conv2D, MaxPooling2D, Flatten, Dense, BatchNormalization, Dropout\n",
        "from tensorflow.keras.applications import VGG16\n",
        "from tensorflow.keras.callbacks import LearningRateScheduler\n",
        "\n",
        "\n",
        "import numpy as np"
      ]
    },
    {
      "cell_type": "code",
      "execution_count": 2,
      "metadata": {
        "id": "rlvybR-e9P2z"
      },
      "outputs": [],
      "source": [
        "labels = ['alert', 'slight_drowsy','mod_drowsy','very_drowsy'] # alert, slightly drowsy, moderately drowsy and very drowsy"
      ]
    },
    {
      "cell_type": "code",
      "execution_count": 5,
      "metadata": {
        "id": "-1eYIq7R9P2z"
      },
      "outputs": [],
      "source": [
        "# Load the CSV file into a DataFrame\n",
        "train_df = pd.read_csv('data/features/data_features_train_sampled_filt.csv')\n",
        "val_df = pd.read_csv('data/features/data_features_val_sampled_filt.csv')\n",
        "test_df = pd.read_csv('data/features/data_features_test_sampled_filt.csv')\n",
        "\n",
        "dfs = {'train': train_df, 'val': val_df, 'test': test_df}\n",
        "dfs_encoded = {}\n",
        "\n",
        "for name, df in dfs.items():\n",
        "  # Perform one-hot encoding using get_dummies()\n",
        "  encoded_columns = pd.get_dummies(df['target'])\n",
        "\n",
        "  # Reorder the columns of encoded_columns to match the desired order\n",
        "  encoded_columns = encoded_columns[labels]\n",
        "\n",
        "  # Concatenate the one-hot encoded columns with the original DataFrame\n",
        "  df_encoded = pd.concat([df, encoded_columns], axis=1)\n",
        "\n",
        "  dfs_encoded[name] = df_encoded\n",
        "\n",
        "train_df = dfs_encoded['train']\n",
        "val_df = dfs_encoded['val']\n",
        "test_df = dfs_encoded['test']\n"
      ]
    },
    {
      "cell_type": "code",
      "execution_count": 6,
      "metadata": {
        "colab": {
          "base_uri": "https://localhost:8080/"
        },
        "id": "YxZbgR-br6ba",
        "outputId": "ec95d7c1-4fc2-4ce8-83cd-488c803f5406"
      },
      "outputs": [
        {
          "name": "stdout",
          "output_type": "stream",
          "text": [
            "(1393, 12) (299, 12) (299, 12)\n"
          ]
        }
      ],
      "source": [
        "print(train_df.shape,val_df.shape,test_df.shape)"
      ]
    },
    {
      "cell_type": "code",
      "execution_count": 7,
      "metadata": {
        "colab": {
          "base_uri": "https://localhost:8080/",
          "height": 270
        },
        "id": "fXsxeX17ry_G",
        "outputId": "989a23a6-f2dc-4a06-da49-0b7be6ffd931"
      },
      "outputs": [
        {
          "data": {
            "text/html": [
              "<div>\n",
              "<style scoped>\n",
              "    .dataframe tbody tr th:only-of-type {\n",
              "        vertical-align: middle;\n",
              "    }\n",
              "\n",
              "    .dataframe tbody tr th {\n",
              "        vertical-align: top;\n",
              "    }\n",
              "\n",
              "    .dataframe thead th {\n",
              "        text-align: right;\n",
              "    }\n",
              "</style>\n",
              "<table border=\"1\" class=\"dataframe\">\n",
              "  <thead>\n",
              "    <tr style=\"text-align: right;\">\n",
              "      <th></th>\n",
              "      <th>blinks</th>\n",
              "      <th>right_EAR</th>\n",
              "      <th>left_EAR</th>\n",
              "      <th>blink_duration</th>\n",
              "      <th>blink_frequency</th>\n",
              "      <th>MAR</th>\n",
              "      <th>image</th>\n",
              "      <th>target</th>\n",
              "      <th>alert</th>\n",
              "      <th>slight_drowsy</th>\n",
              "      <th>mod_drowsy</th>\n",
              "      <th>very_drowsy</th>\n",
              "    </tr>\n",
              "  </thead>\n",
              "  <tbody>\n",
              "    <tr>\n",
              "      <th>0</th>\n",
              "      <td>0</td>\n",
              "      <td>0.447605</td>\n",
              "      <td>0.456664</td>\n",
              "      <td>0.100000</td>\n",
              "      <td>12.0</td>\n",
              "      <td>0.165403</td>\n",
              "      <td>alert_3_1791.png</td>\n",
              "      <td>alert</td>\n",
              "      <td>1</td>\n",
              "      <td>0</td>\n",
              "      <td>0</td>\n",
              "      <td>0</td>\n",
              "    </tr>\n",
              "    <tr>\n",
              "      <th>1</th>\n",
              "      <td>0</td>\n",
              "      <td>0.564576</td>\n",
              "      <td>0.606079</td>\n",
              "      <td>0.066667</td>\n",
              "      <td>12.0</td>\n",
              "      <td>0.065903</td>\n",
              "      <td>alert_3_1086.png</td>\n",
              "      <td>alert</td>\n",
              "      <td>1</td>\n",
              "      <td>0</td>\n",
              "      <td>0</td>\n",
              "      <td>0</td>\n",
              "    </tr>\n",
              "    <tr>\n",
              "      <th>2</th>\n",
              "      <td>0</td>\n",
              "      <td>0.449714</td>\n",
              "      <td>0.461287</td>\n",
              "      <td>0.066667</td>\n",
              "      <td>6.0</td>\n",
              "      <td>0.257237</td>\n",
              "      <td>alert_3_1340.png</td>\n",
              "      <td>alert</td>\n",
              "      <td>1</td>\n",
              "      <td>0</td>\n",
              "      <td>0</td>\n",
              "      <td>0</td>\n",
              "    </tr>\n",
              "    <tr>\n",
              "      <th>3</th>\n",
              "      <td>0</td>\n",
              "      <td>0.424942</td>\n",
              "      <td>0.453573</td>\n",
              "      <td>0.083333</td>\n",
              "      <td>12.0</td>\n",
              "      <td>0.074384</td>\n",
              "      <td>alert_3_1522.png</td>\n",
              "      <td>alert</td>\n",
              "      <td>1</td>\n",
              "      <td>0</td>\n",
              "      <td>0</td>\n",
              "      <td>0</td>\n",
              "    </tr>\n",
              "    <tr>\n",
              "      <th>4</th>\n",
              "      <td>0</td>\n",
              "      <td>0.524016</td>\n",
              "      <td>0.517682</td>\n",
              "      <td>0.083333</td>\n",
              "      <td>12.0</td>\n",
              "      <td>0.093675</td>\n",
              "      <td>alert_1_1538.png</td>\n",
              "      <td>alert</td>\n",
              "      <td>1</td>\n",
              "      <td>0</td>\n",
              "      <td>0</td>\n",
              "      <td>0</td>\n",
              "    </tr>\n",
              "  </tbody>\n",
              "</table>\n",
              "</div>"
            ],
            "text/plain": [
              "   blinks  right_EAR  left_EAR  blink_duration  blink_frequency       MAR  \\\n",
              "0       0   0.447605  0.456664        0.100000             12.0  0.165403   \n",
              "1       0   0.564576  0.606079        0.066667             12.0  0.065903   \n",
              "2       0   0.449714  0.461287        0.066667              6.0  0.257237   \n",
              "3       0   0.424942  0.453573        0.083333             12.0  0.074384   \n",
              "4       0   0.524016  0.517682        0.083333             12.0  0.093675   \n",
              "\n",
              "              image target  alert  slight_drowsy  mod_drowsy  very_drowsy  \n",
              "0  alert_3_1791.png  alert      1              0           0            0  \n",
              "1  alert_3_1086.png  alert      1              0           0            0  \n",
              "2  alert_3_1340.png  alert      1              0           0            0  \n",
              "3  alert_3_1522.png  alert      1              0           0            0  \n",
              "4  alert_1_1538.png  alert      1              0           0            0  "
            ]
          },
          "execution_count": 7,
          "metadata": {},
          "output_type": "execute_result"
        }
      ],
      "source": [
        "train_df.head()"
      ]
    },
    {
      "cell_type": "code",
      "execution_count": 8,
      "metadata": {
        "id": "MJxu7OYe9P21"
      },
      "outputs": [],
      "source": [
        "# Create a MinMaxScaler object\n",
        "scaler = MinMaxScaler()\n",
        "\n",
        "# Select the columns you want to scale\n",
        "columns_to_scale = [\"right_EAR\", \"left_EAR\", \"blink_duration\", \"blink_frequency\", \"MAR\"]\n",
        "# Scale the selected columns\n",
        "train_df[columns_to_scale] = scaler.fit_transform(train_df[columns_to_scale])\n",
        "test_df[columns_to_scale] = scaler.transform(test_df[columns_to_scale])\n",
        "val_df[columns_to_scale] = scaler.transform(val_df[columns_to_scale])"
      ]
    },
    {
      "cell_type": "code",
      "execution_count": 9,
      "metadata": {
        "colab": {
          "base_uri": "https://localhost:8080/",
          "height": 364
        },
        "id": "TQ9dxzyhsCuO",
        "outputId": "509c3f94-2053-4c71-c0e3-685b39621af1"
      },
      "outputs": [
        {
          "data": {
            "text/html": [
              "<div>\n",
              "<style scoped>\n",
              "    .dataframe tbody tr th:only-of-type {\n",
              "        vertical-align: middle;\n",
              "    }\n",
              "\n",
              "    .dataframe tbody tr th {\n",
              "        vertical-align: top;\n",
              "    }\n",
              "\n",
              "    .dataframe thead th {\n",
              "        text-align: right;\n",
              "    }\n",
              "</style>\n",
              "<table border=\"1\" class=\"dataframe\">\n",
              "  <thead>\n",
              "    <tr style=\"text-align: right;\">\n",
              "      <th></th>\n",
              "      <th>blinks</th>\n",
              "      <th>right_EAR</th>\n",
              "      <th>left_EAR</th>\n",
              "      <th>blink_duration</th>\n",
              "      <th>blink_frequency</th>\n",
              "      <th>MAR</th>\n",
              "      <th>alert</th>\n",
              "      <th>slight_drowsy</th>\n",
              "      <th>mod_drowsy</th>\n",
              "      <th>very_drowsy</th>\n",
              "    </tr>\n",
              "  </thead>\n",
              "  <tbody>\n",
              "    <tr>\n",
              "      <th>count</th>\n",
              "      <td>1393.000000</td>\n",
              "      <td>1393.000000</td>\n",
              "      <td>1393.000000</td>\n",
              "      <td>1393.000000</td>\n",
              "      <td>1393.000000</td>\n",
              "      <td>1393.000000</td>\n",
              "      <td>1393.000000</td>\n",
              "      <td>1393.000000</td>\n",
              "      <td>1393.000000</td>\n",
              "      <td>1393.000000</td>\n",
              "    </tr>\n",
              "    <tr>\n",
              "      <th>mean</th>\n",
              "      <td>0.061019</td>\n",
              "      <td>0.696229</td>\n",
              "      <td>0.731502</td>\n",
              "      <td>0.093953</td>\n",
              "      <td>0.245234</td>\n",
              "      <td>0.112587</td>\n",
              "      <td>0.251256</td>\n",
              "      <td>0.250538</td>\n",
              "      <td>0.246949</td>\n",
              "      <td>0.251256</td>\n",
              "    </tr>\n",
              "    <tr>\n",
              "      <th>std</th>\n",
              "      <td>0.239452</td>\n",
              "      <td>0.126193</td>\n",
              "      <td>0.135148</td>\n",
              "      <td>0.102173</td>\n",
              "      <td>0.207023</td>\n",
              "      <td>0.121407</td>\n",
              "      <td>0.433891</td>\n",
              "      <td>0.433479</td>\n",
              "      <td>0.431392</td>\n",
              "      <td>0.433891</td>\n",
              "    </tr>\n",
              "    <tr>\n",
              "      <th>min</th>\n",
              "      <td>0.000000</td>\n",
              "      <td>0.000000</td>\n",
              "      <td>0.000000</td>\n",
              "      <td>0.000000</td>\n",
              "      <td>0.000000</td>\n",
              "      <td>0.000000</td>\n",
              "      <td>0.000000</td>\n",
              "      <td>0.000000</td>\n",
              "      <td>0.000000</td>\n",
              "      <td>0.000000</td>\n",
              "    </tr>\n",
              "    <tr>\n",
              "      <th>25%</th>\n",
              "      <td>0.000000</td>\n",
              "      <td>0.645775</td>\n",
              "      <td>0.675974</td>\n",
              "      <td>0.036111</td>\n",
              "      <td>0.059096</td>\n",
              "      <td>0.042816</td>\n",
              "      <td>0.000000</td>\n",
              "      <td>0.000000</td>\n",
              "      <td>0.000000</td>\n",
              "      <td>0.000000</td>\n",
              "    </tr>\n",
              "    <tr>\n",
              "      <th>50%</th>\n",
              "      <td>0.000000</td>\n",
              "      <td>0.717790</td>\n",
              "      <td>0.753736</td>\n",
              "      <td>0.076399</td>\n",
              "      <td>0.227273</td>\n",
              "      <td>0.072888</td>\n",
              "      <td>0.000000</td>\n",
              "      <td>0.000000</td>\n",
              "      <td>0.000000</td>\n",
              "      <td>0.000000</td>\n",
              "    </tr>\n",
              "    <tr>\n",
              "      <th>75%</th>\n",
              "      <td>0.000000</td>\n",
              "      <td>0.775151</td>\n",
              "      <td>0.820603</td>\n",
              "      <td>0.132679</td>\n",
              "      <td>0.386943</td>\n",
              "      <td>0.127663</td>\n",
              "      <td>1.000000</td>\n",
              "      <td>1.000000</td>\n",
              "      <td>0.000000</td>\n",
              "      <td>1.000000</td>\n",
              "    </tr>\n",
              "    <tr>\n",
              "      <th>max</th>\n",
              "      <td>1.000000</td>\n",
              "      <td>1.000000</td>\n",
              "      <td>1.000000</td>\n",
              "      <td>1.000000</td>\n",
              "      <td>1.000000</td>\n",
              "      <td>1.000000</td>\n",
              "      <td>1.000000</td>\n",
              "      <td>1.000000</td>\n",
              "      <td>1.000000</td>\n",
              "      <td>1.000000</td>\n",
              "    </tr>\n",
              "  </tbody>\n",
              "</table>\n",
              "</div>"
            ],
            "text/plain": [
              "            blinks    right_EAR     left_EAR  blink_duration  blink_frequency  \\\n",
              "count  1393.000000  1393.000000  1393.000000     1393.000000      1393.000000   \n",
              "mean      0.061019     0.696229     0.731502        0.093953         0.245234   \n",
              "std       0.239452     0.126193     0.135148        0.102173         0.207023   \n",
              "min       0.000000     0.000000     0.000000        0.000000         0.000000   \n",
              "25%       0.000000     0.645775     0.675974        0.036111         0.059096   \n",
              "50%       0.000000     0.717790     0.753736        0.076399         0.227273   \n",
              "75%       0.000000     0.775151     0.820603        0.132679         0.386943   \n",
              "max       1.000000     1.000000     1.000000        1.000000         1.000000   \n",
              "\n",
              "               MAR        alert  slight_drowsy   mod_drowsy  very_drowsy  \n",
              "count  1393.000000  1393.000000    1393.000000  1393.000000  1393.000000  \n",
              "mean      0.112587     0.251256       0.250538     0.246949     0.251256  \n",
              "std       0.121407     0.433891       0.433479     0.431392     0.433891  \n",
              "min       0.000000     0.000000       0.000000     0.000000     0.000000  \n",
              "25%       0.042816     0.000000       0.000000     0.000000     0.000000  \n",
              "50%       0.072888     0.000000       0.000000     0.000000     0.000000  \n",
              "75%       0.127663     1.000000       1.000000     0.000000     1.000000  \n",
              "max       1.000000     1.000000       1.000000     1.000000     1.000000  "
            ]
          },
          "execution_count": 9,
          "metadata": {},
          "output_type": "execute_result"
        }
      ],
      "source": [
        "train_df.describe()"
      ]
    },
    {
      "cell_type": "code",
      "execution_count": 10,
      "metadata": {
        "colab": {
          "base_uri": "https://localhost:8080/"
        },
        "id": "eSMgRchrmmoZ",
        "outputId": "0125d00a-004f-4b01-88f2-78a0c9425625"
      },
      "outputs": [
        {
          "data": {
            "text/plain": [
              "alert            350\n",
              "very_drowsy      350\n",
              "slight_drowsy    349\n",
              "mod_drowsy       344\n",
              "Name: target, dtype: int64"
            ]
          },
          "execution_count": 10,
          "metadata": {},
          "output_type": "execute_result"
        }
      ],
      "source": [
        "train_df['target'].value_counts()"
      ]
    },
    {
      "cell_type": "code",
      "execution_count": 11,
      "metadata": {
        "id": "xJKc7cAq9P21"
      },
      "outputs": [],
      "source": [
        "# Save the train, test, and validation DataFrames to separate CSV files\n",
        "train_df.to_csv('data/features/processed/train_features.csv', index=False)\n",
        "test_df.to_csv('data/features/processed/test_features.csv', index=False)\n",
        "val_df.to_csv('data/features/processed/val_features.csv', index=False)"
      ]
    },
    {
      "cell_type": "code",
      "execution_count": 3,
      "metadata": {},
      "outputs": [],
      "source": [
        "# Save the train, test, and validation DataFrames to separate CSV files\n",
        "train_df = pd.read_csv('data/features/processed/train_features.csv')\n",
        "test_df = pd.read_csv('data/features/processed/test_features.csv')\n",
        "val_df = pd.read_csv('data/features/processed/val_features.csv')"
      ]
    },
    {
      "cell_type": "code",
      "execution_count": 12,
      "metadata": {
        "colab": {
          "base_uri": "https://localhost:8080/"
        },
        "id": "TAUVYTdG9P22",
        "outputId": "c5b22a0d-b9b0-4320-a245-881ec503af0a"
      },
      "outputs": [
        {
          "name": "stdout",
          "output_type": "stream",
          "text": [
            "Found 1393 validated image filenames.\n",
            "Found 299 validated image filenames.\n",
            "Found 299 validated image filenames.\n"
          ]
        }
      ],
      "source": [
        "# Create ImageDataGenerators for train, test, and validation sets\n",
        "train_datagen = ImageDataGenerator(rescale=1.0 / 255)  # Normalize pixel values\n",
        "test_datagen = ImageDataGenerator(rescale=1.0 / 255)  # Normalize pixel values\n",
        "val_datagen = ImageDataGenerator(rescale=1.0 / 255)  # Normalize pixel values\n",
        "\n",
        "# Create train, test, and validation image generators using flow_from_dataframe\n",
        "train_generator = train_datagen.flow_from_dataframe(\n",
        "    dataframe=train_df,\n",
        "    directory='data/images/sample/train',\n",
        "    x_col='image',\n",
        "    y_col=labels,\n",
        "    batch_size=32,\n",
        "    target_size=(224, 224),\n",
        "    class_mode='raw',\n",
        "    shuffle=True,\n",
        "    seed=1\n",
        ")\n",
        "\n",
        "test_generator = test_datagen.flow_from_dataframe(\n",
        "    dataframe=test_df,\n",
        "    directory='data/images/sample/test',\n",
        "    x_col='image',\n",
        "    y_col=labels,\n",
        "    batch_size=32,\n",
        "    target_size=(224, 224),\n",
        "    class_mode='raw',\n",
        "    shuffle=False,\n",
        "    seed=1\n",
        ")\n",
        "\n",
        "val_generator = val_datagen.flow_from_dataframe(\n",
        "    dataframe=val_df,\n",
        "    directory='data/images/sample/val',\n",
        "    x_col='image',\n",
        "    y_col=labels,\n",
        "    batch_size=32,\n",
        "    target_size=(224, 224),\n",
        "    class_mode='raw',\n",
        "    shuffle=False,\n",
        "    seed=1\n",
        ")\n"
      ]
    },
    {
      "cell_type": "code",
      "execution_count": 29,
      "metadata": {
        "colab": {
          "base_uri": "https://localhost:8080/"
        },
        "id": "VTqYpM3G9P22",
        "outputId": "295cfc05-0369-477c-d4d0-8f8f1bd0397e"
      },
      "outputs": [
        {
          "name": "stdout",
          "output_type": "stream",
          "text": [
            "(32, 224, 224, 3) (32, 4)\n"
          ]
        }
      ],
      "source": [
        "X,y = train_generator.next()\n",
        "print(X.shape, y.shape)"
      ]
    },
    {
      "cell_type": "code",
      "execution_count": 18,
      "metadata": {
        "colab": {
          "base_uri": "https://localhost:8080/"
        },
        "id": "aJy6V0G59P23",
        "outputId": "31225f09-bcc6-4e9b-d838-aea071f8935e"
      },
      "outputs": [
        {
          "data": {
            "text/plain": [
              "['blinks', 'right_EAR', 'left_EAR', 'blink_duration', 'blink_frequency', 'MAR']"
            ]
          },
          "execution_count": 18,
          "metadata": {},
          "output_type": "execute_result"
        }
      ],
      "source": [
        "train_df.drop(columns=['image','target']+labels).columns.tolist()"
      ]
    },
    {
      "cell_type": "code",
      "execution_count": 13,
      "metadata": {
        "id": "GGruOo8AuIW3"
      },
      "outputs": [],
      "source": [
        "def custom_generator(image_generator, feature_data, batch_size):\n",
        "    feature_index = 0\n",
        "    total_samples = len(feature_data)\n",
        "    while True:\n",
        "        batch_images, batch_labels = image_generator.next()\n",
        "        batch_features = feature_data[feature_index : feature_index + batch_size].values\n",
        "        if (feature_index + batch_size) > total_samples:\n",
        "            feature_index = 0\n",
        "        else:\n",
        "            feature_index = feature_index + batch_size\n",
        "\n",
        "        yield ([batch_images, batch_features], batch_labels)\n",
        "\n",
        "# Create custom generators combining image and feature data\n",
        "train_generator_with_features = custom_generator(train_generator, train_df.drop(columns=['image','target']+labels), batch_size=32)\n",
        "test_generator_with_features = custom_generator(test_generator, test_df.drop(columns=['image','target']+labels), batch_size=32)\n",
        "val_generator_with_features = custom_generator(val_generator, val_df.drop(columns=['image','target']+labels), batch_size=32)\n"
      ]
    },
    {
      "cell_type": "code",
      "execution_count": 30,
      "metadata": {
        "colab": {
          "base_uri": "https://localhost:8080/"
        },
        "id": "l-zhHb-VutQn",
        "outputId": "03dbfae9-b672-4ab6-9771-a89bacc942e6"
      },
      "outputs": [
        {
          "name": "stdout",
          "output_type": "stream",
          "text": [
            "(32, 224, 224, 3) (32, 6) (32, 4)\n"
          ]
        }
      ],
      "source": [
        "[x1,x2],y=next(test_generator_with_features)\n",
        "print(x1.shape, x2.shape, y.shape)"
      ]
    },
    {
      "cell_type": "code",
      "execution_count": 179,
      "metadata": {
        "id": "0o60WnW49P24"
      },
      "outputs": [],
      "source": [
        "# # Load the pre-trained VGG16 model without the top layers\n",
        "# vgg16 = VGG16(weights='imagenet', include_top=False, input_shape=(224, 224, 3))\n",
        "# vgg16.trainable = False # Set all layers in the VGG16 model as non-trainable\n",
        "\n",
        "# # Define the image input branch\n",
        "# image_input = Input(shape=(224, 224, 3)) #(720, 1280, 3)\n",
        "# vgg_output = vgg16(image_input)\n",
        "# conv1 = Conv2D(32, (3, 3), activation='relu')(vgg_output)\n",
        "# pool1 = MaxPooling2D(pool_size=(2, 2))(conv1)\n",
        "# # Add more convolutional and pooling layers as needed\n",
        "\n",
        "# # Define the numerical feature input branch\n",
        "# feature_input = Input(shape=(6,))\n",
        "# dense1 = Dense(64, activation='relu')(feature_input)\n",
        "# # Add more dense layers as needed\n",
        "\n",
        "# # Concatenate the outputs from both branches\n",
        "# concatenated = keras.layers.concatenate([Flatten()(pool1), dense1])\n",
        "\n",
        "# # Add a final dense layer for prediction\n",
        "# output = Dense(4, activation='softmax')(concatenated)\n",
        "\n",
        "# # Create the model\n",
        "# model = Model(inputs=[image_input, feature_input], outputs=output)\n",
        "\n",
        "# model.compile(loss='categorical_crossentropy', optimizer='adam', metrics=['accuracy'])"
      ]
    },
    {
      "cell_type": "code",
      "execution_count": 167,
      "metadata": {},
      "outputs": [],
      "source": [
        "# Define the image input branch\n",
        "image_input = Input(shape=(224, 224, 3)) #(720, 1280, 3)\n",
        "conv1 = Conv2D(32, (3, 3), activation='relu')(image_input)\n",
        "bn1 = BatchNormalization()(conv1)\n",
        "pool1 = MaxPooling2D(pool_size=(2, 2))(bn1)\n",
        "dropout1 = Dropout(0.25)(pool1)\n",
        "conv2 = Conv2D(16, (3, 3), activation='relu')(dropout1)\n",
        "bn2 = BatchNormalization()(conv2)\n",
        "pool2 = MaxPooling2D(pool_size=(2, 2))(bn2)\n",
        "dropout2 = Dropout(0.25)(pool2)\n",
        "conv3 = Conv2D(8, (3, 3), activation='relu')(dropout2)\n",
        "bn3 = BatchNormalization()(conv3)\n",
        "pool3 = MaxPooling2D(pool_size=(2, 2))(bn3)\n",
        "\n",
        "# Define the numerical feature input branch\n",
        "feature_input = Input(shape=(6,))\n",
        "dense1 = Dense(64, activation='relu')(feature_input)\n",
        "dropout3 = Dropout(0.25)(dense1)\n",
        "dense2 = Dense(32, activation='relu')(dropout3)\n",
        "dropout4 = Dropout(0.25)(dense2)\n",
        "dense3 = Dense(16, activation='relu')(dropout4)\n",
        "\n",
        "# Concatenate the outputs from both branches\n",
        "concatenated = keras.layers.concatenate([Flatten()(pool3), dense3])\n",
        "\n",
        "# Add a final dense layer for prediction\n",
        "output = Dense(4, activation='softmax')(concatenated)\n",
        "\n",
        "# Create the model\n",
        "model = Model(inputs=[image_input, feature_input], outputs=output)\n",
        "\n",
        "model.compile(loss='categorical_crossentropy', optimizer='adam', metrics=['accuracy'])\n",
        "\n",
        "# Learning rate scheduler\n",
        "def lr_scheduler(epoch):\n",
        "    initial_lr = 0.001\n",
        "    drop_rate = 0.5\n",
        "    epochs_drop = 5\n",
        "    lr = initial_lr * (drop_rate ** (epoch // epochs_drop))\n",
        "    return lr\n",
        "\n",
        "scheduler = LearningRateScheduler(lr_scheduler)"
      ]
    },
    {
      "cell_type": "code",
      "execution_count": null,
      "metadata": {},
      "outputs": [],
      "source": [
        "# Define the image input branch\n",
        "image_input = Input(shape=(224, 224, 3)) #(720, 1280, 3)\n",
        "conv1 = Conv2D(32, (3, 3), activation='relu')(image_input)\n",
        "bn1 = BatchNormalization()(conv1)\n",
        "pool1 = MaxPooling2D(pool_size=(2, 2))(bn1)\n",
        "conv2 = Conv2D(16, (3, 3), activation='relu')(pool1)\n",
        "bn2 = BatchNormalization()(conv2)\n",
        "pool2 = MaxPooling2D(pool_size=(2, 2))(bn2)\n",
        "conv3 = Conv2D(8, (3, 3), activation='relu')(pool2)\n",
        "bn3 = BatchNormalization()(conv3)\n",
        "pool3 = MaxPooling2D(pool_size=(2, 2))(bn3)\n",
        "\n",
        "# Define the numerical feature input branch\n",
        "feature_input = Input(shape=(6,))\n",
        "dense1 = Dense(64, activation='relu')(feature_input)\n",
        "dense2 = Dense(32, activation='relu')(dense1)\n",
        "dense3 = Dense(16, activation='relu')(dense2)\n",
        "\n",
        "# Concatenate the outputs from both branches\n",
        "concatenated = keras.layers.concatenate([Flatten()(pool3), dense3])\n",
        "\n",
        "# Add a final dense layer for prediction\n",
        "output = Dense(4, activation='softmax')(concatenated)\n",
        "\n",
        "# Create the model\n",
        "model = Model(inputs=[image_input, feature_input], outputs=output)\n",
        "\n",
        "model.compile(loss='categorical_crossentropy', optimizer='adam', metrics=['accuracy'])\n",
        "\n",
        "# Learning rate scheduler\n",
        "def lr_scheduler(epoch):\n",
        "    initial_lr = 0.001\n",
        "    drop_rate = 0.5\n",
        "    epochs_drop = 5\n",
        "    lr = initial_lr * (drop_rate ** (epoch // epochs_drop))\n",
        "    return lr\n",
        "\n",
        "scheduler = LearningRateScheduler(lr_scheduler)"
      ]
    },
    {
      "cell_type": "code",
      "execution_count": 180,
      "metadata": {
        "colab": {
          "base_uri": "https://localhost:8080/"
        },
        "id": "oIyKtSsf9P24",
        "outputId": "6bc0294e-bc86-44ab-9632-39266af8dd95"
      },
      "outputs": [
        {
          "name": "stdout",
          "output_type": "stream",
          "text": [
            "Epoch 1/4\n",
            "44/44 [==============================] - 578s 13s/step - loss: 0.3360 - accuracy: 0.8779 - val_loss: 4.6570 - val_accuracy: 0.2609 - lr: 0.0010\n",
            "Epoch 2/4\n"
          ]
        },
        {
          "ename": "KeyboardInterrupt",
          "evalue": "",
          "output_type": "error",
          "traceback": [
            "\u001b[1;31m---------------------------------------------------------------------------\u001b[0m",
            "\u001b[1;31mKeyboardInterrupt\u001b[0m                         Traceback (most recent call last)",
            "\u001b[1;32mc:\\Users\\carlo\\OneDrive - Universidad Pontificia Comillas\\Universidad\\5 Quinto\\TFG BA\\TFG_BA_project_code\\model_workflow.ipynb Cell 18\u001b[0m in \u001b[0;36m2\n\u001b[0;32m      <a href='vscode-notebook-cell:/c%3A/Users/carlo/OneDrive%20-%20Universidad%20Pontificia%20Comillas/Universidad/5%20Quinto/TFG%20BA/TFG_BA_project_code/model_workflow.ipynb#X21sZmlsZQ%3D%3D?line=0'>1</a>\u001b[0m \u001b[39m# fit network\u001b[39;00m\n\u001b[1;32m----> <a href='vscode-notebook-cell:/c%3A/Users/carlo/OneDrive%20-%20Universidad%20Pontificia%20Comillas/Universidad/5%20Quinto/TFG%20BA/TFG_BA_project_code/model_workflow.ipynb#X21sZmlsZQ%3D%3D?line=1'>2</a>\u001b[0m history \u001b[39m=\u001b[39m model\u001b[39m.\u001b[39;49mfit(train_generator_with_features,\n\u001b[0;32m      <a href='vscode-notebook-cell:/c%3A/Users/carlo/OneDrive%20-%20Universidad%20Pontificia%20Comillas/Universidad/5%20Quinto/TFG%20BA/TFG_BA_project_code/model_workflow.ipynb#X21sZmlsZQ%3D%3D?line=2'>3</a>\u001b[0m                     epochs\u001b[39m=\u001b[39;49m\u001b[39m4\u001b[39;49m,\n\u001b[0;32m      <a href='vscode-notebook-cell:/c%3A/Users/carlo/OneDrive%20-%20Universidad%20Pontificia%20Comillas/Universidad/5%20Quinto/TFG%20BA/TFG_BA_project_code/model_workflow.ipynb#X21sZmlsZQ%3D%3D?line=3'>4</a>\u001b[0m                     steps_per_epoch\u001b[39m=\u001b[39;49m\u001b[39mlen\u001b[39;49m(train_generator),\n\u001b[0;32m      <a href='vscode-notebook-cell:/c%3A/Users/carlo/OneDrive%20-%20Universidad%20Pontificia%20Comillas/Universidad/5%20Quinto/TFG%20BA/TFG_BA_project_code/model_workflow.ipynb#X21sZmlsZQ%3D%3D?line=4'>5</a>\u001b[0m                     validation_data\u001b[39m=\u001b[39;49mval_generator_with_features,\n\u001b[0;32m      <a href='vscode-notebook-cell:/c%3A/Users/carlo/OneDrive%20-%20Universidad%20Pontificia%20Comillas/Universidad/5%20Quinto/TFG%20BA/TFG_BA_project_code/model_workflow.ipynb#X21sZmlsZQ%3D%3D?line=5'>6</a>\u001b[0m                     validation_steps\u001b[39m=\u001b[39;49m \u001b[39mlen\u001b[39;49m(val_generator),\n\u001b[0;32m      <a href='vscode-notebook-cell:/c%3A/Users/carlo/OneDrive%20-%20Universidad%20Pontificia%20Comillas/Universidad/5%20Quinto/TFG%20BA/TFG_BA_project_code/model_workflow.ipynb#X21sZmlsZQ%3D%3D?line=6'>7</a>\u001b[0m                     callbacks\u001b[39m=\u001b[39;49m[scheduler])\n\u001b[0;32m      <a href='vscode-notebook-cell:/c%3A/Users/carlo/OneDrive%20-%20Universidad%20Pontificia%20Comillas/Universidad/5%20Quinto/TFG%20BA/TFG_BA_project_code/model_workflow.ipynb#X21sZmlsZQ%3D%3D?line=8'>9</a>\u001b[0m \u001b[39m# 29 mins con 3 epochs => model_3\u001b[39;00m\n\u001b[0;32m     <a href='vscode-notebook-cell:/c%3A/Users/carlo/OneDrive%20-%20Universidad%20Pontificia%20Comillas/Universidad/5%20Quinto/TFG%20BA/TFG_BA_project_code/model_workflow.ipynb#X21sZmlsZQ%3D%3D?line=9'>10</a>\u001b[0m \u001b[39m# 6 mins 34s solo he probado primero con 1 epoch => model_4\u001b[39;00m\n\u001b[0;32m     <a href='vscode-notebook-cell:/c%3A/Users/carlo/OneDrive%20-%20Universidad%20Pontificia%20Comillas/Universidad/5%20Quinto/TFG%20BA/TFG_BA_project_code/model_workflow.ipynb#X21sZmlsZQ%3D%3D?line=10'>11</a>\u001b[0m \u001b[39m# de aquí para abajo con vscode\u001b[39;00m\n\u001b[1;32m   (...)\u001b[0m\n\u001b[0;32m     <a href='vscode-notebook-cell:/c%3A/Users/carlo/OneDrive%20-%20Universidad%20Pontificia%20Comillas/Universidad/5%20Quinto/TFG%20BA/TFG_BA_project_code/model_workflow.ipynb#X21sZmlsZQ%3D%3D?line=23'>24</a>\u001b[0m \u001b[39m# 28 mins 11.6s, sigue caliente, 10 epochs, con el epoch drop a 5 ahora sí, añadiendo dropout => model_8\u001b[39;00m\n\u001b[0;32m     <a href='vscode-notebook-cell:/c%3A/Users/carlo/OneDrive%20-%20Universidad%20Pontificia%20Comillas/Universidad/5%20Quinto/TFG%20BA/TFG_BA_project_code/model_workflow.ipynb#X21sZmlsZQ%3D%3D?line=24'>25</a>\u001b[0m \u001b[39m# el dropout no parece que haga mucho, estoy llegando a accuracy 1 en train y val sigue bajo\u001b[39;00m\n",
            "File \u001b[1;32mc:\\Users\\carlo\\AppData\\Local\\Programs\\Python\\Python39\\lib\\site-packages\\keras\\utils\\traceback_utils.py:65\u001b[0m, in \u001b[0;36mfilter_traceback.<locals>.error_handler\u001b[1;34m(*args, **kwargs)\u001b[0m\n\u001b[0;32m     63\u001b[0m filtered_tb \u001b[39m=\u001b[39m \u001b[39mNone\u001b[39;00m\n\u001b[0;32m     64\u001b[0m \u001b[39mtry\u001b[39;00m:\n\u001b[1;32m---> 65\u001b[0m     \u001b[39mreturn\u001b[39;00m fn(\u001b[39m*\u001b[39margs, \u001b[39m*\u001b[39m\u001b[39m*\u001b[39mkwargs)\n\u001b[0;32m     66\u001b[0m \u001b[39mexcept\u001b[39;00m \u001b[39mException\u001b[39;00m \u001b[39mas\u001b[39;00m e:\n\u001b[0;32m     67\u001b[0m     filtered_tb \u001b[39m=\u001b[39m _process_traceback_frames(e\u001b[39m.\u001b[39m__traceback__)\n",
            "File \u001b[1;32mc:\\Users\\carlo\\AppData\\Local\\Programs\\Python\\Python39\\lib\\site-packages\\keras\\engine\\training.py:1650\u001b[0m, in \u001b[0;36mModel.fit\u001b[1;34m(self, x, y, batch_size, epochs, verbose, callbacks, validation_split, validation_data, shuffle, class_weight, sample_weight, initial_epoch, steps_per_epoch, validation_steps, validation_batch_size, validation_freq, max_queue_size, workers, use_multiprocessing)\u001b[0m\n\u001b[0;32m   1642\u001b[0m \u001b[39mwith\u001b[39;00m tf\u001b[39m.\u001b[39mprofiler\u001b[39m.\u001b[39mexperimental\u001b[39m.\u001b[39mTrace(\n\u001b[0;32m   1643\u001b[0m     \u001b[39m\"\u001b[39m\u001b[39mtrain\u001b[39m\u001b[39m\"\u001b[39m,\n\u001b[0;32m   1644\u001b[0m     epoch_num\u001b[39m=\u001b[39mepoch,\n\u001b[1;32m   (...)\u001b[0m\n\u001b[0;32m   1647\u001b[0m     _r\u001b[39m=\u001b[39m\u001b[39m1\u001b[39m,\n\u001b[0;32m   1648\u001b[0m ):\n\u001b[0;32m   1649\u001b[0m     callbacks\u001b[39m.\u001b[39mon_train_batch_begin(step)\n\u001b[1;32m-> 1650\u001b[0m     tmp_logs \u001b[39m=\u001b[39m \u001b[39mself\u001b[39;49m\u001b[39m.\u001b[39;49mtrain_function(iterator)\n\u001b[0;32m   1651\u001b[0m     \u001b[39mif\u001b[39;00m data_handler\u001b[39m.\u001b[39mshould_sync:\n\u001b[0;32m   1652\u001b[0m         context\u001b[39m.\u001b[39masync_wait()\n",
            "File \u001b[1;32mc:\\Users\\carlo\\AppData\\Local\\Programs\\Python\\Python39\\lib\\site-packages\\tensorflow\\python\\util\\traceback_utils.py:150\u001b[0m, in \u001b[0;36mfilter_traceback.<locals>.error_handler\u001b[1;34m(*args, **kwargs)\u001b[0m\n\u001b[0;32m    148\u001b[0m filtered_tb \u001b[39m=\u001b[39m \u001b[39mNone\u001b[39;00m\n\u001b[0;32m    149\u001b[0m \u001b[39mtry\u001b[39;00m:\n\u001b[1;32m--> 150\u001b[0m   \u001b[39mreturn\u001b[39;00m fn(\u001b[39m*\u001b[39margs, \u001b[39m*\u001b[39m\u001b[39m*\u001b[39mkwargs)\n\u001b[0;32m    151\u001b[0m \u001b[39mexcept\u001b[39;00m \u001b[39mException\u001b[39;00m \u001b[39mas\u001b[39;00m e:\n\u001b[0;32m    152\u001b[0m   filtered_tb \u001b[39m=\u001b[39m _process_traceback_frames(e\u001b[39m.\u001b[39m__traceback__)\n",
            "File \u001b[1;32mc:\\Users\\carlo\\AppData\\Local\\Programs\\Python\\Python39\\lib\\site-packages\\tensorflow\\python\\eager\\polymorphic_function\\polymorphic_function.py:880\u001b[0m, in \u001b[0;36mFunction.__call__\u001b[1;34m(self, *args, **kwds)\u001b[0m\n\u001b[0;32m    877\u001b[0m compiler \u001b[39m=\u001b[39m \u001b[39m\"\u001b[39m\u001b[39mxla\u001b[39m\u001b[39m\"\u001b[39m \u001b[39mif\u001b[39;00m \u001b[39mself\u001b[39m\u001b[39m.\u001b[39m_jit_compile \u001b[39melse\u001b[39;00m \u001b[39m\"\u001b[39m\u001b[39mnonXla\u001b[39m\u001b[39m\"\u001b[39m\n\u001b[0;32m    879\u001b[0m \u001b[39mwith\u001b[39;00m OptionalXlaContext(\u001b[39mself\u001b[39m\u001b[39m.\u001b[39m_jit_compile):\n\u001b[1;32m--> 880\u001b[0m   result \u001b[39m=\u001b[39m \u001b[39mself\u001b[39m\u001b[39m.\u001b[39m_call(\u001b[39m*\u001b[39margs, \u001b[39m*\u001b[39m\u001b[39m*\u001b[39mkwds)\n\u001b[0;32m    882\u001b[0m new_tracing_count \u001b[39m=\u001b[39m \u001b[39mself\u001b[39m\u001b[39m.\u001b[39mexperimental_get_tracing_count()\n\u001b[0;32m    883\u001b[0m without_tracing \u001b[39m=\u001b[39m (tracing_count \u001b[39m==\u001b[39m new_tracing_count)\n",
            "File \u001b[1;32mc:\\Users\\carlo\\AppData\\Local\\Programs\\Python\\Python39\\lib\\site-packages\\tensorflow\\python\\eager\\polymorphic_function\\polymorphic_function.py:912\u001b[0m, in \u001b[0;36mFunction._call\u001b[1;34m(self, *args, **kwds)\u001b[0m\n\u001b[0;32m    909\u001b[0m   \u001b[39mself\u001b[39m\u001b[39m.\u001b[39m_lock\u001b[39m.\u001b[39mrelease()\n\u001b[0;32m    910\u001b[0m   \u001b[39m# In this case we have created variables on the first call, so we run the\u001b[39;00m\n\u001b[0;32m    911\u001b[0m   \u001b[39m# defunned version which is guaranteed to never create variables.\u001b[39;00m\n\u001b[1;32m--> 912\u001b[0m   \u001b[39mreturn\u001b[39;00m \u001b[39mself\u001b[39m\u001b[39m.\u001b[39m_no_variable_creation_fn(\u001b[39m*\u001b[39margs, \u001b[39m*\u001b[39m\u001b[39m*\u001b[39mkwds)  \u001b[39m# pylint: disable=not-callable\u001b[39;00m\n\u001b[0;32m    913\u001b[0m \u001b[39melif\u001b[39;00m \u001b[39mself\u001b[39m\u001b[39m.\u001b[39m_variable_creation_fn \u001b[39mis\u001b[39;00m \u001b[39mnot\u001b[39;00m \u001b[39mNone\u001b[39;00m:\n\u001b[0;32m    914\u001b[0m   \u001b[39m# Release the lock early so that multiple threads can perform the call\u001b[39;00m\n\u001b[0;32m    915\u001b[0m   \u001b[39m# in parallel.\u001b[39;00m\n\u001b[0;32m    916\u001b[0m   \u001b[39mself\u001b[39m\u001b[39m.\u001b[39m_lock\u001b[39m.\u001b[39mrelease()\n",
            "File \u001b[1;32mc:\\Users\\carlo\\AppData\\Local\\Programs\\Python\\Python39\\lib\\site-packages\\tensorflow\\python\\eager\\polymorphic_function\\tracing_compiler.py:134\u001b[0m, in \u001b[0;36mTracingCompiler.__call__\u001b[1;34m(self, *args, **kwargs)\u001b[0m\n\u001b[0;32m    131\u001b[0m \u001b[39mwith\u001b[39;00m \u001b[39mself\u001b[39m\u001b[39m.\u001b[39m_lock:\n\u001b[0;32m    132\u001b[0m   (concrete_function,\n\u001b[0;32m    133\u001b[0m    filtered_flat_args) \u001b[39m=\u001b[39m \u001b[39mself\u001b[39m\u001b[39m.\u001b[39m_maybe_define_function(args, kwargs)\n\u001b[1;32m--> 134\u001b[0m \u001b[39mreturn\u001b[39;00m concrete_function\u001b[39m.\u001b[39;49m_call_flat(\n\u001b[0;32m    135\u001b[0m     filtered_flat_args, captured_inputs\u001b[39m=\u001b[39;49mconcrete_function\u001b[39m.\u001b[39;49mcaptured_inputs)\n",
            "File \u001b[1;32mc:\\Users\\carlo\\AppData\\Local\\Programs\\Python\\Python39\\lib\\site-packages\\tensorflow\\python\\eager\\polymorphic_function\\monomorphic_function.py:1745\u001b[0m, in \u001b[0;36mConcreteFunction._call_flat\u001b[1;34m(self, args, captured_inputs, cancellation_manager)\u001b[0m\n\u001b[0;32m   1741\u001b[0m possible_gradient_type \u001b[39m=\u001b[39m gradients_util\u001b[39m.\u001b[39mPossibleTapeGradientTypes(args)\n\u001b[0;32m   1742\u001b[0m \u001b[39mif\u001b[39;00m (possible_gradient_type \u001b[39m==\u001b[39m gradients_util\u001b[39m.\u001b[39mPOSSIBLE_GRADIENT_TYPES_NONE\n\u001b[0;32m   1743\u001b[0m     \u001b[39mand\u001b[39;00m executing_eagerly):\n\u001b[0;32m   1744\u001b[0m   \u001b[39m# No tape is watching; skip to running the function.\u001b[39;00m\n\u001b[1;32m-> 1745\u001b[0m   \u001b[39mreturn\u001b[39;00m \u001b[39mself\u001b[39m\u001b[39m.\u001b[39m_build_call_outputs(\u001b[39mself\u001b[39;49m\u001b[39m.\u001b[39;49m_inference_function\u001b[39m.\u001b[39;49mcall(\n\u001b[0;32m   1746\u001b[0m       ctx, args, cancellation_manager\u001b[39m=\u001b[39;49mcancellation_manager))\n\u001b[0;32m   1747\u001b[0m forward_backward \u001b[39m=\u001b[39m \u001b[39mself\u001b[39m\u001b[39m.\u001b[39m_select_forward_and_backward_functions(\n\u001b[0;32m   1748\u001b[0m     args,\n\u001b[0;32m   1749\u001b[0m     possible_gradient_type,\n\u001b[0;32m   1750\u001b[0m     executing_eagerly)\n\u001b[0;32m   1751\u001b[0m forward_function, args_with_tangents \u001b[39m=\u001b[39m forward_backward\u001b[39m.\u001b[39mforward()\n",
            "File \u001b[1;32mc:\\Users\\carlo\\AppData\\Local\\Programs\\Python\\Python39\\lib\\site-packages\\tensorflow\\python\\eager\\polymorphic_function\\monomorphic_function.py:378\u001b[0m, in \u001b[0;36m_EagerDefinedFunction.call\u001b[1;34m(self, ctx, args, cancellation_manager)\u001b[0m\n\u001b[0;32m    376\u001b[0m \u001b[39mwith\u001b[39;00m _InterpolateFunctionError(\u001b[39mself\u001b[39m):\n\u001b[0;32m    377\u001b[0m   \u001b[39mif\u001b[39;00m cancellation_manager \u001b[39mis\u001b[39;00m \u001b[39mNone\u001b[39;00m:\n\u001b[1;32m--> 378\u001b[0m     outputs \u001b[39m=\u001b[39m execute\u001b[39m.\u001b[39;49mexecute(\n\u001b[0;32m    379\u001b[0m         \u001b[39mstr\u001b[39;49m(\u001b[39mself\u001b[39;49m\u001b[39m.\u001b[39;49msignature\u001b[39m.\u001b[39;49mname),\n\u001b[0;32m    380\u001b[0m         num_outputs\u001b[39m=\u001b[39;49m\u001b[39mself\u001b[39;49m\u001b[39m.\u001b[39;49m_num_outputs,\n\u001b[0;32m    381\u001b[0m         inputs\u001b[39m=\u001b[39;49margs,\n\u001b[0;32m    382\u001b[0m         attrs\u001b[39m=\u001b[39;49mattrs,\n\u001b[0;32m    383\u001b[0m         ctx\u001b[39m=\u001b[39;49mctx)\n\u001b[0;32m    384\u001b[0m   \u001b[39melse\u001b[39;00m:\n\u001b[0;32m    385\u001b[0m     outputs \u001b[39m=\u001b[39m execute\u001b[39m.\u001b[39mexecute_with_cancellation(\n\u001b[0;32m    386\u001b[0m         \u001b[39mstr\u001b[39m(\u001b[39mself\u001b[39m\u001b[39m.\u001b[39msignature\u001b[39m.\u001b[39mname),\n\u001b[0;32m    387\u001b[0m         num_outputs\u001b[39m=\u001b[39m\u001b[39mself\u001b[39m\u001b[39m.\u001b[39m_num_outputs,\n\u001b[1;32m   (...)\u001b[0m\n\u001b[0;32m    390\u001b[0m         ctx\u001b[39m=\u001b[39mctx,\n\u001b[0;32m    391\u001b[0m         cancellation_manager\u001b[39m=\u001b[39mcancellation_manager)\n",
            "File \u001b[1;32mc:\\Users\\carlo\\AppData\\Local\\Programs\\Python\\Python39\\lib\\site-packages\\tensorflow\\python\\eager\\execute.py:52\u001b[0m, in \u001b[0;36mquick_execute\u001b[1;34m(op_name, num_outputs, inputs, attrs, ctx, name)\u001b[0m\n\u001b[0;32m     50\u001b[0m \u001b[39mtry\u001b[39;00m:\n\u001b[0;32m     51\u001b[0m   ctx\u001b[39m.\u001b[39mensure_initialized()\n\u001b[1;32m---> 52\u001b[0m   tensors \u001b[39m=\u001b[39m pywrap_tfe\u001b[39m.\u001b[39;49mTFE_Py_Execute(ctx\u001b[39m.\u001b[39;49m_handle, device_name, op_name,\n\u001b[0;32m     53\u001b[0m                                       inputs, attrs, num_outputs)\n\u001b[0;32m     54\u001b[0m \u001b[39mexcept\u001b[39;00m core\u001b[39m.\u001b[39m_NotOkStatusException \u001b[39mas\u001b[39;00m e:\n\u001b[0;32m     55\u001b[0m   \u001b[39mif\u001b[39;00m name \u001b[39mis\u001b[39;00m \u001b[39mnot\u001b[39;00m \u001b[39mNone\u001b[39;00m:\n",
            "\u001b[1;31mKeyboardInterrupt\u001b[0m: "
          ]
        }
      ],
      "source": [
        "# fit network\n",
        "history = model.fit(train_generator_with_features,\n",
        "                    epochs=4,\n",
        "                    steps_per_epoch=len(train_generator),\n",
        "                    validation_data=val_generator_with_features,\n",
        "                    validation_steps= len(val_generator),\n",
        "                    callbacks=[scheduler])\n",
        "\n",
        "# 29 mins con 3 epochs => model_3\n",
        "# 6 mins 34s solo he probado primero con 1 epoch => model_4\n",
        "# de aquí para abajo con vscode\n",
        "# 34.1s, 1 epoch, en vscode en vez de google que tarda por tener que ir a drive => model_5\n",
        "# 8 mins y pico, 1 epoch, con vgg16 => pero ha fallado en la validación al concatenar, estaba tardando mucho tampoco lo iba a usar\n",
        "\n",
        "# en todo lo de arriba estaban mal los generators, por eso ha fallado el vgg16\n",
        "\n",
        "# 13 mins 28.8s, ordenador sobrecalentado (por eso tarda), 5 epochs, modelo con más capas => model_6\n",
        "\n",
        "# 22 mins 46.5s, sigue caliente, 10 epochs y poniendo el epochs drop a 5 que antes no hacía nada, modelo del 6, shuffle true en train_gen => model_7\n",
        "# al hacer el shuffle ya consigue aprender de los datos de train, pero hay que poner dropout porque en validation va mal\n",
        "# no parece que el lr esté cambiando, vale es que no lo había ejecutado con el cambio\n",
        "# mierda he borrado el 7 sin querer, (el que pone 7 es el 8 del model)\n",
        "\n",
        "# 28 mins 11.6s, sigue caliente, 10 epochs, con el epoch drop a 5 ahora sí, añadiendo dropout => model_8\n",
        "# el dropout no parece que haga mucho, estoy llegando a accuracy 1 en train y val sigue bajo\n",
        "\n",
        "# 10 mins solo 1 epoch, sigue caliente, vgg16, 4 epochs por probar, con los arreglos de los generators y el shuffle que antes igual no aprendía porque estaba mal => model_9\n",
        "# ETA del primero ya son como 9 mins, no lo voy a dejar hasta el final, solo quiero ver el val_accuracy como es\n",
        "# "
      ]
    },
    {
      "cell_type": "code",
      "execution_count": 171,
      "metadata": {
        "id": "VSTjS1FXytU6"
      },
      "outputs": [],
      "source": [
        "model.save('models/model_8.h5')"
      ]
    },
    {
      "cell_type": "code",
      "execution_count": 170,
      "metadata": {},
      "outputs": [],
      "source": [
        "np.save('history_8.npy', history.history)"
      ]
    },
    {
      "cell_type": "code",
      "execution_count": null,
      "metadata": {
        "id": "DCnXdx9dxfgQ"
      },
      "outputs": [],
      "source": [
        "# model = load_model('models/model_1.h5') // model 1 y 2 primeros (1 sin val y 2 con val), con los 9000 y val/test acc 1, epoch 1\n",
        "# model 3 es con el sample y 3 epochs"
      ]
    },
    {
      "cell_type": "code",
      "execution_count": 181,
      "metadata": {
        "colab": {
          "base_uri": "https://localhost:8080/"
        },
        "id": "aJNEEAHXzJcH",
        "outputId": "8249e27c-d68c-4259-e831-418c1a5e8092"
      },
      "outputs": [
        {
          "name": "stdout",
          "output_type": "stream",
          "text": [
            " 4/10 [===========>..................] - ETA: 5:07"
          ]
        },
        {
          "ename": "KeyboardInterrupt",
          "evalue": "",
          "output_type": "error",
          "traceback": [
            "\u001b[1;31m---------------------------------------------------------------------------\u001b[0m",
            "\u001b[1;31mKeyboardInterrupt\u001b[0m                         Traceback (most recent call last)",
            "\u001b[1;32mc:\\Users\\carlo\\OneDrive - Universidad Pontificia Comillas\\Universidad\\5 Quinto\\TFG BA\\TFG_BA_project_code\\model_workflow.ipynb Cell 22\u001b[0m in \u001b[0;36m1\n\u001b[1;32m----> <a href='vscode-notebook-cell:/c%3A/Users/carlo/OneDrive%20-%20Universidad%20Pontificia%20Comillas/Universidad/5%20Quinto/TFG%20BA/TFG_BA_project_code/model_workflow.ipynb#X24sZmlsZQ%3D%3D?line=0'>1</a>\u001b[0m prediction \u001b[39m=\u001b[39m model\u001b[39m.\u001b[39;49mpredict(test_generator_with_features, steps\u001b[39m=\u001b[39;49m\u001b[39mlen\u001b[39;49m(test_generator))\n\u001b[0;32m      <a href='vscode-notebook-cell:/c%3A/Users/carlo/OneDrive%20-%20Universidad%20Pontificia%20Comillas/Universidad/5%20Quinto/TFG%20BA/TFG_BA_project_code/model_workflow.ipynb#X24sZmlsZQ%3D%3D?line=1'>2</a>\u001b[0m \u001b[39m# 4 min 56s => model_3\u001b[39;00m\n\u001b[0;32m      <a href='vscode-notebook-cell:/c%3A/Users/carlo/OneDrive%20-%20Universidad%20Pontificia%20Comillas/Universidad/5%20Quinto/TFG%20BA/TFG_BA_project_code/model_workflow.ipynb#X24sZmlsZQ%3D%3D?line=2'>3</a>\u001b[0m \u001b[39m# 2s => model_4\u001b[39;00m\n\u001b[0;32m      <a href='vscode-notebook-cell:/c%3A/Users/carlo/OneDrive%20-%20Universidad%20Pontificia%20Comillas/Universidad/5%20Quinto/TFG%20BA/TFG_BA_project_code/model_workflow.ipynb#X24sZmlsZQ%3D%3D?line=3'>4</a>\u001b[0m \u001b[39m# 2.6s => model_5\u001b[39;00m\n\u001b[0;32m      <a href='vscode-notebook-cell:/c%3A/Users/carlo/OneDrive%20-%20Universidad%20Pontificia%20Comillas/Universidad/5%20Quinto/TFG%20BA/TFG_BA_project_code/model_workflow.ipynb#X24sZmlsZQ%3D%3D?line=4'>5</a>\u001b[0m \u001b[39m# 13.9s => model_6 (ordenador sobrecalentado no sé si afectará)\u001b[39;00m\n\u001b[0;32m      <a href='vscode-notebook-cell:/c%3A/Users/carlo/OneDrive%20-%20Universidad%20Pontificia%20Comillas/Universidad/5%20Quinto/TFG%20BA/TFG_BA_project_code/model_workflow.ipynb#X24sZmlsZQ%3D%3D?line=5'>6</a>\u001b[0m \u001b[39m# 8.4s => model_7  (sigue caliente)\u001b[39;00m\n\u001b[0;32m      <a href='vscode-notebook-cell:/c%3A/Users/carlo/OneDrive%20-%20Universidad%20Pontificia%20Comillas/Universidad/5%20Quinto/TFG%20BA/TFG_BA_project_code/model_workflow.ipynb#X24sZmlsZQ%3D%3D?line=6'>7</a>\u001b[0m \u001b[39m# 3.3s => model_8 (sigue caliente)\u001b[39;00m\n",
            "File \u001b[1;32mc:\\Users\\carlo\\AppData\\Local\\Programs\\Python\\Python39\\lib\\site-packages\\keras\\utils\\traceback_utils.py:65\u001b[0m, in \u001b[0;36mfilter_traceback.<locals>.error_handler\u001b[1;34m(*args, **kwargs)\u001b[0m\n\u001b[0;32m     63\u001b[0m filtered_tb \u001b[39m=\u001b[39m \u001b[39mNone\u001b[39;00m\n\u001b[0;32m     64\u001b[0m \u001b[39mtry\u001b[39;00m:\n\u001b[1;32m---> 65\u001b[0m     \u001b[39mreturn\u001b[39;00m fn(\u001b[39m*\u001b[39margs, \u001b[39m*\u001b[39m\u001b[39m*\u001b[39mkwargs)\n\u001b[0;32m     66\u001b[0m \u001b[39mexcept\u001b[39;00m \u001b[39mException\u001b[39;00m \u001b[39mas\u001b[39;00m e:\n\u001b[0;32m     67\u001b[0m     filtered_tb \u001b[39m=\u001b[39m _process_traceback_frames(e\u001b[39m.\u001b[39m__traceback__)\n",
            "File \u001b[1;32mc:\\Users\\carlo\\AppData\\Local\\Programs\\Python\\Python39\\lib\\site-packages\\keras\\engine\\training.py:2350\u001b[0m, in \u001b[0;36mModel.predict\u001b[1;34m(self, x, batch_size, verbose, steps, callbacks, max_queue_size, workers, use_multiprocessing)\u001b[0m\n\u001b[0;32m   2348\u001b[0m \u001b[39mfor\u001b[39;00m step \u001b[39min\u001b[39;00m data_handler\u001b[39m.\u001b[39msteps():\n\u001b[0;32m   2349\u001b[0m     callbacks\u001b[39m.\u001b[39mon_predict_batch_begin(step)\n\u001b[1;32m-> 2350\u001b[0m     tmp_batch_outputs \u001b[39m=\u001b[39m \u001b[39mself\u001b[39;49m\u001b[39m.\u001b[39;49mpredict_function(iterator)\n\u001b[0;32m   2351\u001b[0m     \u001b[39mif\u001b[39;00m data_handler\u001b[39m.\u001b[39mshould_sync:\n\u001b[0;32m   2352\u001b[0m         context\u001b[39m.\u001b[39masync_wait()\n",
            "File \u001b[1;32mc:\\Users\\carlo\\AppData\\Local\\Programs\\Python\\Python39\\lib\\site-packages\\tensorflow\\python\\util\\traceback_utils.py:150\u001b[0m, in \u001b[0;36mfilter_traceback.<locals>.error_handler\u001b[1;34m(*args, **kwargs)\u001b[0m\n\u001b[0;32m    148\u001b[0m filtered_tb \u001b[39m=\u001b[39m \u001b[39mNone\u001b[39;00m\n\u001b[0;32m    149\u001b[0m \u001b[39mtry\u001b[39;00m:\n\u001b[1;32m--> 150\u001b[0m   \u001b[39mreturn\u001b[39;00m fn(\u001b[39m*\u001b[39margs, \u001b[39m*\u001b[39m\u001b[39m*\u001b[39mkwargs)\n\u001b[0;32m    151\u001b[0m \u001b[39mexcept\u001b[39;00m \u001b[39mException\u001b[39;00m \u001b[39mas\u001b[39;00m e:\n\u001b[0;32m    152\u001b[0m   filtered_tb \u001b[39m=\u001b[39m _process_traceback_frames(e\u001b[39m.\u001b[39m__traceback__)\n",
            "File \u001b[1;32mc:\\Users\\carlo\\AppData\\Local\\Programs\\Python\\Python39\\lib\\site-packages\\tensorflow\\python\\eager\\polymorphic_function\\polymorphic_function.py:880\u001b[0m, in \u001b[0;36mFunction.__call__\u001b[1;34m(self, *args, **kwds)\u001b[0m\n\u001b[0;32m    877\u001b[0m compiler \u001b[39m=\u001b[39m \u001b[39m\"\u001b[39m\u001b[39mxla\u001b[39m\u001b[39m\"\u001b[39m \u001b[39mif\u001b[39;00m \u001b[39mself\u001b[39m\u001b[39m.\u001b[39m_jit_compile \u001b[39melse\u001b[39;00m \u001b[39m\"\u001b[39m\u001b[39mnonXla\u001b[39m\u001b[39m\"\u001b[39m\n\u001b[0;32m    879\u001b[0m \u001b[39mwith\u001b[39;00m OptionalXlaContext(\u001b[39mself\u001b[39m\u001b[39m.\u001b[39m_jit_compile):\n\u001b[1;32m--> 880\u001b[0m   result \u001b[39m=\u001b[39m \u001b[39mself\u001b[39m\u001b[39m.\u001b[39m_call(\u001b[39m*\u001b[39margs, \u001b[39m*\u001b[39m\u001b[39m*\u001b[39mkwds)\n\u001b[0;32m    882\u001b[0m new_tracing_count \u001b[39m=\u001b[39m \u001b[39mself\u001b[39m\u001b[39m.\u001b[39mexperimental_get_tracing_count()\n\u001b[0;32m    883\u001b[0m without_tracing \u001b[39m=\u001b[39m (tracing_count \u001b[39m==\u001b[39m new_tracing_count)\n",
            "File \u001b[1;32mc:\\Users\\carlo\\AppData\\Local\\Programs\\Python\\Python39\\lib\\site-packages\\tensorflow\\python\\eager\\polymorphic_function\\polymorphic_function.py:919\u001b[0m, in \u001b[0;36mFunction._call\u001b[1;34m(self, *args, **kwds)\u001b[0m\n\u001b[0;32m    916\u001b[0m \u001b[39mself\u001b[39m\u001b[39m.\u001b[39m_lock\u001b[39m.\u001b[39mrelease()\n\u001b[0;32m    917\u001b[0m \u001b[39m# In this case we have not created variables on the first call. So we can\u001b[39;00m\n\u001b[0;32m    918\u001b[0m \u001b[39m# run the first trace but we should fail if variables are created.\u001b[39;00m\n\u001b[1;32m--> 919\u001b[0m results \u001b[39m=\u001b[39m \u001b[39mself\u001b[39m\u001b[39m.\u001b[39m_variable_creation_fn(\u001b[39m*\u001b[39margs, \u001b[39m*\u001b[39m\u001b[39m*\u001b[39mkwds)\n\u001b[0;32m    920\u001b[0m \u001b[39mif\u001b[39;00m \u001b[39mself\u001b[39m\u001b[39m.\u001b[39m_created_variables \u001b[39mand\u001b[39;00m \u001b[39mnot\u001b[39;00m ALLOW_DYNAMIC_VARIABLE_CREATION:\n\u001b[0;32m    921\u001b[0m   \u001b[39mraise\u001b[39;00m \u001b[39mValueError\u001b[39;00m(\u001b[39m\"\u001b[39m\u001b[39mCreating variables on a non-first call to a function\u001b[39m\u001b[39m\"\u001b[39m\n\u001b[0;32m    922\u001b[0m                    \u001b[39m\"\u001b[39m\u001b[39m decorated with tf.function.\u001b[39m\u001b[39m\"\u001b[39m)\n",
            "File \u001b[1;32mc:\\Users\\carlo\\AppData\\Local\\Programs\\Python\\Python39\\lib\\site-packages\\tensorflow\\python\\eager\\polymorphic_function\\tracing_compiler.py:134\u001b[0m, in \u001b[0;36mTracingCompiler.__call__\u001b[1;34m(self, *args, **kwargs)\u001b[0m\n\u001b[0;32m    131\u001b[0m \u001b[39mwith\u001b[39;00m \u001b[39mself\u001b[39m\u001b[39m.\u001b[39m_lock:\n\u001b[0;32m    132\u001b[0m   (concrete_function,\n\u001b[0;32m    133\u001b[0m    filtered_flat_args) \u001b[39m=\u001b[39m \u001b[39mself\u001b[39m\u001b[39m.\u001b[39m_maybe_define_function(args, kwargs)\n\u001b[1;32m--> 134\u001b[0m \u001b[39mreturn\u001b[39;00m concrete_function\u001b[39m.\u001b[39;49m_call_flat(\n\u001b[0;32m    135\u001b[0m     filtered_flat_args, captured_inputs\u001b[39m=\u001b[39;49mconcrete_function\u001b[39m.\u001b[39;49mcaptured_inputs)\n",
            "File \u001b[1;32mc:\\Users\\carlo\\AppData\\Local\\Programs\\Python\\Python39\\lib\\site-packages\\tensorflow\\python\\eager\\polymorphic_function\\monomorphic_function.py:1745\u001b[0m, in \u001b[0;36mConcreteFunction._call_flat\u001b[1;34m(self, args, captured_inputs, cancellation_manager)\u001b[0m\n\u001b[0;32m   1741\u001b[0m possible_gradient_type \u001b[39m=\u001b[39m gradients_util\u001b[39m.\u001b[39mPossibleTapeGradientTypes(args)\n\u001b[0;32m   1742\u001b[0m \u001b[39mif\u001b[39;00m (possible_gradient_type \u001b[39m==\u001b[39m gradients_util\u001b[39m.\u001b[39mPOSSIBLE_GRADIENT_TYPES_NONE\n\u001b[0;32m   1743\u001b[0m     \u001b[39mand\u001b[39;00m executing_eagerly):\n\u001b[0;32m   1744\u001b[0m   \u001b[39m# No tape is watching; skip to running the function.\u001b[39;00m\n\u001b[1;32m-> 1745\u001b[0m   \u001b[39mreturn\u001b[39;00m \u001b[39mself\u001b[39m\u001b[39m.\u001b[39m_build_call_outputs(\u001b[39mself\u001b[39;49m\u001b[39m.\u001b[39;49m_inference_function\u001b[39m.\u001b[39;49mcall(\n\u001b[0;32m   1746\u001b[0m       ctx, args, cancellation_manager\u001b[39m=\u001b[39;49mcancellation_manager))\n\u001b[0;32m   1747\u001b[0m forward_backward \u001b[39m=\u001b[39m \u001b[39mself\u001b[39m\u001b[39m.\u001b[39m_select_forward_and_backward_functions(\n\u001b[0;32m   1748\u001b[0m     args,\n\u001b[0;32m   1749\u001b[0m     possible_gradient_type,\n\u001b[0;32m   1750\u001b[0m     executing_eagerly)\n\u001b[0;32m   1751\u001b[0m forward_function, args_with_tangents \u001b[39m=\u001b[39m forward_backward\u001b[39m.\u001b[39mforward()\n",
            "File \u001b[1;32mc:\\Users\\carlo\\AppData\\Local\\Programs\\Python\\Python39\\lib\\site-packages\\tensorflow\\python\\eager\\polymorphic_function\\monomorphic_function.py:378\u001b[0m, in \u001b[0;36m_EagerDefinedFunction.call\u001b[1;34m(self, ctx, args, cancellation_manager)\u001b[0m\n\u001b[0;32m    376\u001b[0m \u001b[39mwith\u001b[39;00m _InterpolateFunctionError(\u001b[39mself\u001b[39m):\n\u001b[0;32m    377\u001b[0m   \u001b[39mif\u001b[39;00m cancellation_manager \u001b[39mis\u001b[39;00m \u001b[39mNone\u001b[39;00m:\n\u001b[1;32m--> 378\u001b[0m     outputs \u001b[39m=\u001b[39m execute\u001b[39m.\u001b[39;49mexecute(\n\u001b[0;32m    379\u001b[0m         \u001b[39mstr\u001b[39;49m(\u001b[39mself\u001b[39;49m\u001b[39m.\u001b[39;49msignature\u001b[39m.\u001b[39;49mname),\n\u001b[0;32m    380\u001b[0m         num_outputs\u001b[39m=\u001b[39;49m\u001b[39mself\u001b[39;49m\u001b[39m.\u001b[39;49m_num_outputs,\n\u001b[0;32m    381\u001b[0m         inputs\u001b[39m=\u001b[39;49margs,\n\u001b[0;32m    382\u001b[0m         attrs\u001b[39m=\u001b[39;49mattrs,\n\u001b[0;32m    383\u001b[0m         ctx\u001b[39m=\u001b[39;49mctx)\n\u001b[0;32m    384\u001b[0m   \u001b[39melse\u001b[39;00m:\n\u001b[0;32m    385\u001b[0m     outputs \u001b[39m=\u001b[39m execute\u001b[39m.\u001b[39mexecute_with_cancellation(\n\u001b[0;32m    386\u001b[0m         \u001b[39mstr\u001b[39m(\u001b[39mself\u001b[39m\u001b[39m.\u001b[39msignature\u001b[39m.\u001b[39mname),\n\u001b[0;32m    387\u001b[0m         num_outputs\u001b[39m=\u001b[39m\u001b[39mself\u001b[39m\u001b[39m.\u001b[39m_num_outputs,\n\u001b[1;32m   (...)\u001b[0m\n\u001b[0;32m    390\u001b[0m         ctx\u001b[39m=\u001b[39mctx,\n\u001b[0;32m    391\u001b[0m         cancellation_manager\u001b[39m=\u001b[39mcancellation_manager)\n",
            "File \u001b[1;32mc:\\Users\\carlo\\AppData\\Local\\Programs\\Python\\Python39\\lib\\site-packages\\tensorflow\\python\\eager\\execute.py:52\u001b[0m, in \u001b[0;36mquick_execute\u001b[1;34m(op_name, num_outputs, inputs, attrs, ctx, name)\u001b[0m\n\u001b[0;32m     50\u001b[0m \u001b[39mtry\u001b[39;00m:\n\u001b[0;32m     51\u001b[0m   ctx\u001b[39m.\u001b[39mensure_initialized()\n\u001b[1;32m---> 52\u001b[0m   tensors \u001b[39m=\u001b[39m pywrap_tfe\u001b[39m.\u001b[39;49mTFE_Py_Execute(ctx\u001b[39m.\u001b[39;49m_handle, device_name, op_name,\n\u001b[0;32m     53\u001b[0m                                       inputs, attrs, num_outputs)\n\u001b[0;32m     54\u001b[0m \u001b[39mexcept\u001b[39;00m core\u001b[39m.\u001b[39m_NotOkStatusException \u001b[39mas\u001b[39;00m e:\n\u001b[0;32m     55\u001b[0m   \u001b[39mif\u001b[39;00m name \u001b[39mis\u001b[39;00m \u001b[39mnot\u001b[39;00m \u001b[39mNone\u001b[39;00m:\n",
            "\u001b[1;31mKeyboardInterrupt\u001b[0m: "
          ]
        }
      ],
      "source": [
        "prediction = model.predict(test_generator_with_features, steps=len(test_generator))\n",
        "# 4 min 56s => model_3\n",
        "# 2s => model_4\n",
        "# 2.6s => model_5\n",
        "# 13.9s => model_6 (ordenador sobrecalentado no sé si afectará)\n",
        "# 8.4s => model_7  (sigue caliente)\n",
        "# 3.3s => model_8 (sigue caliente)"
      ]
    },
    {
      "cell_type": "code",
      "execution_count": 17,
      "metadata": {
        "colab": {
          "base_uri": "https://localhost:8080/"
        },
        "id": "SpYXNvoNzQR2",
        "outputId": "f7e62096-7b43-4101-a8f4-40cb66a7291b"
      },
      "outputs": [
        {
          "data": {
            "text/plain": [
              "(299, 4)"
            ]
          },
          "execution_count": 17,
          "metadata": {},
          "output_type": "execute_result"
        }
      ],
      "source": [
        "prediction.shape"
      ]
    },
    {
      "cell_type": "code",
      "execution_count": null,
      "metadata": {
        "id": "nGNvvo1UzyVz"
      },
      "outputs": [],
      "source": [
        "test_pred = np.argmax(prediction, axis=1)"
      ]
    },
    {
      "cell_type": "code",
      "execution_count": 19,
      "metadata": {
        "colab": {
          "base_uri": "https://localhost:8080/"
        },
        "id": "U_b1xdlm6AWy",
        "outputId": "4519502c-34aa-49c7-bd0b-5c47ec337911"
      },
      "outputs": [
        {
          "data": {
            "text/plain": [
              "(299,)"
            ]
          },
          "execution_count": 19,
          "metadata": {},
          "output_type": "execute_result"
        }
      ],
      "source": [
        "test_pred.shape"
      ]
    },
    {
      "cell_type": "code",
      "execution_count": null,
      "metadata": {
        "id": "Z-0CLR6r6IyD"
      },
      "outputs": [],
      "source": [
        "test_true_values = test_df[labels].to_numpy()"
      ]
    },
    {
      "cell_type": "code",
      "execution_count": null,
      "metadata": {
        "colab": {
          "base_uri": "https://localhost:8080/"
        },
        "id": "gkVDQkkj0bVL",
        "outputId": "95959118-f0e6-4b8c-f3c1-68e952b337ee"
      },
      "outputs": [
        {
          "data": {
            "text/plain": [
              "(299,)"
            ]
          },
          "execution_count": 175,
          "metadata": {},
          "output_type": "execute_result"
        }
      ],
      "source": [
        "test_true = np.argmax(test_true_values, axis=1)\n",
        "test_true.shape"
      ]
    },
    {
      "cell_type": "code",
      "execution_count": null,
      "metadata": {
        "colab": {
          "base_uri": "https://localhost:8080/"
        },
        "id": "OgdQSVBZ0OWw",
        "outputId": "ab363e6c-8d27-43ec-98a6-8ab52d59c70a"
      },
      "outputs": [
        {
          "data": {
            "text/plain": [
              "0.19732441471571907"
            ]
          },
          "execution_count": 176,
          "metadata": {},
          "output_type": "execute_result"
        }
      ],
      "source": [
        "accuracy = accuracy_score(test_true, test_pred)\n",
        "accuracy\n",
        "# model_3\n",
        "# en test sigue teniendo un 100% accuracy ?????\n",
        "# añadir dropout o regularización?\n",
        "# igual sigue siendo demasiado parecido, durante el mes ir cargando el resto de mins de los vídeos\n",
        "# intentar liar a alguien para grabarles también\n",
        "\n",
        "# model_4\n",
        "# ya da un accuracy malo como quería\n",
        "# añadir más capas a la red (maybe vgg16)\n",
        "# y también más epochs que solo he puesto 1\n",
        "# 0.18 o así\n",
        "\n",
        "# model_6\n",
        "# 0.284\n",
        "\n",
        "# model_7\n",
        "# 0.3545\n",
        "\n",
        "# model_8\n",
        "# 0.197"
      ]
    },
    {
      "cell_type": "code",
      "execution_count": null,
      "metadata": {},
      "outputs": [
        {
          "name": "stdout",
          "output_type": "stream",
          "text": [
            "               precision    recall  f1-score   support\n",
            "\n",
            "        alert     0.0204    0.0133    0.0161        75\n",
            "slight_drowsy     0.1273    0.1867    0.1514        75\n",
            "   mod_drowsy     0.7500    0.0405    0.0769        74\n",
            "  very_drowsy     0.3015    0.5467    0.3886        75\n",
            "\n",
            "     accuracy                         0.1973       299\n",
            "    macro avg     0.2998    0.1968    0.1583       299\n",
            " weighted avg     0.2983    0.1973    0.1585       299\n",
            "\n"
          ]
        }
      ],
      "source": [
        "print(classification_report(test_true,test_pred, target_names=labels, digits=4))\n"
      ]
    },
    {
      "cell_type": "code",
      "execution_count": 178,
      "metadata": {},
      "outputs": [
        {
          "data": {
            "application/vnd.plotly.v1+json": {
              "config": {
                "plotlyServerURL": "https://plot.ly"
              },
              "data": [
                {
                  "colorscale": [
                    [
                      0,
                      "#0d0887"
                    ],
                    [
                      0.1111111111111111,
                      "#46039f"
                    ],
                    [
                      0.2222222222222222,
                      "#7201a8"
                    ],
                    [
                      0.3333333333333333,
                      "#9c179e"
                    ],
                    [
                      0.4444444444444444,
                      "#bd3786"
                    ],
                    [
                      0.5555555555555556,
                      "#d8576b"
                    ],
                    [
                      0.6666666666666666,
                      "#ed7953"
                    ],
                    [
                      0.7777777777777778,
                      "#fb9f3a"
                    ],
                    [
                      0.8888888888888888,
                      "#fdca26"
                    ],
                    [
                      1,
                      "#f0f921"
                    ]
                  ],
                  "reversescale": false,
                  "showscale": false,
                  "type": "heatmap",
                  "x": [
                    "alert",
                    "slight_drowsy",
                    "mod_drowsy",
                    "very_drowsy"
                  ],
                  "y": [
                    "very_drowsy",
                    "mod_drowsy",
                    "slight_drowsy",
                    "alert"
                  ],
                  "z": [
                    [
                      2,
                      32,
                      0,
                      41
                    ],
                    [
                      24,
                      13,
                      3,
                      34
                    ],
                    [
                      22,
                      14,
                      0,
                      39
                    ],
                    [
                      1,
                      51,
                      1,
                      22
                    ]
                  ]
                }
              ],
              "layout": {
                "annotations": [
                  {
                    "font": {
                      "color": "#FFFFFF"
                    },
                    "showarrow": false,
                    "text": "2<br>(0.7%)",
                    "x": "alert",
                    "xref": "x",
                    "y": "very_drowsy",
                    "yref": "y"
                  },
                  {
                    "font": {
                      "color": "#000000"
                    },
                    "showarrow": false,
                    "text": "32<br>(10.7%)",
                    "x": "slight_drowsy",
                    "xref": "x",
                    "y": "very_drowsy",
                    "yref": "y"
                  },
                  {
                    "font": {
                      "color": "#FFFFFF"
                    },
                    "showarrow": false,
                    "text": "0<br>(0.0%)",
                    "x": "mod_drowsy",
                    "xref": "x",
                    "y": "very_drowsy",
                    "yref": "y"
                  },
                  {
                    "font": {
                      "color": "#000000"
                    },
                    "showarrow": false,
                    "text": "41<br>(13.7%)",
                    "x": "very_drowsy",
                    "xref": "x",
                    "y": "very_drowsy",
                    "yref": "y"
                  },
                  {
                    "font": {
                      "color": "#FFFFFF"
                    },
                    "showarrow": false,
                    "text": "24<br>(8.0%)",
                    "x": "alert",
                    "xref": "x",
                    "y": "mod_drowsy",
                    "yref": "y"
                  },
                  {
                    "font": {
                      "color": "#FFFFFF"
                    },
                    "showarrow": false,
                    "text": "13<br>(4.3%)",
                    "x": "slight_drowsy",
                    "xref": "x",
                    "y": "mod_drowsy",
                    "yref": "y"
                  },
                  {
                    "font": {
                      "color": "#FFFFFF"
                    },
                    "showarrow": false,
                    "text": "3<br>(1.0%)",
                    "x": "mod_drowsy",
                    "xref": "x",
                    "y": "mod_drowsy",
                    "yref": "y"
                  },
                  {
                    "font": {
                      "color": "#000000"
                    },
                    "showarrow": false,
                    "text": "34<br>(11.4%)",
                    "x": "very_drowsy",
                    "xref": "x",
                    "y": "mod_drowsy",
                    "yref": "y"
                  },
                  {
                    "font": {
                      "color": "#FFFFFF"
                    },
                    "showarrow": false,
                    "text": "22<br>(7.4%)",
                    "x": "alert",
                    "xref": "x",
                    "y": "slight_drowsy",
                    "yref": "y"
                  },
                  {
                    "font": {
                      "color": "#FFFFFF"
                    },
                    "showarrow": false,
                    "text": "14<br>(4.7%)",
                    "x": "slight_drowsy",
                    "xref": "x",
                    "y": "slight_drowsy",
                    "yref": "y"
                  },
                  {
                    "font": {
                      "color": "#FFFFFF"
                    },
                    "showarrow": false,
                    "text": "0<br>(0.0%)",
                    "x": "mod_drowsy",
                    "xref": "x",
                    "y": "slight_drowsy",
                    "yref": "y"
                  },
                  {
                    "font": {
                      "color": "#000000"
                    },
                    "showarrow": false,
                    "text": "39<br>(13.0%)",
                    "x": "very_drowsy",
                    "xref": "x",
                    "y": "slight_drowsy",
                    "yref": "y"
                  },
                  {
                    "font": {
                      "color": "#FFFFFF"
                    },
                    "showarrow": false,
                    "text": "1<br>(0.3%)",
                    "x": "alert",
                    "xref": "x",
                    "y": "alert",
                    "yref": "y"
                  },
                  {
                    "font": {
                      "color": "#000000"
                    },
                    "showarrow": false,
                    "text": "51<br>(17.1%)",
                    "x": "slight_drowsy",
                    "xref": "x",
                    "y": "alert",
                    "yref": "y"
                  },
                  {
                    "font": {
                      "color": "#FFFFFF"
                    },
                    "showarrow": false,
                    "text": "1<br>(0.3%)",
                    "x": "mod_drowsy",
                    "xref": "x",
                    "y": "alert",
                    "yref": "y"
                  },
                  {
                    "font": {
                      "color": "#FFFFFF"
                    },
                    "showarrow": false,
                    "text": "22<br>(7.4%)",
                    "x": "very_drowsy",
                    "xref": "x",
                    "y": "alert",
                    "yref": "y"
                  }
                ],
                "height": 350,
                "template": {
                  "data": {
                    "bar": [
                      {
                        "error_x": {
                          "color": "#2a3f5f"
                        },
                        "error_y": {
                          "color": "#2a3f5f"
                        },
                        "marker": {
                          "line": {
                            "color": "#E5ECF6",
                            "width": 0.5
                          },
                          "pattern": {
                            "fillmode": "overlay",
                            "size": 10,
                            "solidity": 0.2
                          }
                        },
                        "type": "bar"
                      }
                    ],
                    "barpolar": [
                      {
                        "marker": {
                          "line": {
                            "color": "#E5ECF6",
                            "width": 0.5
                          },
                          "pattern": {
                            "fillmode": "overlay",
                            "size": 10,
                            "solidity": 0.2
                          }
                        },
                        "type": "barpolar"
                      }
                    ],
                    "carpet": [
                      {
                        "aaxis": {
                          "endlinecolor": "#2a3f5f",
                          "gridcolor": "white",
                          "linecolor": "white",
                          "minorgridcolor": "white",
                          "startlinecolor": "#2a3f5f"
                        },
                        "baxis": {
                          "endlinecolor": "#2a3f5f",
                          "gridcolor": "white",
                          "linecolor": "white",
                          "minorgridcolor": "white",
                          "startlinecolor": "#2a3f5f"
                        },
                        "type": "carpet"
                      }
                    ],
                    "choropleth": [
                      {
                        "colorbar": {
                          "outlinewidth": 0,
                          "ticks": ""
                        },
                        "type": "choropleth"
                      }
                    ],
                    "contour": [
                      {
                        "colorbar": {
                          "outlinewidth": 0,
                          "ticks": ""
                        },
                        "colorscale": [
                          [
                            0,
                            "#0d0887"
                          ],
                          [
                            0.1111111111111111,
                            "#46039f"
                          ],
                          [
                            0.2222222222222222,
                            "#7201a8"
                          ],
                          [
                            0.3333333333333333,
                            "#9c179e"
                          ],
                          [
                            0.4444444444444444,
                            "#bd3786"
                          ],
                          [
                            0.5555555555555556,
                            "#d8576b"
                          ],
                          [
                            0.6666666666666666,
                            "#ed7953"
                          ],
                          [
                            0.7777777777777778,
                            "#fb9f3a"
                          ],
                          [
                            0.8888888888888888,
                            "#fdca26"
                          ],
                          [
                            1,
                            "#f0f921"
                          ]
                        ],
                        "type": "contour"
                      }
                    ],
                    "contourcarpet": [
                      {
                        "colorbar": {
                          "outlinewidth": 0,
                          "ticks": ""
                        },
                        "type": "contourcarpet"
                      }
                    ],
                    "heatmap": [
                      {
                        "colorbar": {
                          "outlinewidth": 0,
                          "ticks": ""
                        },
                        "colorscale": [
                          [
                            0,
                            "#0d0887"
                          ],
                          [
                            0.1111111111111111,
                            "#46039f"
                          ],
                          [
                            0.2222222222222222,
                            "#7201a8"
                          ],
                          [
                            0.3333333333333333,
                            "#9c179e"
                          ],
                          [
                            0.4444444444444444,
                            "#bd3786"
                          ],
                          [
                            0.5555555555555556,
                            "#d8576b"
                          ],
                          [
                            0.6666666666666666,
                            "#ed7953"
                          ],
                          [
                            0.7777777777777778,
                            "#fb9f3a"
                          ],
                          [
                            0.8888888888888888,
                            "#fdca26"
                          ],
                          [
                            1,
                            "#f0f921"
                          ]
                        ],
                        "type": "heatmap"
                      }
                    ],
                    "heatmapgl": [
                      {
                        "colorbar": {
                          "outlinewidth": 0,
                          "ticks": ""
                        },
                        "colorscale": [
                          [
                            0,
                            "#0d0887"
                          ],
                          [
                            0.1111111111111111,
                            "#46039f"
                          ],
                          [
                            0.2222222222222222,
                            "#7201a8"
                          ],
                          [
                            0.3333333333333333,
                            "#9c179e"
                          ],
                          [
                            0.4444444444444444,
                            "#bd3786"
                          ],
                          [
                            0.5555555555555556,
                            "#d8576b"
                          ],
                          [
                            0.6666666666666666,
                            "#ed7953"
                          ],
                          [
                            0.7777777777777778,
                            "#fb9f3a"
                          ],
                          [
                            0.8888888888888888,
                            "#fdca26"
                          ],
                          [
                            1,
                            "#f0f921"
                          ]
                        ],
                        "type": "heatmapgl"
                      }
                    ],
                    "histogram": [
                      {
                        "marker": {
                          "pattern": {
                            "fillmode": "overlay",
                            "size": 10,
                            "solidity": 0.2
                          }
                        },
                        "type": "histogram"
                      }
                    ],
                    "histogram2d": [
                      {
                        "colorbar": {
                          "outlinewidth": 0,
                          "ticks": ""
                        },
                        "colorscale": [
                          [
                            0,
                            "#0d0887"
                          ],
                          [
                            0.1111111111111111,
                            "#46039f"
                          ],
                          [
                            0.2222222222222222,
                            "#7201a8"
                          ],
                          [
                            0.3333333333333333,
                            "#9c179e"
                          ],
                          [
                            0.4444444444444444,
                            "#bd3786"
                          ],
                          [
                            0.5555555555555556,
                            "#d8576b"
                          ],
                          [
                            0.6666666666666666,
                            "#ed7953"
                          ],
                          [
                            0.7777777777777778,
                            "#fb9f3a"
                          ],
                          [
                            0.8888888888888888,
                            "#fdca26"
                          ],
                          [
                            1,
                            "#f0f921"
                          ]
                        ],
                        "type": "histogram2d"
                      }
                    ],
                    "histogram2dcontour": [
                      {
                        "colorbar": {
                          "outlinewidth": 0,
                          "ticks": ""
                        },
                        "colorscale": [
                          [
                            0,
                            "#0d0887"
                          ],
                          [
                            0.1111111111111111,
                            "#46039f"
                          ],
                          [
                            0.2222222222222222,
                            "#7201a8"
                          ],
                          [
                            0.3333333333333333,
                            "#9c179e"
                          ],
                          [
                            0.4444444444444444,
                            "#bd3786"
                          ],
                          [
                            0.5555555555555556,
                            "#d8576b"
                          ],
                          [
                            0.6666666666666666,
                            "#ed7953"
                          ],
                          [
                            0.7777777777777778,
                            "#fb9f3a"
                          ],
                          [
                            0.8888888888888888,
                            "#fdca26"
                          ],
                          [
                            1,
                            "#f0f921"
                          ]
                        ],
                        "type": "histogram2dcontour"
                      }
                    ],
                    "mesh3d": [
                      {
                        "colorbar": {
                          "outlinewidth": 0,
                          "ticks": ""
                        },
                        "type": "mesh3d"
                      }
                    ],
                    "parcoords": [
                      {
                        "line": {
                          "colorbar": {
                            "outlinewidth": 0,
                            "ticks": ""
                          }
                        },
                        "type": "parcoords"
                      }
                    ],
                    "pie": [
                      {
                        "automargin": true,
                        "type": "pie"
                      }
                    ],
                    "scatter": [
                      {
                        "fillpattern": {
                          "fillmode": "overlay",
                          "size": 10,
                          "solidity": 0.2
                        },
                        "type": "scatter"
                      }
                    ],
                    "scatter3d": [
                      {
                        "line": {
                          "colorbar": {
                            "outlinewidth": 0,
                            "ticks": ""
                          }
                        },
                        "marker": {
                          "colorbar": {
                            "outlinewidth": 0,
                            "ticks": ""
                          }
                        },
                        "type": "scatter3d"
                      }
                    ],
                    "scattercarpet": [
                      {
                        "marker": {
                          "colorbar": {
                            "outlinewidth": 0,
                            "ticks": ""
                          }
                        },
                        "type": "scattercarpet"
                      }
                    ],
                    "scattergeo": [
                      {
                        "marker": {
                          "colorbar": {
                            "outlinewidth": 0,
                            "ticks": ""
                          }
                        },
                        "type": "scattergeo"
                      }
                    ],
                    "scattergl": [
                      {
                        "marker": {
                          "colorbar": {
                            "outlinewidth": 0,
                            "ticks": ""
                          }
                        },
                        "type": "scattergl"
                      }
                    ],
                    "scattermapbox": [
                      {
                        "marker": {
                          "colorbar": {
                            "outlinewidth": 0,
                            "ticks": ""
                          }
                        },
                        "type": "scattermapbox"
                      }
                    ],
                    "scatterpolar": [
                      {
                        "marker": {
                          "colorbar": {
                            "outlinewidth": 0,
                            "ticks": ""
                          }
                        },
                        "type": "scatterpolar"
                      }
                    ],
                    "scatterpolargl": [
                      {
                        "marker": {
                          "colorbar": {
                            "outlinewidth": 0,
                            "ticks": ""
                          }
                        },
                        "type": "scatterpolargl"
                      }
                    ],
                    "scatterternary": [
                      {
                        "marker": {
                          "colorbar": {
                            "outlinewidth": 0,
                            "ticks": ""
                          }
                        },
                        "type": "scatterternary"
                      }
                    ],
                    "surface": [
                      {
                        "colorbar": {
                          "outlinewidth": 0,
                          "ticks": ""
                        },
                        "colorscale": [
                          [
                            0,
                            "#0d0887"
                          ],
                          [
                            0.1111111111111111,
                            "#46039f"
                          ],
                          [
                            0.2222222222222222,
                            "#7201a8"
                          ],
                          [
                            0.3333333333333333,
                            "#9c179e"
                          ],
                          [
                            0.4444444444444444,
                            "#bd3786"
                          ],
                          [
                            0.5555555555555556,
                            "#d8576b"
                          ],
                          [
                            0.6666666666666666,
                            "#ed7953"
                          ],
                          [
                            0.7777777777777778,
                            "#fb9f3a"
                          ],
                          [
                            0.8888888888888888,
                            "#fdca26"
                          ],
                          [
                            1,
                            "#f0f921"
                          ]
                        ],
                        "type": "surface"
                      }
                    ],
                    "table": [
                      {
                        "cells": {
                          "fill": {
                            "color": "#EBF0F8"
                          },
                          "line": {
                            "color": "white"
                          }
                        },
                        "header": {
                          "fill": {
                            "color": "#C8D4E3"
                          },
                          "line": {
                            "color": "white"
                          }
                        },
                        "type": "table"
                      }
                    ]
                  },
                  "layout": {
                    "annotationdefaults": {
                      "arrowcolor": "#2a3f5f",
                      "arrowhead": 0,
                      "arrowwidth": 1
                    },
                    "autotypenumbers": "strict",
                    "coloraxis": {
                      "colorbar": {
                        "outlinewidth": 0,
                        "ticks": ""
                      }
                    },
                    "colorscale": {
                      "diverging": [
                        [
                          0,
                          "#8e0152"
                        ],
                        [
                          0.1,
                          "#c51b7d"
                        ],
                        [
                          0.2,
                          "#de77ae"
                        ],
                        [
                          0.3,
                          "#f1b6da"
                        ],
                        [
                          0.4,
                          "#fde0ef"
                        ],
                        [
                          0.5,
                          "#f7f7f7"
                        ],
                        [
                          0.6,
                          "#e6f5d0"
                        ],
                        [
                          0.7,
                          "#b8e186"
                        ],
                        [
                          0.8,
                          "#7fbc41"
                        ],
                        [
                          0.9,
                          "#4d9221"
                        ],
                        [
                          1,
                          "#276419"
                        ]
                      ],
                      "sequential": [
                        [
                          0,
                          "#0d0887"
                        ],
                        [
                          0.1111111111111111,
                          "#46039f"
                        ],
                        [
                          0.2222222222222222,
                          "#7201a8"
                        ],
                        [
                          0.3333333333333333,
                          "#9c179e"
                        ],
                        [
                          0.4444444444444444,
                          "#bd3786"
                        ],
                        [
                          0.5555555555555556,
                          "#d8576b"
                        ],
                        [
                          0.6666666666666666,
                          "#ed7953"
                        ],
                        [
                          0.7777777777777778,
                          "#fb9f3a"
                        ],
                        [
                          0.8888888888888888,
                          "#fdca26"
                        ],
                        [
                          1,
                          "#f0f921"
                        ]
                      ],
                      "sequentialminus": [
                        [
                          0,
                          "#0d0887"
                        ],
                        [
                          0.1111111111111111,
                          "#46039f"
                        ],
                        [
                          0.2222222222222222,
                          "#7201a8"
                        ],
                        [
                          0.3333333333333333,
                          "#9c179e"
                        ],
                        [
                          0.4444444444444444,
                          "#bd3786"
                        ],
                        [
                          0.5555555555555556,
                          "#d8576b"
                        ],
                        [
                          0.6666666666666666,
                          "#ed7953"
                        ],
                        [
                          0.7777777777777778,
                          "#fb9f3a"
                        ],
                        [
                          0.8888888888888888,
                          "#fdca26"
                        ],
                        [
                          1,
                          "#f0f921"
                        ]
                      ]
                    },
                    "colorway": [
                      "#636efa",
                      "#EF553B",
                      "#00cc96",
                      "#ab63fa",
                      "#FFA15A",
                      "#19d3f3",
                      "#FF6692",
                      "#B6E880",
                      "#FF97FF",
                      "#FECB52"
                    ],
                    "font": {
                      "color": "#2a3f5f"
                    },
                    "geo": {
                      "bgcolor": "white",
                      "lakecolor": "white",
                      "landcolor": "#E5ECF6",
                      "showlakes": true,
                      "showland": true,
                      "subunitcolor": "white"
                    },
                    "hoverlabel": {
                      "align": "left"
                    },
                    "hovermode": "closest",
                    "mapbox": {
                      "style": "light"
                    },
                    "paper_bgcolor": "white",
                    "plot_bgcolor": "#E5ECF6",
                    "polar": {
                      "angularaxis": {
                        "gridcolor": "white",
                        "linecolor": "white",
                        "ticks": ""
                      },
                      "bgcolor": "#E5ECF6",
                      "radialaxis": {
                        "gridcolor": "white",
                        "linecolor": "white",
                        "ticks": ""
                      }
                    },
                    "scene": {
                      "xaxis": {
                        "backgroundcolor": "#E5ECF6",
                        "gridcolor": "white",
                        "gridwidth": 2,
                        "linecolor": "white",
                        "showbackground": true,
                        "ticks": "",
                        "zerolinecolor": "white"
                      },
                      "yaxis": {
                        "backgroundcolor": "#E5ECF6",
                        "gridcolor": "white",
                        "gridwidth": 2,
                        "linecolor": "white",
                        "showbackground": true,
                        "ticks": "",
                        "zerolinecolor": "white"
                      },
                      "zaxis": {
                        "backgroundcolor": "#E5ECF6",
                        "gridcolor": "white",
                        "gridwidth": 2,
                        "linecolor": "white",
                        "showbackground": true,
                        "ticks": "",
                        "zerolinecolor": "white"
                      }
                    },
                    "shapedefaults": {
                      "line": {
                        "color": "#2a3f5f"
                      }
                    },
                    "ternary": {
                      "aaxis": {
                        "gridcolor": "white",
                        "linecolor": "white",
                        "ticks": ""
                      },
                      "baxis": {
                        "gridcolor": "white",
                        "linecolor": "white",
                        "ticks": ""
                      },
                      "bgcolor": "#E5ECF6",
                      "caxis": {
                        "gridcolor": "white",
                        "linecolor": "white",
                        "ticks": ""
                      }
                    },
                    "title": {
                      "x": 0.05
                    },
                    "xaxis": {
                      "automargin": true,
                      "gridcolor": "white",
                      "linecolor": "white",
                      "ticks": "",
                      "title": {
                        "standoff": 15
                      },
                      "zerolinecolor": "white",
                      "zerolinewidth": 2
                    },
                    "yaxis": {
                      "automargin": true,
                      "gridcolor": "white",
                      "linecolor": "white",
                      "ticks": "",
                      "title": {
                        "standoff": 15
                      },
                      "zerolinecolor": "white",
                      "zerolinewidth": 2
                    }
                  }
                },
                "width": 500,
                "xaxis": {
                  "dtick": 1,
                  "gridcolor": "rgb(0, 0, 0)",
                  "side": "top",
                  "ticks": "",
                  "title": {
                    "text": "Predicted Label"
                  }
                },
                "yaxis": {
                  "dtick": 1,
                  "ticks": "",
                  "ticksuffix": "  ",
                  "title": {
                    "text": "True Label"
                  }
                }
              }
            }
          },
          "metadata": {},
          "output_type": "display_data"
        }
      ],
      "source": [
        "# Construct a visualization for the confusion matrix\n",
        "z_test = confusion_matrix(test_true,test_pred)\n",
        "\n",
        "# reformat the matrix\n",
        "z_test[[0,1,2,3],:] = z_test[[3,2,1,0],:]\n",
        "\n",
        "x = ['alert','slight_drowsy','mod_drowsy','very_drowsy']\n",
        "y = ['very_drowsy','mod_drowsy', 'slight_drowsy', 'alert']\n",
        "\n",
        "def format_text(z):\n",
        "    \"\"\"\n",
        "    This function receives the confusion matrix values and formats the text\n",
        "    to display in the matrix with the value and percentage of total data.\n",
        "    \"\"\"\n",
        "    return f'{z}<br>({z / np.sum(z_test) * 100:.1f}%)'\n",
        "\n",
        "z_text = np.vectorize(format_text)(z_test)\n",
        "\n",
        "heatmap = ff.create_annotated_heatmap(z_test, x=x, y=y, annotation_text=z_text, colorscale='plasma')\n",
        "heatmap.update_layout(height=350,width=500,\n",
        "                      xaxis_title=\"Predicted Label\",yaxis_title=\"True Label\")\n",
        "heatmap.show()"
      ]
    },
    {
      "cell_type": "code",
      "execution_count": 127,
      "metadata": {
        "colab": {
          "base_uri": "https://localhost:8080/"
        },
        "id": "54WafkXpPGwy",
        "outputId": "5c067e9e-1857-4b7f-c920-5aa83a150edf"
      },
      "outputs": [
        {
          "name": "stdout",
          "output_type": "stream",
          "text": [
            "[0 0 0 0 0 0 0 0 0 0 0 0 0 0 0 0 0 0 0 0 0 0 0 0 0 0 0 0 0 0 0 0 0 0 0 0 0\n",
            " 0 0 0 0 0 0 0 0 0 0 0 0 0 0 0 0 0 0 0 0 0 0 0 0 0 0 0 0 0 0 0 0 0 0 0 0 0\n",
            " 0 2 2 2 2 2 2 2 2 2 2 2 2 2 2 2 2 2 2 2 2 2 2 2 2 2 2 2 2 2 2 2 2 2 2 2 2\n",
            " 2 2 2 2 2 2 2 2 2 2 2 2 2 2 2 2 2 2 2 2 2 2 2 2 2 2 2 2 2 2 2 2 2 2 2 2 2\n",
            " 2 1 1 1 1 1 1 1 1 1 1 1 1 1 1 1 1 1 1 1 1 1 1 1 1 1 1 1 1 1 1 1 1 1 1 1 1\n",
            " 1 1 1 1 1 1 1 1 1 1 1 1 1 1 1 1 1 1 1 1 1 1 1 1 1 1 1 1 1 1 1 1 1 1 1 1 1\n",
            " 1 1 3 3 3 3 3 3 3 3 3 3 3 3 3 3 3 3 3 3 3 3 3 3 3 3 3 3 3 3 3 3 3 3 3 3 3\n",
            " 3 3 3 3 3 3 3 3 3 3 3 3 3 3 3 3 3 3 3 3 3 3 3 3 3 3 3 3 3 3 3 3 3 3 3 3 3\n",
            " 3 3 3]\n"
          ]
        }
      ],
      "source": [
        "print(test_true)"
      ]
    },
    {
      "cell_type": "code",
      "execution_count": 128,
      "metadata": {
        "colab": {
          "base_uri": "https://localhost:8080/"
        },
        "id": "e3o2B0XhPJHP",
        "outputId": "485762cf-e67e-497b-b079-067857eb12a8"
      },
      "outputs": [
        {
          "name": "stdout",
          "output_type": "stream",
          "text": [
            "[1 1 1 1 1 1 1 1 1 1 1 1 1 1 1 1 1 1 1 1 1 1 1 1 1 1 1 1 1 1 1 1 1 1 1 1 1\n",
            " 1 1 1 1 1 1 1 1 1 1 1 1 1 1 1 1 1 1 1 1 1 1 1 1 1 1 1 1 1 1 1 1 1 1 1 1 1\n",
            " 1 2 2 2 2 2 0 2 2 2 2 2 2 2 2 2 2 2 2 2 2 3 2 2 2 2 2 2 2 2 2 2 2 2 2 2 2\n",
            " 2 2 1 2 2 0 2 2 2 2 2 2 2 2 2 2 2 2 2 2 2 2 2 2 2 2 2 2 2 2 2 2 2 2 2 1 2\n",
            " 2 1 0 0 0 1 1 3 0 1 0 0 0 1 1 0 0 1 0 1 0 0 0 0 0 0 0 0 1 0 0 0 0 1 0 0 1\n",
            " 0 1 1 1 0 1 0 1 0 1 1 1 2 1 0 0 0 0 0 0 0 0 1 0 1 0 0 0 1 0 1 0 0 0 1 0 0\n",
            " 2 3 2 2 2 2 3 2 2 3 2 2 2 2 3 2 2 2 2 3 2 3 2 2 1 2 2 2 2 2 2 2 2 2 2 3 2\n",
            " 2 2 2 2 2 3 2 1 2 2 3 2 2 3 2 2 2 2 3 2 1 2 2 2 2 2 2 2 2 3 1 2 2 2 3 2 2\n",
            " 2 2 2]\n"
          ]
        }
      ],
      "source": [
        "print(test_pred)"
      ]
    }
  ],
  "metadata": {
    "accelerator": "GPU",
    "colab": {
      "gpuType": "T4",
      "provenance": []
    },
    "gpuClass": "standard",
    "kernelspec": {
      "display_name": "base",
      "language": "python",
      "name": "python3"
    },
    "language_info": {
      "codemirror_mode": {
        "name": "ipython",
        "version": 3
      },
      "file_extension": ".py",
      "mimetype": "text/x-python",
      "name": "python",
      "nbconvert_exporter": "python",
      "pygments_lexer": "ipython3",
      "version": "3.9.5"
    },
    "orig_nbformat": 4
  },
  "nbformat": 4,
  "nbformat_minor": 0
}
